{
 "cells": [
  {
   "cell_type": "markdown",
   "metadata": {},
   "source": [
    "### Import libraries"
   ]
  },
  {
   "cell_type": "code",
   "execution_count": 1,
   "metadata": {},
   "outputs": [],
   "source": [
    "import warnings\n",
    "\n",
    "import pandas as pd\n",
    "\n",
    "# Ignore warnings\n",
    "warnings.filterwarnings(\"ignore\")"
   ]
  },
  {
   "cell_type": "markdown",
   "metadata": {},
   "source": [
    "Change directories to get src code"
   ]
  },
  {
   "cell_type": "code",
   "execution_count": 2,
   "metadata": {},
   "outputs": [
    {
     "name": "stdout",
     "output_type": "stream",
     "text": [
      "C:\\Users\\15713\\Desktop\\DS Projects\\Sentiment Analysis on Movie Reviews\\sentiment-analysis-on-movie-reviews\\src\n"
     ]
    }
   ],
   "source": [
    "%cd C:\\Users\\15713\\Desktop\\DS Projects\\Sentiment Analysis on Movie Reviews\\sentiment-analysis-on-movie-reviews\\src"
   ]
  },
  {
   "cell_type": "code",
   "execution_count": 3,
   "metadata": {},
   "outputs": [
    {
     "name": "stderr",
     "output_type": "stream",
     "text": [
      "Using TensorFlow backend.\n"
     ]
    }
   ],
   "source": [
    "import model"
   ]
  },
  {
   "cell_type": "markdown",
   "metadata": {},
   "source": [
    "### Get data"
   ]
  },
  {
   "cell_type": "markdown",
   "metadata": {},
   "source": [
    "Load processed data"
   ]
  },
  {
   "cell_type": "code",
   "execution_count": 4,
   "metadata": {},
   "outputs": [],
   "source": [
    "df = pd.read_csv(\"C:\\\\Users\\\\15713\\\\Desktop\\\\DS Projects\\\\Sentiment Analysis on Movie Reviews\\\\sentiment-analysis-on-movie-reviews\\\\data\\\\processed_movie_reviews.csv\")"
   ]
  },
  {
   "cell_type": "markdown",
   "metadata": {},
   "source": [
    "Train test split the data"
   ]
  },
  {
   "cell_type": "code",
   "execution_count": 5,
   "metadata": {},
   "outputs": [],
   "source": [
    "train, test = model.get_train_test(df)"
   ]
  },
  {
   "cell_type": "markdown",
   "metadata": {},
   "source": [
    "### Build models using training data and cross-validation"
   ]
  },
  {
   "cell_type": "markdown",
   "metadata": {},
   "source": [
    "_Build ML models_"
   ]
  },
  {
   "cell_type": "code",
   "execution_count": 6,
   "metadata": {},
   "outputs": [
    {
     "name": "stdout",
     "output_type": "stream",
     "text": [
      "Best estimator:\n",
      "OneVsRestClassifier(estimator=LogisticRegression(C=10.0, class_weight=None,\n",
      "                                                 dual=False, fit_intercept=True,\n",
      "                                                 intercept_scaling=1,\n",
      "                                                 l1_ratio=None, max_iter=100,\n",
      "                                                 multi_class='auto', n_jobs=-1,\n",
      "                                                 penalty='l2',\n",
      "                                                 random_state=2374,\n",
      "                                                 solver='lbfgs', tol=0.0001,\n",
      "                                                 verbose=0, warm_start=True),\n",
      "                    n_jobs=-1)\n",
      "\n",
      "Best parameters:\n",
      "{'estimator__C': 10.0, 'estimator__solver': 'lbfgs', 'estimator__warm_start': True}\n",
      "\n",
      "Best score:\n",
      "0.8545176076246943\n",
      "\n",
      "Grid scores on training set:\n",
      "0.746 (+/-0.006) for {'estimator__C': 0.01, 'estimator__solver': 'saga', 'estimator__warm_start': True}\n",
      "0.746 (+/-0.006) for {'estimator__C': 0.01, 'estimator__solver': 'saga', 'estimator__warm_start': False}\n",
      "0.746 (+/-0.006) for {'estimator__C': 0.01, 'estimator__solver': 'sag', 'estimator__warm_start': True}\n",
      "0.746 (+/-0.006) for {'estimator__C': 0.01, 'estimator__solver': 'sag', 'estimator__warm_start': False}\n",
      "0.746 (+/-0.006) for {'estimator__C': 0.01, 'estimator__solver': 'lbfgs', 'estimator__warm_start': True}\n",
      "0.746 (+/-0.006) for {'estimator__C': 0.01, 'estimator__solver': 'lbfgs', 'estimator__warm_start': False}\n",
      "0.807 (+/-0.004) for {'estimator__C': 0.1, 'estimator__solver': 'saga', 'estimator__warm_start': True}\n",
      "0.807 (+/-0.004) for {'estimator__C': 0.1, 'estimator__solver': 'saga', 'estimator__warm_start': False}\n",
      "0.807 (+/-0.004) for {'estimator__C': 0.1, 'estimator__solver': 'sag', 'estimator__warm_start': True}\n",
      "0.807 (+/-0.004) for {'estimator__C': 0.1, 'estimator__solver': 'sag', 'estimator__warm_start': False}\n",
      "0.807 (+/-0.004) for {'estimator__C': 0.1, 'estimator__solver': 'lbfgs', 'estimator__warm_start': True}\n",
      "0.807 (+/-0.004) for {'estimator__C': 0.1, 'estimator__solver': 'lbfgs', 'estimator__warm_start': False}\n",
      "0.851 (+/-0.004) for {'estimator__C': 1.0, 'estimator__solver': 'saga', 'estimator__warm_start': True}\n",
      "0.851 (+/-0.004) for {'estimator__C': 1.0, 'estimator__solver': 'saga', 'estimator__warm_start': False}\n",
      "0.851 (+/-0.004) for {'estimator__C': 1.0, 'estimator__solver': 'sag', 'estimator__warm_start': True}\n",
      "0.851 (+/-0.004) for {'estimator__C': 1.0, 'estimator__solver': 'sag', 'estimator__warm_start': False}\n",
      "0.851 (+/-0.004) for {'estimator__C': 1.0, 'estimator__solver': 'lbfgs', 'estimator__warm_start': True}\n",
      "0.851 (+/-0.004) for {'estimator__C': 1.0, 'estimator__solver': 'lbfgs', 'estimator__warm_start': False}\n",
      "0.854 (+/-0.004) for {'estimator__C': 10.0, 'estimator__solver': 'saga', 'estimator__warm_start': True}\n",
      "0.854 (+/-0.004) for {'estimator__C': 10.0, 'estimator__solver': 'saga', 'estimator__warm_start': False}\n",
      "0.854 (+/-0.004) for {'estimator__C': 10.0, 'estimator__solver': 'sag', 'estimator__warm_start': True}\n",
      "0.854 (+/-0.004) for {'estimator__C': 10.0, 'estimator__solver': 'sag', 'estimator__warm_start': False}\n",
      "0.855 (+/-0.005) for {'estimator__C': 10.0, 'estimator__solver': 'lbfgs', 'estimator__warm_start': True}\n",
      "0.855 (+/-0.005) for {'estimator__C': 10.0, 'estimator__solver': 'lbfgs', 'estimator__warm_start': False}\n",
      "0.853 (+/-0.004) for {'estimator__C': 15.0, 'estimator__solver': 'saga', 'estimator__warm_start': True}\n",
      "0.853 (+/-0.004) for {'estimator__C': 15.0, 'estimator__solver': 'saga', 'estimator__warm_start': False}\n",
      "0.853 (+/-0.004) for {'estimator__C': 15.0, 'estimator__solver': 'sag', 'estimator__warm_start': True}\n",
      "0.853 (+/-0.004) for {'estimator__C': 15.0, 'estimator__solver': 'sag', 'estimator__warm_start': False}\n",
      "0.853 (+/-0.004) for {'estimator__C': 15.0, 'estimator__solver': 'lbfgs', 'estimator__warm_start': True}\n",
      "0.853 (+/-0.004) for {'estimator__C': 15.0, 'estimator__solver': 'lbfgs', 'estimator__warm_start': False}\n",
      "0.851 (+/-0.004) for {'estimator__C': 20.0, 'estimator__solver': 'saga', 'estimator__warm_start': True}\n",
      "0.851 (+/-0.004) for {'estimator__C': 20.0, 'estimator__solver': 'saga', 'estimator__warm_start': False}\n",
      "0.851 (+/-0.004) for {'estimator__C': 20.0, 'estimator__solver': 'sag', 'estimator__warm_start': True}\n",
      "0.851 (+/-0.004) for {'estimator__C': 20.0, 'estimator__solver': 'sag', 'estimator__warm_start': False}\n",
      "0.852 (+/-0.005) for {'estimator__C': 20.0, 'estimator__solver': 'lbfgs', 'estimator__warm_start': True}\n",
      "0.852 (+/-0.005) for {'estimator__C': 20.0, 'estimator__solver': 'lbfgs', 'estimator__warm_start': False}\n",
      "0.850 (+/-0.004) for {'estimator__C': 25.0, 'estimator__solver': 'saga', 'estimator__warm_start': True}\n",
      "0.850 (+/-0.004) for {'estimator__C': 25.0, 'estimator__solver': 'saga', 'estimator__warm_start': False}\n",
      "0.850 (+/-0.004) for {'estimator__C': 25.0, 'estimator__solver': 'sag', 'estimator__warm_start': True}\n",
      "0.850 (+/-0.004) for {'estimator__C': 25.0, 'estimator__solver': 'sag', 'estimator__warm_start': False}\n",
      "0.852 (+/-0.004) for {'estimator__C': 25.0, 'estimator__solver': 'lbfgs', 'estimator__warm_start': True}\n",
      "0.852 (+/-0.004) for {'estimator__C': 25.0, 'estimator__solver': 'lbfgs', 'estimator__warm_start': False}\n",
      "0.849 (+/-0.004) for {'estimator__C': 30.0, 'estimator__solver': 'saga', 'estimator__warm_start': True}\n",
      "0.849 (+/-0.004) for {'estimator__C': 30.0, 'estimator__solver': 'saga', 'estimator__warm_start': False}\n",
      "0.849 (+/-0.004) for {'estimator__C': 30.0, 'estimator__solver': 'sag', 'estimator__warm_start': True}\n",
      "0.849 (+/-0.004) for {'estimator__C': 30.0, 'estimator__solver': 'sag', 'estimator__warm_start': False}\n",
      "0.851 (+/-0.005) for {'estimator__C': 30.0, 'estimator__solver': 'lbfgs', 'estimator__warm_start': True}\n",
      "0.851 (+/-0.005) for {'estimator__C': 30.0, 'estimator__solver': 'lbfgs', 'estimator__warm_start': False}\n",
      "0.846 (+/-0.004) for {'estimator__C': 50.0, 'estimator__solver': 'saga', 'estimator__warm_start': True}\n",
      "0.846 (+/-0.004) for {'estimator__C': 50.0, 'estimator__solver': 'saga', 'estimator__warm_start': False}\n",
      "0.846 (+/-0.004) for {'estimator__C': 50.0, 'estimator__solver': 'sag', 'estimator__warm_start': True}\n",
      "0.846 (+/-0.004) for {'estimator__C': 50.0, 'estimator__solver': 'sag', 'estimator__warm_start': False}\n",
      "0.850 (+/-0.004) for {'estimator__C': 50.0, 'estimator__solver': 'lbfgs', 'estimator__warm_start': True}\n",
      "0.850 (+/-0.004) for {'estimator__C': 50.0, 'estimator__solver': 'lbfgs', 'estimator__warm_start': False}\n",
      "0.843 (+/-0.004) for {'estimator__C': 100.0, 'estimator__solver': 'saga', 'estimator__warm_start': True}\n",
      "0.843 (+/-0.004) for {'estimator__C': 100.0, 'estimator__solver': 'saga', 'estimator__warm_start': False}\n",
      "0.842 (+/-0.004) for {'estimator__C': 100.0, 'estimator__solver': 'sag', 'estimator__warm_start': True}\n",
      "0.842 (+/-0.004) for {'estimator__C': 100.0, 'estimator__solver': 'sag', 'estimator__warm_start': False}\n",
      "0.849 (+/-0.004) for {'estimator__C': 100.0, 'estimator__solver': 'lbfgs', 'estimator__warm_start': True}\n",
      "0.849 (+/-0.004) for {'estimator__C': 100.0, 'estimator__solver': 'lbfgs', 'estimator__warm_start': False}\n",
      "\n"
     ]
    }
   ],
   "source": [
    "norm_logistic_model = model.build_ML_model(train.PhraseNorm, train.Sentiment, \"norm\", \"logistic\")"
   ]
  },
  {
   "cell_type": "code",
   "execution_count": 7,
   "metadata": {
    "scrolled": false
   },
   "outputs": [
    {
     "name": "stdout",
     "output_type": "stream",
     "text": [
      "Best estimator:\n",
      "OneVsRestClassifier(estimator=DecisionTreeClassifier(ccp_alpha=0.0,\n",
      "                                                     class_weight=None,\n",
      "                                                     criterion='gini',\n",
      "                                                     max_depth=None,\n",
      "                                                     max_features='sqrt',\n",
      "                                                     max_leaf_nodes=None,\n",
      "                                                     min_impurity_decrease=0.0,\n",
      "                                                     min_impurity_split=None,\n",
      "                                                     min_samples_leaf=5,\n",
      "                                                     min_samples_split=25,\n",
      "                                                     min_weight_fraction_leaf=0.0,\n",
      "                                                     presort='deprecated',\n",
      "                                                     random_state=8743,\n",
      "                                                     splitter='best'),\n",
      "                    n_jobs=-1)\n",
      "\n",
      "Best parameters:\n",
      "{'estimator__class_weight': None, 'estimator__criterion': 'gini', 'estimator__max_features': 'sqrt', 'estimator__min_samples_split': 25}\n",
      "\n",
      "Best score:\n",
      "0.7516970200866211\n",
      "\n",
      "Grid scores on training set:\n",
      "0.697 (+/-0.006) for {'estimator__class_weight': 'balanced', 'estimator__criterion': 'gini', 'estimator__max_features': None, 'estimator__min_samples_split': 10}\n",
      "0.711 (+/-0.007) for {'estimator__class_weight': 'balanced', 'estimator__criterion': 'gini', 'estimator__max_features': None, 'estimator__min_samples_split': 25}\n",
      "0.742 (+/-0.008) for {'estimator__class_weight': 'balanced', 'estimator__criterion': 'gini', 'estimator__max_features': 'sqrt', 'estimator__min_samples_split': 10}\n",
      "0.743 (+/-0.007) for {'estimator__class_weight': 'balanced', 'estimator__criterion': 'gini', 'estimator__max_features': 'sqrt', 'estimator__min_samples_split': 25}\n",
      "0.693 (+/-0.006) for {'estimator__class_weight': 'balanced', 'estimator__criterion': 'entropy', 'estimator__max_features': None, 'estimator__min_samples_split': 10}\n",
      "0.707 (+/-0.007) for {'estimator__class_weight': 'balanced', 'estimator__criterion': 'entropy', 'estimator__max_features': None, 'estimator__min_samples_split': 25}\n",
      "0.743 (+/-0.009) for {'estimator__class_weight': 'balanced', 'estimator__criterion': 'entropy', 'estimator__max_features': 'sqrt', 'estimator__min_samples_split': 10}\n",
      "0.743 (+/-0.010) for {'estimator__class_weight': 'balanced', 'estimator__criterion': 'entropy', 'estimator__max_features': 'sqrt', 'estimator__min_samples_split': 25}\n",
      "0.722 (+/-0.006) for {'estimator__class_weight': None, 'estimator__criterion': 'gini', 'estimator__max_features': None, 'estimator__min_samples_split': 10}\n",
      "0.737 (+/-0.008) for {'estimator__class_weight': None, 'estimator__criterion': 'gini', 'estimator__max_features': None, 'estimator__min_samples_split': 25}\n",
      "0.751 (+/-0.009) for {'estimator__class_weight': None, 'estimator__criterion': 'gini', 'estimator__max_features': 'sqrt', 'estimator__min_samples_split': 10}\n",
      "0.752 (+/-0.011) for {'estimator__class_weight': None, 'estimator__criterion': 'gini', 'estimator__max_features': 'sqrt', 'estimator__min_samples_split': 25}\n",
      "0.702 (+/-0.009) for {'estimator__class_weight': None, 'estimator__criterion': 'entropy', 'estimator__max_features': None, 'estimator__min_samples_split': 10}\n",
      "0.716 (+/-0.010) for {'estimator__class_weight': None, 'estimator__criterion': 'entropy', 'estimator__max_features': None, 'estimator__min_samples_split': 25}\n",
      "0.746 (+/-0.006) for {'estimator__class_weight': None, 'estimator__criterion': 'entropy', 'estimator__max_features': 'sqrt', 'estimator__min_samples_split': 10}\n",
      "0.747 (+/-0.009) for {'estimator__class_weight': None, 'estimator__criterion': 'entropy', 'estimator__max_features': 'sqrt', 'estimator__min_samples_split': 25}\n",
      "\n"
     ]
    }
   ],
   "source": [
    "norm_decision_tree_model = model.build_ML_model(train.PhraseNorm, train.Sentiment, \"norm\", \"decision_tree\")"
   ]
  },
  {
   "cell_type": "code",
   "execution_count": 8,
   "metadata": {},
   "outputs": [
    {
     "name": "stdout",
     "output_type": "stream",
     "text": [
      "Best estimator:\n",
      "OneVsRestClassifier(estimator=RandomForestClassifier(bootstrap=True,\n",
      "                                                     ccp_alpha=0.0,\n",
      "                                                     class_weight=None,\n",
      "                                                     criterion='gini',\n",
      "                                                     max_depth=None,\n",
      "                                                     max_features='sqrt',\n",
      "                                                     max_leaf_nodes=None,\n",
      "                                                     max_samples=None,\n",
      "                                                     min_impurity_decrease=0.0,\n",
      "                                                     min_impurity_split=None,\n",
      "                                                     min_samples_leaf=5,\n",
      "                                                     min_samples_split=10,\n",
      "                                                     min_weight_fraction_leaf=0.0,\n",
      "                                                     n_estimators=100,\n",
      "                                                     n_jobs=-1, oob_score=False,\n",
      "                                                     random_state=2947,\n",
      "                                                     verbose=0,\n",
      "                                                     warm_start=False),\n",
      "                    n_jobs=-1)\n",
      "\n",
      "Best parameters:\n",
      "{'estimator__class_weight': None, 'estimator__criterion': 'gini', 'estimator__min_samples_split': 10}\n",
      "\n",
      "Best score:\n",
      "0.8274139606701876\n",
      "\n",
      "Grid scores on training set:\n",
      "0.815 (+/-0.001) for {'estimator__class_weight': 'balanced', 'estimator__criterion': 'gini', 'estimator__min_samples_split': 10}\n",
      "0.815 (+/-0.001) for {'estimator__class_weight': 'balanced', 'estimator__criterion': 'gini', 'estimator__min_samples_split': 25}\n",
      "0.818 (+/-0.001) for {'estimator__class_weight': 'balanced', 'estimator__criterion': 'entropy', 'estimator__min_samples_split': 10}\n",
      "0.817 (+/-0.002) for {'estimator__class_weight': 'balanced', 'estimator__criterion': 'entropy', 'estimator__min_samples_split': 25}\n",
      "0.827 (+/-0.001) for {'estimator__class_weight': None, 'estimator__criterion': 'gini', 'estimator__min_samples_split': 10}\n",
      "0.827 (+/-0.001) for {'estimator__class_weight': None, 'estimator__criterion': 'gini', 'estimator__min_samples_split': 25}\n",
      "0.827 (+/-0.001) for {'estimator__class_weight': None, 'estimator__criterion': 'entropy', 'estimator__min_samples_split': 10}\n",
      "0.827 (+/-0.001) for {'estimator__class_weight': None, 'estimator__criterion': 'entropy', 'estimator__min_samples_split': 25}\n",
      "\n"
     ]
    }
   ],
   "source": [
    "norm_random_forest_model = model.build_ML_model(train.PhraseNorm, train.Sentiment, \"norm\", \"random_forest\", 5)"
   ]
  },
  {
   "cell_type": "markdown",
   "metadata": {},
   "source": [
    "_Build DL model_"
   ]
  },
  {
   "cell_type": "code",
   "execution_count": 6,
   "metadata": {
    "scrolled": false
   },
   "outputs": [
    {
     "name": "stdout",
     "output_type": "stream",
     "text": [
      "Model: \"sequential_1\"\n",
      "_________________________________________________________________\n",
      "Layer (type)                 Output Shape              Param #   \n",
      "=================================================================\n",
      "dense_1 (Dense)              (None, 32)                487264    \n",
      "_________________________________________________________________\n",
      "dense_2 (Dense)              (None, 5)                 165       \n",
      "=================================================================\n",
      "Total params: 487,429\n",
      "Trainable params: 487,429\n",
      "Non-trainable params: 0\n",
      "_________________________________________________________________\n",
      "Epoch 1/500\n",
      "195/195 [==============================] - 1220s 6s/step - loss: 1.3293 - acc: 0.5093 - val_loss: 1.1584 - val_acc: 0.5342\n",
      "Epoch 2/500\n",
      "195/195 [==============================] - 1172s 6s/step - loss: 1.0308 - acc: 0.5827 - val_loss: 1.0118 - val_acc: 0.6014\n",
      "Epoch 3/500\n",
      "195/195 [==============================] - 1174s 6s/step - loss: 0.8870 - acc: 0.6382 - val_loss: 0.9996 - val_acc: 0.6228\n",
      "Epoch 4/500\n",
      "195/195 [==============================] - 1166s 6s/step - loss: 0.8071 - acc: 0.6692 - val_loss: 0.8432 - val_acc: 0.6370\n",
      "Epoch 5/500\n",
      "195/195 [==============================] - 1170s 6s/step - loss: 0.7549 - acc: 0.6920 - val_loss: 0.9309 - val_acc: 0.6412\n",
      "Epoch 6/500\n",
      "195/195 [==============================] - 1168s 6s/step - loss: 0.7178 - acc: 0.7072 - val_loss: 0.8744 - val_acc: 0.6442\n",
      "Epoch 7/500\n",
      "195/195 [==============================] - 1164s 6s/step - loss: 0.6896 - acc: 0.7176 - val_loss: 0.8698 - val_acc: 0.6438\n",
      "Epoch 8/500\n",
      "195/195 [==============================] - 1169s 6s/step - loss: 0.6672 - acc: 0.7254 - val_loss: 0.8854 - val_acc: 0.6444\n",
      "Epoch 9/500\n",
      "195/195 [==============================] - 1174s 6s/step - loss: 0.6489 - acc: 0.7317 - val_loss: 0.8954 - val_acc: 0.6446\n",
      "Epoch 10/500\n",
      "195/195 [==============================] - 1165s 6s/step - loss: 0.6329 - acc: 0.7368 - val_loss: 0.8705 - val_acc: 0.6455\n",
      "Epoch 11/500\n",
      "195/195 [==============================] - 1168s 6s/step - loss: 0.6198 - acc: 0.7415 - val_loss: 0.8780 - val_acc: 0.6440\n",
      "Epoch 12/500\n",
      "195/195 [==============================] - 1180s 6s/step - loss: 0.6079 - acc: 0.7457 - val_loss: 1.0423 - val_acc: 0.6439\n",
      "Epoch 13/500\n",
      "195/195 [==============================] - 1174s 6s/step - loss: 0.5970 - acc: 0.7496 - val_loss: 0.9585 - val_acc: 0.6452\n",
      "Epoch 14/500\n",
      "195/195 [==============================] - 1168s 6s/step - loss: 0.5875 - acc: 0.7524 - val_loss: 0.9952 - val_acc: 0.6449\n",
      "Epoch 15/500\n",
      "195/195 [==============================] - 1170s 6s/step - loss: 0.5789 - acc: 0.7545 - val_loss: 1.0182 - val_acc: 0.6438\n",
      "Epoch 16/500\n",
      "195/195 [==============================] - 1172s 6s/step - loss: 0.5709 - acc: 0.7585 - val_loss: 0.9392 - val_acc: 0.6418\n",
      "Epoch 17/500\n",
      "195/195 [==============================] - 1167s 6s/step - loss: 0.5634 - acc: 0.7612 - val_loss: 1.0015 - val_acc: 0.6427\n",
      "Epoch 18/500\n",
      "195/195 [==============================] - 1165s 6s/step - loss: 0.5564 - acc: 0.7636 - val_loss: 1.0764 - val_acc: 0.6425\n",
      "Epoch 19/500\n",
      "195/195 [==============================] - 1166s 6s/step - loss: 0.5496 - acc: 0.7652 - val_loss: 1.0389 - val_acc: 0.6417\n",
      "Epoch 20/500\n",
      "195/195 [==============================] - 1163s 6s/step - loss: 0.5436 - acc: 0.7671 - val_loss: 0.9768 - val_acc: 0.6433\n",
      "Epoch 21/500\n",
      "195/195 [==============================] - 1167s 6s/step - loss: 0.5374 - acc: 0.7698 - val_loss: 1.0372 - val_acc: 0.6414\n",
      "Epoch 22/500\n",
      "195/195 [==============================] - 1169s 6s/step - loss: 0.5319 - acc: 0.7711 - val_loss: 1.0339 - val_acc: 0.6429\n",
      "Epoch 23/500\n",
      "195/195 [==============================] - 1171s 6s/step - loss: 0.5266 - acc: 0.7728 - val_loss: 1.0711 - val_acc: 0.6421\n",
      "Epoch 24/500\n",
      "195/195 [==============================] - 1165s 6s/step - loss: 0.5211 - acc: 0.7753 - val_loss: 1.0337 - val_acc: 0.6401\n",
      "Epoch 25/500\n",
      "195/195 [==============================] - 1162s 6s/step - loss: 0.5161 - acc: 0.7771 - val_loss: 1.0407 - val_acc: 0.6414\n",
      "Epoch 26/500\n",
      "195/195 [==============================] - 1172s 6s/step - loss: 0.5110 - acc: 0.7796 - val_loss: 1.2151 - val_acc: 0.6400\n",
      "Epoch 27/500\n",
      "195/195 [==============================] - 1165s 6s/step - loss: 0.5064 - acc: 0.7799 - val_loss: 1.0921 - val_acc: 0.6399\n",
      "Epoch 28/500\n",
      "195/195 [==============================] - 1170s 6s/step - loss: 0.5015 - acc: 0.7825 - val_loss: 1.0650 - val_acc: 0.6408\n",
      "Epoch 29/500\n",
      "195/195 [==============================] - 1167s 6s/step - loss: 0.4970 - acc: 0.7843 - val_loss: 1.0070 - val_acc: 0.6394\n",
      "Epoch 30/500\n",
      "195/195 [==============================] - 1168s 6s/step - loss: 0.4924 - acc: 0.7855 - val_loss: 1.1220 - val_acc: 0.6368\n"
     ]
    },
    {
     "data": {
      "image/png": "[encoded data removed]",
      "text/plain": [
       "<Figure size 432x288 with 1 Axes>"
      ]
     },
     "metadata": {
      "needs_background": "light"
     },
     "output_type": "display_data"
    }
   ],
   "source": [
    "norm_DL_model = model.build_DL_model(train.PhraseNorm, train.Sentiment, \"norm\")"
   ]
  },
  {
   "cell_type": "markdown",
   "metadata": {},
   "source": [
    "_Build RNN model_"
   ]
  },
  {
   "cell_type": "code",
   "execution_count": null,
   "metadata": {},
   "outputs": [],
   "source": []
  },
  {
   "cell_type": "markdown",
   "metadata": {},
   "source": [
    "_Build LSTM model_"
   ]
  },
  {
   "cell_type": "code",
   "execution_count": null,
   "metadata": {},
   "outputs": [],
   "source": []
  }
 ],
 "metadata": {
  "kernelspec": {
   "display_name": "Python 3",
   "language": "python",
   "name": "python3"
  },
  "language_info": {
   "codemirror_mode": {
    "name": "ipython",
    "version": 3
   },
   "file_extension": ".py",
   "mimetype": "text/x-python",
   "name": "python",
   "nbconvert_exporter": "python",
   "pygments_lexer": "ipython3",
   "version": "3.7.4"
  }
 },
 "nbformat": 4,
 "nbformat_minor": 2
}
