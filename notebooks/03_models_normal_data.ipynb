{
 "cells": [
  {
   "cell_type": "markdown",
   "metadata": {},
   "source": [
    "### Import libraries"
   ]
  },
  {
   "cell_type": "code",
   "execution_count": 1,
   "metadata": {},
   "outputs": [],
   "source": [
    "import warnings\n",
    "\n",
    "import pandas as pd\n",
    "\n",
    "# Ignore warnings\n",
    "warnings.filterwarnings(\"ignore\")"
   ]
  },
  {
   "cell_type": "markdown",
   "metadata": {},
   "source": [
    "Change directories to get src code"
   ]
  },
  {
   "cell_type": "code",
   "execution_count": 2,
   "metadata": {},
   "outputs": [
    {
     "name": "stdout",
     "output_type": "stream",
     "text": [
      "C:\\Users\\15713\\Desktop\\DS Projects\\Sentiment Analysis on Movie Reviews\\sentiment-analysis-on-movie-reviews\\src\n"
     ]
    }
   ],
   "source": [
    "%cd C:\\Users\\15713\\Desktop\\DS Projects\\Sentiment Analysis on Movie Reviews\\sentiment-analysis-on-movie-reviews\\src"
   ]
  },
  {
   "cell_type": "code",
   "execution_count": 3,
   "metadata": {},
   "outputs": [
    {
     "name": "stderr",
     "output_type": "stream",
     "text": [
      "Using TensorFlow backend.\n"
     ]
    }
   ],
   "source": [
    "import model"
   ]
  },
  {
   "cell_type": "markdown",
   "metadata": {},
   "source": [
    "### Get data"
   ]
  },
  {
   "cell_type": "markdown",
   "metadata": {},
   "source": [
    "Load processed data"
   ]
  },
  {
   "cell_type": "code",
   "execution_count": 4,
   "metadata": {},
   "outputs": [],
   "source": [
    "df = pd.read_csv(\"C:\\\\Users\\\\15713\\\\Desktop\\\\DS Projects\\\\Sentiment Analysis on Movie Reviews\\\\sentiment-analysis-on-movie-reviews\\\\data\\\\processed_movie_reviews.csv\")"
   ]
  },
  {
   "cell_type": "markdown",
   "metadata": {},
   "source": [
    "Train test split the data"
   ]
  },
  {
   "cell_type": "code",
   "execution_count": 5,
   "metadata": {},
   "outputs": [],
   "source": [
    "train, test = model.get_train_test(df)"
   ]
  },
  {
   "cell_type": "markdown",
   "metadata": {},
   "source": [
    "### Build models using training data and cross-validation"
   ]
  },
  {
   "cell_type": "markdown",
   "metadata": {},
   "source": [
    "_Build ML models_"
   ]
  },
  {
   "cell_type": "code",
   "execution_count": 6,
   "metadata": {},
   "outputs": [
    {
     "name": "stdout",
     "output_type": "stream",
     "text": [
      "Best estimator:\n",
      "OneVsRestClassifier(estimator=LogisticRegression(C=10.0, class_weight=None,\n",
      "                                                 dual=False, fit_intercept=True,\n",
      "                                                 intercept_scaling=1,\n",
      "                                                 l1_ratio=None, max_iter=100,\n",
      "                                                 multi_class='auto', n_jobs=-1,\n",
      "                                                 penalty='l2',\n",
      "                                                 random_state=2374,\n",
      "                                                 solver='lbfgs', tol=0.0001,\n",
      "                                                 verbose=0, warm_start=True),\n",
      "                    n_jobs=-1)\n",
      "\n",
      "Best parameters:\n",
      "{'estimator__C': 10.0, 'estimator__solver': 'lbfgs', 'estimator__warm_start': True}\n",
      "\n",
      "Best score:\n",
      "0.8545176076246943\n",
      "\n",
      "Grid scores on training set:\n",
      "0.746 (+/-0.006) for {'estimator__C': 0.01, 'estimator__solver': 'saga', 'estimator__warm_start': True}\n",
      "0.746 (+/-0.006) for {'estimator__C': 0.01, 'estimator__solver': 'saga', 'estimator__warm_start': False}\n",
      "0.746 (+/-0.006) for {'estimator__C': 0.01, 'estimator__solver': 'sag', 'estimator__warm_start': True}\n",
      "0.746 (+/-0.006) for {'estimator__C': 0.01, 'estimator__solver': 'sag', 'estimator__warm_start': False}\n",
      "0.746 (+/-0.006) for {'estimator__C': 0.01, 'estimator__solver': 'lbfgs', 'estimator__warm_start': True}\n",
      "0.746 (+/-0.006) for {'estimator__C': 0.01, 'estimator__solver': 'lbfgs', 'estimator__warm_start': False}\n",
      "0.807 (+/-0.004) for {'estimator__C': 0.1, 'estimator__solver': 'saga', 'estimator__warm_start': True}\n",
      "0.807 (+/-0.004) for {'estimator__C': 0.1, 'estimator__solver': 'saga', 'estimator__warm_start': False}\n",
      "0.807 (+/-0.004) for {'estimator__C': 0.1, 'estimator__solver': 'sag', 'estimator__warm_start': True}\n",
      "0.807 (+/-0.004) for {'estimator__C': 0.1, 'estimator__solver': 'sag', 'estimator__warm_start': False}\n",
      "0.807 (+/-0.004) for {'estimator__C': 0.1, 'estimator__solver': 'lbfgs', 'estimator__warm_start': True}\n",
      "0.807 (+/-0.004) for {'estimator__C': 0.1, 'estimator__solver': 'lbfgs', 'estimator__warm_start': False}\n",
      "0.851 (+/-0.004) for {'estimator__C': 1.0, 'estimator__solver': 'saga', 'estimator__warm_start': True}\n",
      "0.851 (+/-0.004) for {'estimator__C': 1.0, 'estimator__solver': 'saga', 'estimator__warm_start': False}\n",
      "0.851 (+/-0.004) for {'estimator__C': 1.0, 'estimator__solver': 'sag', 'estimator__warm_start': True}\n",
      "0.851 (+/-0.004) for {'estimator__C': 1.0, 'estimator__solver': 'sag', 'estimator__warm_start': False}\n",
      "0.851 (+/-0.004) for {'estimator__C': 1.0, 'estimator__solver': 'lbfgs', 'estimator__warm_start': True}\n",
      "0.851 (+/-0.004) for {'estimator__C': 1.0, 'estimator__solver': 'lbfgs', 'estimator__warm_start': False}\n",
      "0.854 (+/-0.004) for {'estimator__C': 10.0, 'estimator__solver': 'saga', 'estimator__warm_start': True}\n",
      "0.854 (+/-0.004) for {'estimator__C': 10.0, 'estimator__solver': 'saga', 'estimator__warm_start': False}\n",
      "0.854 (+/-0.004) for {'estimator__C': 10.0, 'estimator__solver': 'sag', 'estimator__warm_start': True}\n",
      "0.854 (+/-0.004) for {'estimator__C': 10.0, 'estimator__solver': 'sag', 'estimator__warm_start': False}\n",
      "0.855 (+/-0.005) for {'estimator__C': 10.0, 'estimator__solver': 'lbfgs', 'estimator__warm_start': True}\n",
      "0.855 (+/-0.005) for {'estimator__C': 10.0, 'estimator__solver': 'lbfgs', 'estimator__warm_start': False}\n",
      "0.853 (+/-0.004) for {'estimator__C': 15.0, 'estimator__solver': 'saga', 'estimator__warm_start': True}\n",
      "0.853 (+/-0.004) for {'estimator__C': 15.0, 'estimator__solver': 'saga', 'estimator__warm_start': False}\n",
      "0.853 (+/-0.004) for {'estimator__C': 15.0, 'estimator__solver': 'sag', 'estimator__warm_start': True}\n",
      "0.853 (+/-0.004) for {'estimator__C': 15.0, 'estimator__solver': 'sag', 'estimator__warm_start': False}\n",
      "0.853 (+/-0.004) for {'estimator__C': 15.0, 'estimator__solver': 'lbfgs', 'estimator__warm_start': True}\n",
      "0.853 (+/-0.004) for {'estimator__C': 15.0, 'estimator__solver': 'lbfgs', 'estimator__warm_start': False}\n",
      "0.851 (+/-0.004) for {'estimator__C': 20.0, 'estimator__solver': 'saga', 'estimator__warm_start': True}\n",
      "0.851 (+/-0.004) for {'estimator__C': 20.0, 'estimator__solver': 'saga', 'estimator__warm_start': False}\n",
      "0.851 (+/-0.004) for {'estimator__C': 20.0, 'estimator__solver': 'sag', 'estimator__warm_start': True}\n",
      "0.851 (+/-0.004) for {'estimator__C': 20.0, 'estimator__solver': 'sag', 'estimator__warm_start': False}\n",
      "0.852 (+/-0.005) for {'estimator__C': 20.0, 'estimator__solver': 'lbfgs', 'estimator__warm_start': True}\n",
      "0.852 (+/-0.005) for {'estimator__C': 20.0, 'estimator__solver': 'lbfgs', 'estimator__warm_start': False}\n",
      "0.850 (+/-0.004) for {'estimator__C': 25.0, 'estimator__solver': 'saga', 'estimator__warm_start': True}\n",
      "0.850 (+/-0.004) for {'estimator__C': 25.0, 'estimator__solver': 'saga', 'estimator__warm_start': False}\n",
      "0.850 (+/-0.004) for {'estimator__C': 25.0, 'estimator__solver': 'sag', 'estimator__warm_start': True}\n",
      "0.850 (+/-0.004) for {'estimator__C': 25.0, 'estimator__solver': 'sag', 'estimator__warm_start': False}\n",
      "0.852 (+/-0.004) for {'estimator__C': 25.0, 'estimator__solver': 'lbfgs', 'estimator__warm_start': True}\n",
      "0.852 (+/-0.004) for {'estimator__C': 25.0, 'estimator__solver': 'lbfgs', 'estimator__warm_start': False}\n",
      "0.849 (+/-0.004) for {'estimator__C': 30.0, 'estimator__solver': 'saga', 'estimator__warm_start': True}\n",
      "0.849 (+/-0.004) for {'estimator__C': 30.0, 'estimator__solver': 'saga', 'estimator__warm_start': False}\n",
      "0.849 (+/-0.004) for {'estimator__C': 30.0, 'estimator__solver': 'sag', 'estimator__warm_start': True}\n",
      "0.849 (+/-0.004) for {'estimator__C': 30.0, 'estimator__solver': 'sag', 'estimator__warm_start': False}\n",
      "0.851 (+/-0.005) for {'estimator__C': 30.0, 'estimator__solver': 'lbfgs', 'estimator__warm_start': True}\n",
      "0.851 (+/-0.005) for {'estimator__C': 30.0, 'estimator__solver': 'lbfgs', 'estimator__warm_start': False}\n",
      "0.846 (+/-0.004) for {'estimator__C': 50.0, 'estimator__solver': 'saga', 'estimator__warm_start': True}\n",
      "0.846 (+/-0.004) for {'estimator__C': 50.0, 'estimator__solver': 'saga', 'estimator__warm_start': False}\n",
      "0.846 (+/-0.004) for {'estimator__C': 50.0, 'estimator__solver': 'sag', 'estimator__warm_start': True}\n",
      "0.846 (+/-0.004) for {'estimator__C': 50.0, 'estimator__solver': 'sag', 'estimator__warm_start': False}\n",
      "0.850 (+/-0.004) for {'estimator__C': 50.0, 'estimator__solver': 'lbfgs', 'estimator__warm_start': True}\n",
      "0.850 (+/-0.004) for {'estimator__C': 50.0, 'estimator__solver': 'lbfgs', 'estimator__warm_start': False}\n",
      "0.843 (+/-0.004) for {'estimator__C': 100.0, 'estimator__solver': 'saga', 'estimator__warm_start': True}\n",
      "0.843 (+/-0.004) for {'estimator__C': 100.0, 'estimator__solver': 'saga', 'estimator__warm_start': False}\n",
      "0.842 (+/-0.004) for {'estimator__C': 100.0, 'estimator__solver': 'sag', 'estimator__warm_start': True}\n",
      "0.842 (+/-0.004) for {'estimator__C': 100.0, 'estimator__solver': 'sag', 'estimator__warm_start': False}\n",
      "0.849 (+/-0.004) for {'estimator__C': 100.0, 'estimator__solver': 'lbfgs', 'estimator__warm_start': True}\n",
      "0.849 (+/-0.004) for {'estimator__C': 100.0, 'estimator__solver': 'lbfgs', 'estimator__warm_start': False}\n",
      "\n"
     ]
    }
   ],
   "source": [
    "norm_logistic_model = model.build_ML_model(train.PhraseNorm, train.Sentiment, \"norm\", \"logistic\")"
   ]
  },
  {
   "cell_type": "code",
   "execution_count": 7,
   "metadata": {
    "scrolled": false
   },
   "outputs": [
    {
     "name": "stdout",
     "output_type": "stream",
     "text": [
      "Best estimator:\n",
      "OneVsRestClassifier(estimator=DecisionTreeClassifier(ccp_alpha=0.0,\n",
      "                                                     class_weight=None,\n",
      "                                                     criterion='gini',\n",
      "                                                     max_depth=None,\n",
      "                                                     max_features='sqrt',\n",
      "                                                     max_leaf_nodes=None,\n",
      "                                                     min_impurity_decrease=0.0,\n",
      "                                                     min_impurity_split=None,\n",
      "                                                     min_samples_leaf=5,\n",
      "                                                     min_samples_split=25,\n",
      "                                                     min_weight_fraction_leaf=0.0,\n",
      "                                                     presort='deprecated',\n",
      "                                                     random_state=8743,\n",
      "                                                     splitter='best'),\n",
      "                    n_jobs=-1)\n",
      "\n",
      "Best parameters:\n",
      "{'estimator__class_weight': None, 'estimator__criterion': 'gini', 'estimator__max_features': 'sqrt', 'estimator__min_samples_split': 25}\n",
      "\n",
      "Best score:\n",
      "0.7516970200866211\n",
      "\n",
      "Grid scores on training set:\n",
      "0.697 (+/-0.006) for {'estimator__class_weight': 'balanced', 'estimator__criterion': 'gini', 'estimator__max_features': None, 'estimator__min_samples_split': 10}\n",
      "0.711 (+/-0.007) for {'estimator__class_weight': 'balanced', 'estimator__criterion': 'gini', 'estimator__max_features': None, 'estimator__min_samples_split': 25}\n",
      "0.742 (+/-0.008) for {'estimator__class_weight': 'balanced', 'estimator__criterion': 'gini', 'estimator__max_features': 'sqrt', 'estimator__min_samples_split': 10}\n",
      "0.743 (+/-0.007) for {'estimator__class_weight': 'balanced', 'estimator__criterion': 'gini', 'estimator__max_features': 'sqrt', 'estimator__min_samples_split': 25}\n",
      "0.693 (+/-0.006) for {'estimator__class_weight': 'balanced', 'estimator__criterion': 'entropy', 'estimator__max_features': None, 'estimator__min_samples_split': 10}\n",
      "0.707 (+/-0.007) for {'estimator__class_weight': 'balanced', 'estimator__criterion': 'entropy', 'estimator__max_features': None, 'estimator__min_samples_split': 25}\n",
      "0.743 (+/-0.009) for {'estimator__class_weight': 'balanced', 'estimator__criterion': 'entropy', 'estimator__max_features': 'sqrt', 'estimator__min_samples_split': 10}\n",
      "0.743 (+/-0.010) for {'estimator__class_weight': 'balanced', 'estimator__criterion': 'entropy', 'estimator__max_features': 'sqrt', 'estimator__min_samples_split': 25}\n",
      "0.722 (+/-0.006) for {'estimator__class_weight': None, 'estimator__criterion': 'gini', 'estimator__max_features': None, 'estimator__min_samples_split': 10}\n",
      "0.737 (+/-0.008) for {'estimator__class_weight': None, 'estimator__criterion': 'gini', 'estimator__max_features': None, 'estimator__min_samples_split': 25}\n",
      "0.751 (+/-0.009) for {'estimator__class_weight': None, 'estimator__criterion': 'gini', 'estimator__max_features': 'sqrt', 'estimator__min_samples_split': 10}\n",
      "0.752 (+/-0.011) for {'estimator__class_weight': None, 'estimator__criterion': 'gini', 'estimator__max_features': 'sqrt', 'estimator__min_samples_split': 25}\n",
      "0.702 (+/-0.009) for {'estimator__class_weight': None, 'estimator__criterion': 'entropy', 'estimator__max_features': None, 'estimator__min_samples_split': 10}\n",
      "0.716 (+/-0.010) for {'estimator__class_weight': None, 'estimator__criterion': 'entropy', 'estimator__max_features': None, 'estimator__min_samples_split': 25}\n",
      "0.746 (+/-0.006) for {'estimator__class_weight': None, 'estimator__criterion': 'entropy', 'estimator__max_features': 'sqrt', 'estimator__min_samples_split': 10}\n",
      "0.747 (+/-0.009) for {'estimator__class_weight': None, 'estimator__criterion': 'entropy', 'estimator__max_features': 'sqrt', 'estimator__min_samples_split': 25}\n",
      "\n"
     ]
    }
   ],
   "source": [
    "norm_decision_tree_model = model.build_ML_model(train.PhraseNorm, train.Sentiment, \"norm\", \"decision_tree\")"
   ]
  },
  {
   "cell_type": "code",
   "execution_count": 8,
   "metadata": {},
   "outputs": [
    {
     "name": "stdout",
     "output_type": "stream",
     "text": [
      "Best estimator:\n",
      "OneVsRestClassifier(estimator=RandomForestClassifier(bootstrap=True,\n",
      "                                                     ccp_alpha=0.0,\n",
      "                                                     class_weight=None,\n",
      "                                                     criterion='gini',\n",
      "                                                     max_depth=None,\n",
      "                                                     max_features='sqrt',\n",
      "                                                     max_leaf_nodes=None,\n",
      "                                                     max_samples=None,\n",
      "                                                     min_impurity_decrease=0.0,\n",
      "                                                     min_impurity_split=None,\n",
      "                                                     min_samples_leaf=5,\n",
      "                                                     min_samples_split=10,\n",
      "                                                     min_weight_fraction_leaf=0.0,\n",
      "                                                     n_estimators=100,\n",
      "                                                     n_jobs=-1, oob_score=False,\n",
      "                                                     random_state=2947,\n",
      "                                                     verbose=0,\n",
      "                                                     warm_start=False),\n",
      "                    n_jobs=-1)\n",
      "\n",
      "Best parameters:\n",
      "{'estimator__class_weight': None, 'estimator__criterion': 'gini', 'estimator__min_samples_split': 10}\n",
      "\n",
      "Best score:\n",
      "0.8274139606701876\n",
      "\n",
      "Grid scores on training set:\n",
      "0.815 (+/-0.001) for {'estimator__class_weight': 'balanced', 'estimator__criterion': 'gini', 'estimator__min_samples_split': 10}\n",
      "0.815 (+/-0.001) for {'estimator__class_weight': 'balanced', 'estimator__criterion': 'gini', 'estimator__min_samples_split': 25}\n",
      "0.818 (+/-0.001) for {'estimator__class_weight': 'balanced', 'estimator__criterion': 'entropy', 'estimator__min_samples_split': 10}\n",
      "0.817 (+/-0.002) for {'estimator__class_weight': 'balanced', 'estimator__criterion': 'entropy', 'estimator__min_samples_split': 25}\n",
      "0.827 (+/-0.001) for {'estimator__class_weight': None, 'estimator__criterion': 'gini', 'estimator__min_samples_split': 10}\n",
      "0.827 (+/-0.001) for {'estimator__class_weight': None, 'estimator__criterion': 'gini', 'estimator__min_samples_split': 25}\n",
      "0.827 (+/-0.001) for {'estimator__class_weight': None, 'estimator__criterion': 'entropy', 'estimator__min_samples_split': 10}\n",
      "0.827 (+/-0.001) for {'estimator__class_weight': None, 'estimator__criterion': 'entropy', 'estimator__min_samples_split': 25}\n",
      "\n"
     ]
    }
   ],
   "source": [
    "norm_random_forest_model = model.build_ML_model(train.PhraseNorm, train.Sentiment, \"norm\", \"random_forest\", 5)"
   ]
  },
  {
   "cell_type": "markdown",
   "metadata": {},
   "source": [
    "_Build DL model_"
   ]
  },
  {
   "cell_type": "code",
   "execution_count": 6,
   "metadata": {
    "scrolled": false
   },
   "outputs": [
    {
     "name": "stdout",
     "output_type": "stream",
     "text": [
      "Model: \"sequential_1\"\n",
      "_________________________________________________________________\n",
      "Layer (type)                 Output Shape              Param #   \n",
      "=================================================================\n",
      "dense_1 (Dense)              (None, 32)                487264    \n",
      "_________________________________________________________________\n",
      "dense_2 (Dense)              (None, 5)                 165       \n",
      "=================================================================\n",
      "Total params: 487,429\n",
      "Trainable params: 487,429\n",
      "Non-trainable params: 0\n",
      "_________________________________________________________________\n",
      "Epoch 1/500\n",
      "195/195 [==============================] - 1220s 6s/step - loss: 1.3293 - acc: 0.5093 - val_loss: 1.1584 - val_acc: 0.5342\n",
      "Epoch 2/500\n",
      "195/195 [==============================] - 1172s 6s/step - loss: 1.0308 - acc: 0.5827 - val_loss: 1.0118 - val_acc: 0.6014\n",
      "Epoch 3/500\n",
      "195/195 [==============================] - 1174s 6s/step - loss: 0.8870 - acc: 0.6382 - val_loss: 0.9996 - val_acc: 0.6228\n",
      "Epoch 4/500\n",
      "195/195 [==============================] - 1166s 6s/step - loss: 0.8071 - acc: 0.6692 - val_loss: 0.8432 - val_acc: 0.6370\n",
      "Epoch 5/500\n",
      "195/195 [==============================] - 1170s 6s/step - loss: 0.7549 - acc: 0.6920 - val_loss: 0.9309 - val_acc: 0.6412\n",
      "Epoch 6/500\n",
      "195/195 [==============================] - 1168s 6s/step - loss: 0.7178 - acc: 0.7072 - val_loss: 0.8744 - val_acc: 0.6442\n",
      "Epoch 7/500\n",
      "195/195 [==============================] - 1164s 6s/step - loss: 0.6896 - acc: 0.7176 - val_loss: 0.8698 - val_acc: 0.6438\n",
      "Epoch 8/500\n",
      "195/195 [==============================] - 1169s 6s/step - loss: 0.6672 - acc: 0.7254 - val_loss: 0.8854 - val_acc: 0.6444\n",
      "Epoch 9/500\n",
      "195/195 [==============================] - 1174s 6s/step - loss: 0.6489 - acc: 0.7317 - val_loss: 0.8954 - val_acc: 0.6446\n",
      "Epoch 10/500\n",
      "195/195 [==============================] - 1165s 6s/step - loss: 0.6329 - acc: 0.7368 - val_loss: 0.8705 - val_acc: 0.6455\n",
      "Epoch 11/500\n",
      "195/195 [==============================] - 1168s 6s/step - loss: 0.6198 - acc: 0.7415 - val_loss: 0.8780 - val_acc: 0.6440\n",
      "Epoch 12/500\n",
      "195/195 [==============================] - 1180s 6s/step - loss: 0.6079 - acc: 0.7457 - val_loss: 1.0423 - val_acc: 0.6439\n",
      "Epoch 13/500\n",
      "195/195 [==============================] - 1174s 6s/step - loss: 0.5970 - acc: 0.7496 - val_loss: 0.9585 - val_acc: 0.6452\n",
      "Epoch 14/500\n",
      "195/195 [==============================] - 1168s 6s/step - loss: 0.5875 - acc: 0.7524 - val_loss: 0.9952 - val_acc: 0.6449\n",
      "Epoch 15/500\n",
      "195/195 [==============================] - 1170s 6s/step - loss: 0.5789 - acc: 0.7545 - val_loss: 1.0182 - val_acc: 0.6438\n",
      "Epoch 16/500\n",
      "195/195 [==============================] - 1172s 6s/step - loss: 0.5709 - acc: 0.7585 - val_loss: 0.9392 - val_acc: 0.6418\n",
      "Epoch 17/500\n",
      "195/195 [==============================] - 1167s 6s/step - loss: 0.5634 - acc: 0.7612 - val_loss: 1.0015 - val_acc: 0.6427\n",
      "Epoch 18/500\n",
      "195/195 [==============================] - 1165s 6s/step - loss: 0.5564 - acc: 0.7636 - val_loss: 1.0764 - val_acc: 0.6425\n",
      "Epoch 19/500\n",
      "195/195 [==============================] - 1166s 6s/step - loss: 0.5496 - acc: 0.7652 - val_loss: 1.0389 - val_acc: 0.6417\n",
      "Epoch 20/500\n",
      "195/195 [==============================] - 1163s 6s/step - loss: 0.5436 - acc: 0.7671 - val_loss: 0.9768 - val_acc: 0.6433\n",
      "Epoch 21/500\n",
      "195/195 [==============================] - 1167s 6s/step - loss: 0.5374 - acc: 0.7698 - val_loss: 1.0372 - val_acc: 0.6414\n",
      "Epoch 22/500\n",
      "195/195 [==============================] - 1169s 6s/step - loss: 0.5319 - acc: 0.7711 - val_loss: 1.0339 - val_acc: 0.6429\n",
      "Epoch 23/500\n",
      "195/195 [==============================] - 1171s 6s/step - loss: 0.5266 - acc: 0.7728 - val_loss: 1.0711 - val_acc: 0.6421\n",
      "Epoch 24/500\n",
      "195/195 [==============================] - 1165s 6s/step - loss: 0.5211 - acc: 0.7753 - val_loss: 1.0337 - val_acc: 0.6401\n",
      "Epoch 25/500\n",
      "195/195 [==============================] - 1162s 6s/step - loss: 0.5161 - acc: 0.7771 - val_loss: 1.0407 - val_acc: 0.6414\n",
      "Epoch 26/500\n",
      "195/195 [==============================] - 1172s 6s/step - loss: 0.5110 - acc: 0.7796 - val_loss: 1.2151 - val_acc: 0.6400\n",
      "Epoch 27/500\n",
      "195/195 [==============================] - 1165s 6s/step - loss: 0.5064 - acc: 0.7799 - val_loss: 1.0921 - val_acc: 0.6399\n",
      "Epoch 28/500\n",
      "195/195 [==============================] - 1170s 6s/step - loss: 0.5015 - acc: 0.7825 - val_loss: 1.0650 - val_acc: 0.6408\n",
      "Epoch 29/500\n",
      "195/195 [==============================] - 1167s 6s/step - loss: 0.4970 - acc: 0.7843 - val_loss: 1.0070 - val_acc: 0.6394\n",
      "Epoch 30/500\n",
      "195/195 [==============================] - 1168s 6s/step - loss: 0.4924 - acc: 0.7855 - val_loss: 1.1220 - val_acc: 0.6368\n"
     ]
    },
    {
     "data": {
      "image/png": "[encoded data removed]",
      "text/plain": [
       "<Figure size 432x288 with 1 Axes>"
      ]
     },
     "metadata": {
      "needs_background": "light"
     },
     "output_type": "display_data"
    }
   ],
   "source": [
    "norm_DL_model = model.build_DL_model(train.PhraseNorm, train.Sentiment, \"norm\")"
   ]
  },
  {
   "cell_type": "markdown",
   "metadata": {},
   "source": [
    "_Build RNN model_"
   ]
  },
  {
   "cell_type": "code",
   "execution_count": 6,
   "metadata": {
    "scrolled": false
   },
   "outputs": [
    {
     "name": "stdout",
     "output_type": "stream",
     "text": [
      "Model: \"sequential_1\"\n",
      "_________________________________________________________________\n",
      "Layer (type)                 Output Shape              Param #   \n",
      "=================================================================\n",
      "simple_rnn_1 (SimpleRNN)     (None, 32)                488288    \n",
      "_________________________________________________________________\n",
      "dense_1 (Dense)              (None, 5)                 165       \n",
      "=================================================================\n",
      "Total params: 488,453\n",
      "Trainable params: 488,453\n",
      "Non-trainable params: 0\n",
      "_________________________________________________________________\n",
      "Epoch 1/500\n",
      "195/195 [==============================] - 183s 938ms/step - loss: 1.3663 - acc: 0.5058 - val_loss: 1.1609 - val_acc: 0.5202\n",
      "Epoch 2/500\n",
      "195/195 [==============================] - 176s 901ms/step - loss: 1.2057 - acc: 0.5150 - val_loss: 1.0782 - val_acc: 0.5316\n",
      "Epoch 3/500\n",
      "195/195 [==============================] - 178s 915ms/step - loss: 1.1220 - acc: 0.5530 - val_loss: 1.0842 - val_acc: 0.5443\n",
      "Epoch 4/500\n",
      "195/195 [==============================] - 179s 916ms/step - loss: 1.0788 - acc: 0.5651 - val_loss: 0.9806 - val_acc: 0.5960\n",
      "Epoch 5/500\n",
      "195/195 [==============================] - 174s 895ms/step - loss: 1.0074 - acc: 0.5942 - val_loss: 0.9347 - val_acc: 0.5990\n",
      "Epoch 6/500\n",
      "195/195 [==============================] - 178s 913ms/step - loss: 0.9669 - acc: 0.6093 - val_loss: 0.9733 - val_acc: 0.6090\n",
      "Epoch 7/500\n",
      "195/195 [==============================] - 175s 897ms/step - loss: 0.9369 - acc: 0.6199 - val_loss: 1.0656 - val_acc: 0.6097\n",
      "Epoch 8/500\n",
      "195/195 [==============================] - 174s 892ms/step - loss: 0.9302 - acc: 0.6175 - val_loss: 0.8346 - val_acc: 0.6299\n",
      "Epoch 9/500\n",
      "195/195 [==============================] - 147s 755ms/step - loss: 0.8260 - acc: 0.6666 - val_loss: 0.9248 - val_acc: 0.6230\n",
      "Epoch 10/500\n",
      "195/195 [==============================] - 163s 835ms/step - loss: 0.8100 - acc: 0.6708 - val_loss: 0.9770 - val_acc: 0.6299\n",
      "Epoch 11/500\n",
      "195/195 [==============================] - 173s 885ms/step - loss: 0.8209 - acc: 0.6673 - val_loss: 0.9205 - val_acc: 0.6201\n",
      "Epoch 12/500\n",
      "195/195 [==============================] - 173s 889ms/step - loss: 0.8177 - acc: 0.6651 - val_loss: 0.9249 - val_acc: 0.6455\n",
      "Epoch 13/500\n",
      "195/195 [==============================] - 174s 890ms/step - loss: 0.8184 - acc: 0.6658 - val_loss: 0.9142 - val_acc: 0.6462\n",
      "Epoch 14/500\n",
      "195/195 [==============================] - 174s 890ms/step - loss: 0.8134 - acc: 0.6631 - val_loss: 1.0651 - val_acc: 0.6393\n",
      "Epoch 15/500\n",
      "195/195 [==============================] - 175s 895ms/step - loss: 0.8294 - acc: 0.6596 - val_loss: 0.9053 - val_acc: 0.6553\n",
      "Epoch 16/500\n",
      "195/195 [==============================] - 178s 912ms/step - loss: 0.8125 - acc: 0.6732 - val_loss: 0.9355 - val_acc: 0.6406\n",
      "Epoch 17/500\n",
      "195/195 [==============================] - 144s 738ms/step - loss: 0.7084 - acc: 0.7155 - val_loss: 0.9431 - val_acc: 0.6377\n",
      "Epoch 18/500\n",
      "195/195 [==============================] - 163s 836ms/step - loss: 0.7290 - acc: 0.6989 - val_loss: 1.0385 - val_acc: 0.6309\n",
      "Epoch 19/500\n",
      "195/195 [==============================] - 174s 892ms/step - loss: 0.7349 - acc: 0.6961 - val_loss: 0.8004 - val_acc: 0.6413\n",
      "Epoch 20/500\n",
      "195/195 [==============================] - 175s 899ms/step - loss: 0.7419 - acc: 0.6953 - val_loss: 0.9295 - val_acc: 0.6370\n",
      "Epoch 21/500\n",
      "195/195 [==============================] - 174s 894ms/step - loss: 0.7587 - acc: 0.6897 - val_loss: 0.9344 - val_acc: 0.6416\n",
      "Epoch 22/500\n",
      "195/195 [==============================] - 175s 896ms/step - loss: 0.7671 - acc: 0.6822 - val_loss: 0.7002 - val_acc: 0.6429\n",
      "Epoch 23/500\n",
      "195/195 [==============================] - 175s 895ms/step - loss: 0.7666 - acc: 0.6884 - val_loss: 0.8015 - val_acc: 0.6471\n",
      "Epoch 24/500\n",
      "195/195 [==============================] - 175s 896ms/step - loss: 0.7616 - acc: 0.6907 - val_loss: 0.8183 - val_acc: 0.6462\n",
      "Epoch 25/500\n",
      "195/195 [==============================] - 143s 735ms/step - loss: 0.6653 - acc: 0.7268 - val_loss: 0.9414 - val_acc: 0.6296\n",
      "Epoch 26/500\n",
      "195/195 [==============================] - 159s 816ms/step - loss: 0.6968 - acc: 0.7078 - val_loss: 0.9573 - val_acc: 0.6396\n",
      "Epoch 27/500\n",
      "195/195 [==============================] - 173s 888ms/step - loss: 0.6914 - acc: 0.7146 - val_loss: 0.9327 - val_acc: 0.6481\n",
      "Epoch 28/500\n",
      "195/195 [==============================] - 175s 897ms/step - loss: 0.7072 - acc: 0.7062 - val_loss: 0.7477 - val_acc: 0.6439\n",
      "Epoch 29/500\n",
      "195/195 [==============================] - 173s 887ms/step - loss: 0.7250 - acc: 0.6998 - val_loss: 0.7768 - val_acc: 0.6475\n",
      "Epoch 30/500\n",
      "195/195 [==============================] - 175s 898ms/step - loss: 0.7213 - acc: 0.7039 - val_loss: 0.7822 - val_acc: 0.6471\n",
      "Epoch 31/500\n",
      "195/195 [==============================] - 174s 893ms/step - loss: 0.7303 - acc: 0.6987 - val_loss: 1.0731 - val_acc: 0.6462\n",
      "Epoch 32/500\n",
      "195/195 [==============================] - 175s 898ms/step - loss: 0.7328 - acc: 0.6983 - val_loss: 0.8766 - val_acc: 0.6432\n",
      "Epoch 33/500\n",
      "195/195 [==============================] - 146s 747ms/step - loss: 0.6397 - acc: 0.7386 - val_loss: 0.9536 - val_acc: 0.6302\n",
      "Epoch 34/500\n",
      "195/195 [==============================] - 191s 982ms/step - loss: 0.6535 - acc: 0.7308 - val_loss: 1.0034 - val_acc: 0.6582\n",
      "Epoch 35/500\n",
      "195/195 [==============================] - 174s 893ms/step - loss: 0.6606 - acc: 0.7309 - val_loss: 0.8706 - val_acc: 0.6364\n",
      "Epoch 36/500\n",
      "195/195 [==============================] - 177s 908ms/step - loss: 0.6881 - acc: 0.7123 - val_loss: 0.9062 - val_acc: 0.6374\n",
      "Epoch 37/500\n",
      "195/195 [==============================] - 178s 912ms/step - loss: 0.7001 - acc: 0.7018 - val_loss: 0.9297 - val_acc: 0.6217\n",
      "Epoch 38/500\n",
      "195/195 [==============================] - 175s 900ms/step - loss: 0.7070 - acc: 0.7061 - val_loss: 1.0825 - val_acc: 0.6312\n",
      "Epoch 39/500\n",
      "195/195 [==============================] - 177s 908ms/step - loss: 0.7134 - acc: 0.7000 - val_loss: 0.7577 - val_acc: 0.6494\n",
      "Epoch 40/500\n",
      "195/195 [==============================] - 176s 901ms/step - loss: 0.7236 - acc: 0.6937 - val_loss: 0.7180 - val_acc: 0.6481\n",
      "Epoch 41/500\n",
      "195/195 [==============================] - 136s 699ms/step - loss: 0.6344 - acc: 0.7403 - val_loss: 0.9560 - val_acc: 0.6452\n",
      "Epoch 42/500\n",
      "195/195 [==============================] - 153s 787ms/step - loss: 0.6372 - acc: 0.7338 - val_loss: 0.9996 - val_acc: 0.6279\n",
      "Epoch 43/500\n",
      "195/195 [==============================] - 169s 869ms/step - loss: 0.6486 - acc: 0.7297 - val_loss: 1.0398 - val_acc: 0.6335\n",
      "Epoch 44/500\n",
      "195/195 [==============================] - 177s 910ms/step - loss: 0.6690 - acc: 0.7216 - val_loss: 1.0155 - val_acc: 0.6377\n",
      "Epoch 45/500\n",
      "195/195 [==============================] - 177s 907ms/step - loss: 0.6834 - acc: 0.7113 - val_loss: 0.7595 - val_acc: 0.6276\n",
      "Epoch 46/500\n",
      "195/195 [==============================] - 177s 906ms/step - loss: 0.6829 - acc: 0.7139 - val_loss: 0.9229 - val_acc: 0.6445\n",
      "Epoch 47/500\n",
      "195/195 [==============================] - 173s 889ms/step - loss: 0.6974 - acc: 0.7074 - val_loss: 0.7853 - val_acc: 0.6390\n",
      "Epoch 48/500\n",
      "195/195 [==============================] - 174s 893ms/step - loss: 0.7056 - acc: 0.6983 - val_loss: 0.9359 - val_acc: 0.6497\n",
      "Epoch 49/500\n",
      "195/195 [==============================] - 140s 716ms/step - loss: 0.6068 - acc: 0.7507 - val_loss: 0.9644 - val_acc: 0.6445\n",
      "Epoch 50/500\n",
      "195/195 [==============================] - 153s 786ms/step - loss: 0.6268 - acc: 0.7410 - val_loss: 0.9086 - val_acc: 0.6478\n",
      "Epoch 51/500\n",
      "195/195 [==============================] - 172s 881ms/step - loss: 0.6349 - acc: 0.7345 - val_loss: 0.9174 - val_acc: 0.6149\n",
      "Epoch 52/500\n",
      "195/195 [==============================] - 175s 898ms/step - loss: 0.6474 - acc: 0.7308 - val_loss: 0.6465 - val_acc: 0.6423\n",
      "Epoch 53/500\n",
      "195/195 [==============================] - 176s 902ms/step - loss: 0.6797 - acc: 0.7103 - val_loss: 1.1163 - val_acc: 0.6357\n",
      "Epoch 54/500\n",
      "195/195 [==============================] - 175s 898ms/step - loss: 0.6759 - acc: 0.7172 - val_loss: 0.7130 - val_acc: 0.6396\n"
     ]
    },
    {
     "data": {
      "image/png": "[encoded data removed]",
      "text/plain": [
       "<Figure size 432x288 with 1 Axes>"
      ]
     },
     "metadata": {
      "needs_background": "light"
     },
     "output_type": "display_data"
    }
   ],
   "source": [
    "norm_RNN_model = model.build_RNN_model(train.Sentiment, \"norm\")"
   ]
  },
  {
   "cell_type": "markdown",
   "metadata": {},
   "source": [
    "_Build LSTM model_"
   ]
  },
  {
   "cell_type": "code",
   "execution_count": null,
   "metadata": {},
   "outputs": [],
   "source": []
  }
 ],
 "metadata": {
  "kernelspec": {
   "display_name": "Python 3",
   "language": "python",
   "name": "python3"
  },
  "language_info": {
   "codemirror_mode": {
    "name": "ipython",
    "version": 3
   },
   "file_extension": ".py",
   "mimetype": "text/x-python",
   "name": "python",
   "nbconvert_exporter": "python",
   "pygments_lexer": "ipython3",
   "version": "3.7.4"
  }
 },
 "nbformat": 4,
 "nbformat_minor": 2
}
