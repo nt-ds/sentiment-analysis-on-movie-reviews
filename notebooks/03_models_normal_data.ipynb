{
 "cells": [
  {
   "cell_type": "markdown",
   "metadata": {},
   "source": [
    "### Import libraries"
   ]
  },
  {
   "cell_type": "code",
   "execution_count": 1,
   "metadata": {},
   "outputs": [],
   "source": [
    "import warnings\n",
    "\n",
    "import pandas as pd\n",
    "\n",
    "# Ignore warnings\n",
    "warnings.filterwarnings(\"ignore\")"
   ]
  },
  {
   "cell_type": "markdown",
   "metadata": {},
   "source": [
    "Change directories to get src code"
   ]
  },
  {
   "cell_type": "code",
   "execution_count": 2,
   "metadata": {},
   "outputs": [
    {
     "name": "stdout",
     "output_type": "stream",
     "text": [
      "C:\\Users\\15713\\Desktop\\DS Projects\\Sentiment Analysis on Movie Reviews\\sentiment-analysis-on-movie-reviews\\src\n"
     ]
    }
   ],
   "source": [
    "%cd C:\\Users\\15713\\Desktop\\DS Projects\\Sentiment Analysis on Movie Reviews\\sentiment-analysis-on-movie-reviews\\src"
   ]
  },
  {
   "cell_type": "code",
   "execution_count": 3,
   "metadata": {},
   "outputs": [
    {
     "name": "stderr",
     "output_type": "stream",
     "text": [
      "Using TensorFlow backend.\n"
     ]
    }
   ],
   "source": [
    "import model"
   ]
  },
  {
   "cell_type": "markdown",
   "metadata": {},
   "source": [
    "### Get data"
   ]
  },
  {
   "cell_type": "markdown",
   "metadata": {},
   "source": [
    "Load processed data"
   ]
  },
  {
   "cell_type": "code",
   "execution_count": 4,
   "metadata": {},
   "outputs": [],
   "source": [
    "df = pd.read_csv(\"C:\\\\Users\\\\15713\\\\Desktop\\\\DS Projects\\\\Sentiment Analysis on Movie Reviews\\\\sentiment-analysis-on-movie-reviews\\\\data\\\\processed_movie_reviews.csv\")"
   ]
  },
  {
   "cell_type": "markdown",
   "metadata": {},
   "source": [
    "Train test split the data"
   ]
  },
  {
   "cell_type": "code",
   "execution_count": 5,
   "metadata": {},
   "outputs": [],
   "source": [
    "train, test = model.get_train_test(df)"
   ]
  },
  {
   "cell_type": "markdown",
   "metadata": {},
   "source": [
    "### Build models using training data and cross-validation"
   ]
  },
  {
   "cell_type": "markdown",
   "metadata": {},
   "source": [
    "_Build ML models_"
   ]
  },
  {
   "cell_type": "code",
   "execution_count": 6,
   "metadata": {},
   "outputs": [
    {
     "name": "stdout",
     "output_type": "stream",
     "text": [
      "Best estimator:\n",
      "OneVsRestClassifier(estimator=LogisticRegression(C=10.0, class_weight=None,\n",
      "                                                 dual=False, fit_intercept=True,\n",
      "                                                 intercept_scaling=1,\n",
      "                                                 l1_ratio=None, max_iter=100,\n",
      "                                                 multi_class='auto', n_jobs=-1,\n",
      "                                                 penalty='l2',\n",
      "                                                 random_state=2374,\n",
      "                                                 solver='lbfgs', tol=0.0001,\n",
      "                                                 verbose=0, warm_start=True),\n",
      "                    n_jobs=-1)\n",
      "\n",
      "Best parameters:\n",
      "{'estimator__C': 10.0, 'estimator__solver': 'lbfgs', 'estimator__warm_start': True}\n",
      "\n",
      "Best score:\n",
      "0.8545176076246943\n",
      "\n",
      "Grid scores on training set:\n",
      "0.746 (+/-0.006) for {'estimator__C': 0.01, 'estimator__solver': 'saga', 'estimator__warm_start': True}\n",
      "0.746 (+/-0.006) for {'estimator__C': 0.01, 'estimator__solver': 'saga', 'estimator__warm_start': False}\n",
      "0.746 (+/-0.006) for {'estimator__C': 0.01, 'estimator__solver': 'sag', 'estimator__warm_start': True}\n",
      "0.746 (+/-0.006) for {'estimator__C': 0.01, 'estimator__solver': 'sag', 'estimator__warm_start': False}\n",
      "0.746 (+/-0.006) for {'estimator__C': 0.01, 'estimator__solver': 'lbfgs', 'estimator__warm_start': True}\n",
      "0.746 (+/-0.006) for {'estimator__C': 0.01, 'estimator__solver': 'lbfgs', 'estimator__warm_start': False}\n",
      "0.807 (+/-0.004) for {'estimator__C': 0.1, 'estimator__solver': 'saga', 'estimator__warm_start': True}\n",
      "0.807 (+/-0.004) for {'estimator__C': 0.1, 'estimator__solver': 'saga', 'estimator__warm_start': False}\n",
      "0.807 (+/-0.004) for {'estimator__C': 0.1, 'estimator__solver': 'sag', 'estimator__warm_start': True}\n",
      "0.807 (+/-0.004) for {'estimator__C': 0.1, 'estimator__solver': 'sag', 'estimator__warm_start': False}\n",
      "0.807 (+/-0.004) for {'estimator__C': 0.1, 'estimator__solver': 'lbfgs', 'estimator__warm_start': True}\n",
      "0.807 (+/-0.004) for {'estimator__C': 0.1, 'estimator__solver': 'lbfgs', 'estimator__warm_start': False}\n",
      "0.851 (+/-0.004) for {'estimator__C': 1.0, 'estimator__solver': 'saga', 'estimator__warm_start': True}\n",
      "0.851 (+/-0.004) for {'estimator__C': 1.0, 'estimator__solver': 'saga', 'estimator__warm_start': False}\n",
      "0.851 (+/-0.004) for {'estimator__C': 1.0, 'estimator__solver': 'sag', 'estimator__warm_start': True}\n",
      "0.851 (+/-0.004) for {'estimator__C': 1.0, 'estimator__solver': 'sag', 'estimator__warm_start': False}\n",
      "0.851 (+/-0.004) for {'estimator__C': 1.0, 'estimator__solver': 'lbfgs', 'estimator__warm_start': True}\n",
      "0.851 (+/-0.004) for {'estimator__C': 1.0, 'estimator__solver': 'lbfgs', 'estimator__warm_start': False}\n",
      "0.854 (+/-0.004) for {'estimator__C': 10.0, 'estimator__solver': 'saga', 'estimator__warm_start': True}\n",
      "0.854 (+/-0.004) for {'estimator__C': 10.0, 'estimator__solver': 'saga', 'estimator__warm_start': False}\n",
      "0.854 (+/-0.004) for {'estimator__C': 10.0, 'estimator__solver': 'sag', 'estimator__warm_start': True}\n",
      "0.854 (+/-0.004) for {'estimator__C': 10.0, 'estimator__solver': 'sag', 'estimator__warm_start': False}\n",
      "0.855 (+/-0.005) for {'estimator__C': 10.0, 'estimator__solver': 'lbfgs', 'estimator__warm_start': True}\n",
      "0.855 (+/-0.005) for {'estimator__C': 10.0, 'estimator__solver': 'lbfgs', 'estimator__warm_start': False}\n",
      "0.853 (+/-0.004) for {'estimator__C': 15.0, 'estimator__solver': 'saga', 'estimator__warm_start': True}\n",
      "0.853 (+/-0.004) for {'estimator__C': 15.0, 'estimator__solver': 'saga', 'estimator__warm_start': False}\n",
      "0.853 (+/-0.004) for {'estimator__C': 15.0, 'estimator__solver': 'sag', 'estimator__warm_start': True}\n",
      "0.853 (+/-0.004) for {'estimator__C': 15.0, 'estimator__solver': 'sag', 'estimator__warm_start': False}\n",
      "0.853 (+/-0.004) for {'estimator__C': 15.0, 'estimator__solver': 'lbfgs', 'estimator__warm_start': True}\n",
      "0.853 (+/-0.004) for {'estimator__C': 15.0, 'estimator__solver': 'lbfgs', 'estimator__warm_start': False}\n",
      "0.851 (+/-0.004) for {'estimator__C': 20.0, 'estimator__solver': 'saga', 'estimator__warm_start': True}\n",
      "0.851 (+/-0.004) for {'estimator__C': 20.0, 'estimator__solver': 'saga', 'estimator__warm_start': False}\n",
      "0.851 (+/-0.004) for {'estimator__C': 20.0, 'estimator__solver': 'sag', 'estimator__warm_start': True}\n",
      "0.851 (+/-0.004) for {'estimator__C': 20.0, 'estimator__solver': 'sag', 'estimator__warm_start': False}\n",
      "0.852 (+/-0.005) for {'estimator__C': 20.0, 'estimator__solver': 'lbfgs', 'estimator__warm_start': True}\n",
      "0.852 (+/-0.005) for {'estimator__C': 20.0, 'estimator__solver': 'lbfgs', 'estimator__warm_start': False}\n",
      "0.850 (+/-0.004) for {'estimator__C': 25.0, 'estimator__solver': 'saga', 'estimator__warm_start': True}\n",
      "0.850 (+/-0.004) for {'estimator__C': 25.0, 'estimator__solver': 'saga', 'estimator__warm_start': False}\n",
      "0.850 (+/-0.004) for {'estimator__C': 25.0, 'estimator__solver': 'sag', 'estimator__warm_start': True}\n",
      "0.850 (+/-0.004) for {'estimator__C': 25.0, 'estimator__solver': 'sag', 'estimator__warm_start': False}\n",
      "0.852 (+/-0.004) for {'estimator__C': 25.0, 'estimator__solver': 'lbfgs', 'estimator__warm_start': True}\n",
      "0.852 (+/-0.004) for {'estimator__C': 25.0, 'estimator__solver': 'lbfgs', 'estimator__warm_start': False}\n",
      "0.849 (+/-0.004) for {'estimator__C': 30.0, 'estimator__solver': 'saga', 'estimator__warm_start': True}\n",
      "0.849 (+/-0.004) for {'estimator__C': 30.0, 'estimator__solver': 'saga', 'estimator__warm_start': False}\n",
      "0.849 (+/-0.004) for {'estimator__C': 30.0, 'estimator__solver': 'sag', 'estimator__warm_start': True}\n",
      "0.849 (+/-0.004) for {'estimator__C': 30.0, 'estimator__solver': 'sag', 'estimator__warm_start': False}\n",
      "0.851 (+/-0.005) for {'estimator__C': 30.0, 'estimator__solver': 'lbfgs', 'estimator__warm_start': True}\n",
      "0.851 (+/-0.005) for {'estimator__C': 30.0, 'estimator__solver': 'lbfgs', 'estimator__warm_start': False}\n",
      "0.846 (+/-0.004) for {'estimator__C': 50.0, 'estimator__solver': 'saga', 'estimator__warm_start': True}\n",
      "0.846 (+/-0.004) for {'estimator__C': 50.0, 'estimator__solver': 'saga', 'estimator__warm_start': False}\n",
      "0.846 (+/-0.004) for {'estimator__C': 50.0, 'estimator__solver': 'sag', 'estimator__warm_start': True}\n",
      "0.846 (+/-0.004) for {'estimator__C': 50.0, 'estimator__solver': 'sag', 'estimator__warm_start': False}\n",
      "0.850 (+/-0.004) for {'estimator__C': 50.0, 'estimator__solver': 'lbfgs', 'estimator__warm_start': True}\n",
      "0.850 (+/-0.004) for {'estimator__C': 50.0, 'estimator__solver': 'lbfgs', 'estimator__warm_start': False}\n",
      "0.843 (+/-0.004) for {'estimator__C': 100.0, 'estimator__solver': 'saga', 'estimator__warm_start': True}\n",
      "0.843 (+/-0.004) for {'estimator__C': 100.0, 'estimator__solver': 'saga', 'estimator__warm_start': False}\n",
      "0.842 (+/-0.004) for {'estimator__C': 100.0, 'estimator__solver': 'sag', 'estimator__warm_start': True}\n",
      "0.842 (+/-0.004) for {'estimator__C': 100.0, 'estimator__solver': 'sag', 'estimator__warm_start': False}\n",
      "0.849 (+/-0.004) for {'estimator__C': 100.0, 'estimator__solver': 'lbfgs', 'estimator__warm_start': True}\n",
      "0.849 (+/-0.004) for {'estimator__C': 100.0, 'estimator__solver': 'lbfgs', 'estimator__warm_start': False}\n",
      "\n"
     ]
    }
   ],
   "source": [
    "norm_logistic_model = model.build_ML_model(train.PhraseNorm, train.Sentiment, \"norm\", \"logistic\")"
   ]
  },
  {
   "cell_type": "code",
   "execution_count": 7,
   "metadata": {
    "scrolled": false
   },
   "outputs": [
    {
     "name": "stdout",
     "output_type": "stream",
     "text": [
      "Best estimator:\n",
      "OneVsRestClassifier(estimator=DecisionTreeClassifier(ccp_alpha=0.0,\n",
      "                                                     class_weight=None,\n",
      "                                                     criterion='gini',\n",
      "                                                     max_depth=None,\n",
      "                                                     max_features='sqrt',\n",
      "                                                     max_leaf_nodes=None,\n",
      "                                                     min_impurity_decrease=0.0,\n",
      "                                                     min_impurity_split=None,\n",
      "                                                     min_samples_leaf=5,\n",
      "                                                     min_samples_split=25,\n",
      "                                                     min_weight_fraction_leaf=0.0,\n",
      "                                                     presort='deprecated',\n",
      "                                                     random_state=8743,\n",
      "                                                     splitter='best'),\n",
      "                    n_jobs=-1)\n",
      "\n",
      "Best parameters:\n",
      "{'estimator__class_weight': None, 'estimator__criterion': 'gini', 'estimator__max_features': 'sqrt', 'estimator__min_samples_split': 25}\n",
      "\n",
      "Best score:\n",
      "0.7516970200866211\n",
      "\n",
      "Grid scores on training set:\n",
      "0.697 (+/-0.006) for {'estimator__class_weight': 'balanced', 'estimator__criterion': 'gini', 'estimator__max_features': None, 'estimator__min_samples_split': 10}\n",
      "0.711 (+/-0.007) for {'estimator__class_weight': 'balanced', 'estimator__criterion': 'gini', 'estimator__max_features': None, 'estimator__min_samples_split': 25}\n",
      "0.742 (+/-0.008) for {'estimator__class_weight': 'balanced', 'estimator__criterion': 'gini', 'estimator__max_features': 'sqrt', 'estimator__min_samples_split': 10}\n",
      "0.743 (+/-0.007) for {'estimator__class_weight': 'balanced', 'estimator__criterion': 'gini', 'estimator__max_features': 'sqrt', 'estimator__min_samples_split': 25}\n",
      "0.693 (+/-0.006) for {'estimator__class_weight': 'balanced', 'estimator__criterion': 'entropy', 'estimator__max_features': None, 'estimator__min_samples_split': 10}\n",
      "0.707 (+/-0.007) for {'estimator__class_weight': 'balanced', 'estimator__criterion': 'entropy', 'estimator__max_features': None, 'estimator__min_samples_split': 25}\n",
      "0.743 (+/-0.009) for {'estimator__class_weight': 'balanced', 'estimator__criterion': 'entropy', 'estimator__max_features': 'sqrt', 'estimator__min_samples_split': 10}\n",
      "0.743 (+/-0.010) for {'estimator__class_weight': 'balanced', 'estimator__criterion': 'entropy', 'estimator__max_features': 'sqrt', 'estimator__min_samples_split': 25}\n",
      "0.722 (+/-0.006) for {'estimator__class_weight': None, 'estimator__criterion': 'gini', 'estimator__max_features': None, 'estimator__min_samples_split': 10}\n",
      "0.737 (+/-0.008) for {'estimator__class_weight': None, 'estimator__criterion': 'gini', 'estimator__max_features': None, 'estimator__min_samples_split': 25}\n",
      "0.751 (+/-0.009) for {'estimator__class_weight': None, 'estimator__criterion': 'gini', 'estimator__max_features': 'sqrt', 'estimator__min_samples_split': 10}\n",
      "0.752 (+/-0.011) for {'estimator__class_weight': None, 'estimator__criterion': 'gini', 'estimator__max_features': 'sqrt', 'estimator__min_samples_split': 25}\n",
      "0.702 (+/-0.009) for {'estimator__class_weight': None, 'estimator__criterion': 'entropy', 'estimator__max_features': None, 'estimator__min_samples_split': 10}\n",
      "0.716 (+/-0.010) for {'estimator__class_weight': None, 'estimator__criterion': 'entropy', 'estimator__max_features': None, 'estimator__min_samples_split': 25}\n",
      "0.746 (+/-0.006) for {'estimator__class_weight': None, 'estimator__criterion': 'entropy', 'estimator__max_features': 'sqrt', 'estimator__min_samples_split': 10}\n",
      "0.747 (+/-0.009) for {'estimator__class_weight': None, 'estimator__criterion': 'entropy', 'estimator__max_features': 'sqrt', 'estimator__min_samples_split': 25}\n",
      "\n"
     ]
    }
   ],
   "source": [
    "norm_decision_tree_model = model.build_ML_model(train.PhraseNorm, train.Sentiment, \"norm\", \"decision_tree\")"
   ]
  },
  {
   "cell_type": "code",
   "execution_count": 8,
   "metadata": {},
   "outputs": [
    {
     "name": "stdout",
     "output_type": "stream",
     "text": [
      "Best estimator:\n",
      "OneVsRestClassifier(estimator=RandomForestClassifier(bootstrap=True,\n",
      "                                                     ccp_alpha=0.0,\n",
      "                                                     class_weight=None,\n",
      "                                                     criterion='gini',\n",
      "                                                     max_depth=None,\n",
      "                                                     max_features='sqrt',\n",
      "                                                     max_leaf_nodes=None,\n",
      "                                                     max_samples=None,\n",
      "                                                     min_impurity_decrease=0.0,\n",
      "                                                     min_impurity_split=None,\n",
      "                                                     min_samples_leaf=5,\n",
      "                                                     min_samples_split=10,\n",
      "                                                     min_weight_fraction_leaf=0.0,\n",
      "                                                     n_estimators=100,\n",
      "                                                     n_jobs=-1, oob_score=False,\n",
      "                                                     random_state=2947,\n",
      "                                                     verbose=0,\n",
      "                                                     warm_start=False),\n",
      "                    n_jobs=-1)\n",
      "\n",
      "Best parameters:\n",
      "{'estimator__class_weight': None, 'estimator__criterion': 'gini', 'estimator__min_samples_split': 10}\n",
      "\n",
      "Best score:\n",
      "0.8274139606701876\n",
      "\n",
      "Grid scores on training set:\n",
      "0.815 (+/-0.001) for {'estimator__class_weight': 'balanced', 'estimator__criterion': 'gini', 'estimator__min_samples_split': 10}\n",
      "0.815 (+/-0.001) for {'estimator__class_weight': 'balanced', 'estimator__criterion': 'gini', 'estimator__min_samples_split': 25}\n",
      "0.818 (+/-0.001) for {'estimator__class_weight': 'balanced', 'estimator__criterion': 'entropy', 'estimator__min_samples_split': 10}\n",
      "0.817 (+/-0.002) for {'estimator__class_weight': 'balanced', 'estimator__criterion': 'entropy', 'estimator__min_samples_split': 25}\n",
      "0.827 (+/-0.001) for {'estimator__class_weight': None, 'estimator__criterion': 'gini', 'estimator__min_samples_split': 10}\n",
      "0.827 (+/-0.001) for {'estimator__class_weight': None, 'estimator__criterion': 'gini', 'estimator__min_samples_split': 25}\n",
      "0.827 (+/-0.001) for {'estimator__class_weight': None, 'estimator__criterion': 'entropy', 'estimator__min_samples_split': 10}\n",
      "0.827 (+/-0.001) for {'estimator__class_weight': None, 'estimator__criterion': 'entropy', 'estimator__min_samples_split': 25}\n",
      "\n"
     ]
    }
   ],
   "source": [
    "norm_random_forest_model = model.build_ML_model(train.PhraseNorm, train.Sentiment, \"norm\", \"random_forest\", 5)"
   ]
  },
  {
   "cell_type": "markdown",
   "metadata": {},
   "source": [
    "_Build DL models_"
   ]
  },
  {
   "cell_type": "code",
   "execution_count": 9,
   "metadata": {},
   "outputs": [
    {
     "name": "stdout",
     "output_type": "stream",
     "text": [
      "Model: \"sequential_4\"\n",
      "_________________________________________________________________\n",
      "Layer (type)                 Output Shape              Param #   \n",
      "=================================================================\n",
      "dense_7 (Dense)              (None, 32)                487264    \n",
      "_________________________________________________________________\n",
      "dense_8 (Dense)              (None, 5)                 165       \n",
      "=================================================================\n",
      "Total params: 487,429\n",
      "Trainable params: 487,429\n",
      "Non-trainable params: 0\n",
      "_________________________________________________________________\n",
      "Epoch 1/500\n",
      "195/195 [==============================] - 1449s 7s/step - loss: 1.3681 - acc: 0.5048 - val_loss: 1.1682 - val_acc: 0.5326\n",
      "Epoch 2/500\n",
      "195/195 [==============================] - 1418s 7s/step - loss: 1.0573 - acc: 0.5758 - val_loss: 1.0323 - val_acc: 0.5986\n",
      "Epoch 3/500\n",
      "195/195 [==============================] - 1416s 7s/step - loss: 0.8950 - acc: 0.6383 - val_loss: 0.8787 - val_acc: 0.6247\n",
      "Epoch 4/500\n",
      "195/195 [==============================] - 1417s 7s/step - loss: 0.8079 - acc: 0.6728 - val_loss: 0.9603 - val_acc: 0.6376\n",
      "Epoch 5/500\n",
      "195/195 [==============================] - 1420s 7s/step - loss: 0.7537 - acc: 0.6948 - val_loss: 0.9065 - val_acc: 0.6429\n",
      "Epoch 6/500\n",
      "195/195 [==============================] - 1418s 7s/step - loss: 0.7161 - acc: 0.7091 - val_loss: 0.9127 - val_acc: 0.6446\n",
      "Epoch 7/500\n",
      "195/195 [==============================] - 1415s 7s/step - loss: 0.6877 - acc: 0.7188 - val_loss: 0.8415 - val_acc: 0.6442\n",
      "Epoch 8/500\n",
      "195/195 [==============================] - 1417s 7s/step - loss: 0.6650 - acc: 0.7264 - val_loss: 0.9623 - val_acc: 0.6445\n",
      "Epoch 9/500\n",
      "195/195 [==============================] - 1415s 7s/step - loss: 0.6463 - acc: 0.7334 - val_loss: 0.9507 - val_acc: 0.6449\n",
      "Epoch 10/500\n",
      "195/195 [==============================] - 1415s 7s/step - loss: 0.6304 - acc: 0.7383 - val_loss: 0.9358 - val_acc: 0.6460\n",
      "Epoch 11/500\n",
      "195/195 [==============================] - 1419s 7s/step - loss: 0.6165 - acc: 0.7438 - val_loss: 1.0256 - val_acc: 0.6469\n",
      "Epoch 12/500\n",
      "195/195 [==============================] - 1417s 7s/step - loss: 0.6044 - acc: 0.7466 - val_loss: 1.0062 - val_acc: 0.6460\n",
      "Epoch 13/500\n",
      "195/195 [==============================] - 1414s 7s/step - loss: 0.5936 - acc: 0.7518 - val_loss: 0.9068 - val_acc: 0.6458\n",
      "Epoch 14/500\n",
      "195/195 [==============================] - 1415s 7s/step - loss: 0.5835 - acc: 0.7540 - val_loss: 0.9508 - val_acc: 0.6434\n",
      "Epoch 15/500\n",
      "195/195 [==============================] - 1415s 7s/step - loss: 0.5745 - acc: 0.7577 - val_loss: 1.0813 - val_acc: 0.6445\n",
      "Epoch 16/500\n",
      "195/195 [==============================] - 1416s 7s/step - loss: 0.5658 - acc: 0.7605 - val_loss: 0.9499 - val_acc: 0.6417\n",
      "Epoch 17/500\n",
      "195/195 [==============================] - 1412s 7s/step - loss: 0.5577 - acc: 0.7640 - val_loss: 1.0090 - val_acc: 0.6424\n",
      "Epoch 18/500\n",
      "195/195 [==============================] - 1415s 7s/step - loss: 0.5501 - acc: 0.7659 - val_loss: 1.0873 - val_acc: 0.6434\n",
      "Epoch 19/500\n",
      "195/195 [==============================] - 1419s 7s/step - loss: 0.5428 - acc: 0.7688 - val_loss: 1.0318 - val_acc: 0.6430\n",
      "Epoch 20/500\n",
      "195/195 [==============================] - 1416s 7s/step - loss: 0.5361 - acc: 0.7714 - val_loss: 1.0447 - val_acc: 0.6439\n",
      "Epoch 21/500\n",
      "195/195 [==============================] - 1417s 7s/step - loss: 0.5295 - acc: 0.7735 - val_loss: 0.9870 - val_acc: 0.6430\n",
      "Epoch 22/500\n",
      "195/195 [==============================] - 1421s 7s/step - loss: 0.5233 - acc: 0.7760 - val_loss: 1.0817 - val_acc: 0.6416\n",
      "Epoch 23/500\n",
      "195/195 [==============================] - 1418s 7s/step - loss: 0.5172 - acc: 0.7789 - val_loss: 1.1363 - val_acc: 0.6417\n",
      "Epoch 24/500\n",
      "195/195 [==============================] - 1420s 7s/step - loss: 0.5110 - acc: 0.7805 - val_loss: 1.0622 - val_acc: 0.6401\n",
      "Epoch 25/500\n",
      "195/195 [==============================] - 1423s 7s/step - loss: 0.5057 - acc: 0.7824 - val_loss: 1.1176 - val_acc: 0.6429\n",
      "Epoch 26/500\n",
      "195/195 [==============================] - 1421s 7s/step - loss: 0.5002 - acc: 0.7849 - val_loss: 1.0443 - val_acc: 0.6406\n",
      "Epoch 27/500\n",
      "195/195 [==============================] - 1420s 7s/step - loss: 0.4948 - acc: 0.7871 - val_loss: 1.0192 - val_acc: 0.6405\n",
      "Epoch 28/500\n",
      "195/195 [==============================] - 1409s 7s/step - loss: 0.4896 - acc: 0.7892 - val_loss: 1.2382 - val_acc: 0.6398\n",
      "Epoch 29/500\n",
      "195/195 [==============================] - 1413s 7s/step - loss: 0.4844 - acc: 0.7920 - val_loss: 1.1064 - val_acc: 0.6409\n",
      "Epoch 30/500\n",
      "195/195 [==============================] - 1421s 7s/step - loss: 0.4796 - acc: 0.7934 - val_loss: 0.9624 - val_acc: 0.6406\n",
      "Epoch 31/500\n",
      "195/195 [==============================] - 1433s 7s/step - loss: 0.4750 - acc: 0.7945 - val_loss: 1.1877 - val_acc: 0.6406\n"
     ]
    },
    {
     "data": {
      "image/png": "[encoded data removed]",
      "text/plain": [
       "<Figure size 432x288 with 1 Axes>"
      ]
     },
     "metadata": {
      "needs_background": "light"
     },
     "output_type": "display_data"
    }
   ],
   "source": [
    "norm_ann_model = model.build_DL_model(train.PhraseNorm, train.Sentiment, \"norm\", \"ann\")"
   ]
  },
  {
   "cell_type": "code",
   "execution_count": 6,
   "metadata": {
    "scrolled": false
   },
   "outputs": [
    {
     "name": "stdout",
     "output_type": "stream",
     "text": [
      "Model: \"sequential_1\"\n",
      "_________________________________________________________________\n",
      "Layer (type)                 Output Shape              Param #   \n",
      "=================================================================\n",
      "simple_rnn_1 (SimpleRNN)     (None, 32)                488288    \n",
      "_________________________________________________________________\n",
      "dense_2 (Dense)              (None, 5)                 165       \n",
      "=================================================================\n",
      "Total params: 488,453\n",
      "Trainable params: 488,453\n",
      "Non-trainable params: 0\n",
      "_________________________________________________________________\n",
      "Epoch 1/500\n",
      "195/195 [==============================] - 180s 924ms/step - loss: 1.3577 - acc: 0.5095 - val_loss: 1.2363 - val_acc: 0.5078\n",
      "Epoch 2/500\n",
      "195/195 [==============================] - 177s 908ms/step - loss: 1.2073 - acc: 0.5103 - val_loss: 1.1048 - val_acc: 0.5469\n",
      "Epoch 3/500\n",
      "195/195 [==============================] - 182s 933ms/step - loss: 1.1236 - acc: 0.5437 - val_loss: 1.0912 - val_acc: 0.5762\n",
      "Epoch 4/500\n",
      "195/195 [==============================] - 180s 922ms/step - loss: 1.0449 - acc: 0.5747 - val_loss: 1.0077 - val_acc: 0.5791\n",
      "Epoch 5/500\n",
      "195/195 [==============================] - 179s 919ms/step - loss: 0.9915 - acc: 0.6037 - val_loss: 1.1207 - val_acc: 0.5967\n",
      "Epoch 6/500\n",
      "195/195 [==============================] - 180s 922ms/step - loss: 0.9704 - acc: 0.6043 - val_loss: 0.9008 - val_acc: 0.6188\n",
      "Epoch 7/500\n",
      "195/195 [==============================] - 179s 917ms/step - loss: 0.9449 - acc: 0.6202 - val_loss: 0.9273 - val_acc: 0.6230\n",
      "Epoch 8/500\n",
      "195/195 [==============================] - 178s 914ms/step - loss: 0.9198 - acc: 0.6225 - val_loss: 0.7946 - val_acc: 0.6217\n",
      "Epoch 9/500\n",
      "195/195 [==============================] - 152s 780ms/step - loss: 0.8212 - acc: 0.6639 - val_loss: 1.1585 - val_acc: 0.6211\n",
      "Epoch 10/500\n",
      "195/195 [==============================] - 165s 845ms/step - loss: 0.8100 - acc: 0.6728 - val_loss: 1.0471 - val_acc: 0.6403\n",
      "Epoch 11/500\n",
      "195/195 [==============================] - 178s 913ms/step - loss: 0.8154 - acc: 0.6699 - val_loss: 0.8426 - val_acc: 0.6331\n",
      "Epoch 12/500\n",
      "195/195 [==============================] - 180s 921ms/step - loss: 0.8146 - acc: 0.6679 - val_loss: 0.7500 - val_acc: 0.6520\n",
      "Epoch 13/500\n",
      "195/195 [==============================] - 178s 911ms/step - loss: 0.8293 - acc: 0.6639 - val_loss: 0.9260 - val_acc: 0.6445\n",
      "Epoch 14/500\n",
      "195/195 [==============================] - 178s 915ms/step - loss: 0.8203 - acc: 0.6680 - val_loss: 0.9271 - val_acc: 0.6403\n",
      "Epoch 15/500\n",
      "195/195 [==============================] - 177s 908ms/step - loss: 0.8218 - acc: 0.6667 - val_loss: 0.8709 - val_acc: 0.6286\n",
      "Epoch 16/500\n",
      "195/195 [==============================] - 180s 922ms/step - loss: 0.8191 - acc: 0.6663 - val_loss: 0.6916 - val_acc: 0.6302\n",
      "Epoch 17/500\n",
      "195/195 [==============================] - 147s 756ms/step - loss: 0.7182 - acc: 0.7081 - val_loss: 0.5599 - val_acc: 0.6468\n",
      "Epoch 18/500\n",
      "195/195 [==============================] - 166s 853ms/step - loss: 0.7170 - acc: 0.7056 - val_loss: 0.7133 - val_acc: 0.6374\n",
      "Epoch 19/500\n",
      "195/195 [==============================] - 179s 919ms/step - loss: 0.7283 - acc: 0.6984 - val_loss: 1.1297 - val_acc: 0.6263\n",
      "Epoch 20/500\n",
      "195/195 [==============================] - 177s 905ms/step - loss: 0.7542 - acc: 0.6885 - val_loss: 0.7876 - val_acc: 0.6533\n",
      "Epoch 21/500\n",
      "195/195 [==============================] - 183s 936ms/step - loss: 0.7480 - acc: 0.6889 - val_loss: 0.8667 - val_acc: 0.6348\n",
      "Epoch 22/500\n",
      "195/195 [==============================] - 181s 927ms/step - loss: 0.7591 - acc: 0.6853 - val_loss: 0.6794 - val_acc: 0.6475\n",
      "Epoch 23/500\n",
      "195/195 [==============================] - 178s 914ms/step - loss: 0.7775 - acc: 0.6802 - val_loss: 0.9431 - val_acc: 0.6579\n",
      "Epoch 24/500\n",
      "195/195 [==============================] - 178s 911ms/step - loss: 0.7710 - acc: 0.6808 - val_loss: 0.9226 - val_acc: 0.6471\n",
      "Epoch 25/500\n",
      "195/195 [==============================] - 149s 766ms/step - loss: 0.6764 - acc: 0.7276 - val_loss: 0.9851 - val_acc: 0.6351\n",
      "Epoch 26/500\n",
      "195/195 [==============================] - 167s 854ms/step - loss: 0.6826 - acc: 0.7157 - val_loss: 0.9020 - val_acc: 0.6419\n",
      "Epoch 27/500\n",
      "195/195 [==============================] - 180s 922ms/step - loss: 0.6892 - acc: 0.7188 - val_loss: 0.9113 - val_acc: 0.6471\n",
      "Epoch 28/500\n",
      "195/195 [==============================] - 178s 913ms/step - loss: 0.6941 - acc: 0.7167 - val_loss: 0.8445 - val_acc: 0.6439\n",
      "Epoch 29/500\n",
      "195/195 [==============================] - 177s 906ms/step - loss: 0.7268 - acc: 0.6959 - val_loss: 0.7701 - val_acc: 0.6390\n",
      "Epoch 30/500\n",
      "195/195 [==============================] - 177s 910ms/step - loss: 0.7347 - acc: 0.6910 - val_loss: 0.8785 - val_acc: 0.6497\n",
      "Epoch 31/500\n",
      "195/195 [==============================] - 177s 908ms/step - loss: 0.7308 - acc: 0.6950 - val_loss: 1.0121 - val_acc: 0.6367\n",
      "Epoch 32/500\n",
      "195/195 [==============================] - 179s 918ms/step - loss: 0.7394 - acc: 0.6953 - val_loss: 0.9342 - val_acc: 0.6390\n",
      "Epoch 33/500\n",
      "195/195 [==============================] - 151s 774ms/step - loss: 0.6380 - acc: 0.7386 - val_loss: 0.9541 - val_acc: 0.6426\n",
      "Epoch 34/500\n",
      "195/195 [==============================] - 168s 861ms/step - loss: 0.6474 - acc: 0.7325 - val_loss: 0.8948 - val_acc: 0.6400\n",
      "Epoch 35/500\n",
      "195/195 [==============================] - 177s 909ms/step - loss: 0.6669 - acc: 0.7240 - val_loss: 0.9995 - val_acc: 0.6393\n",
      "Epoch 36/500\n",
      "195/195 [==============================] - 178s 914ms/step - loss: 0.6966 - acc: 0.7086 - val_loss: 0.9596 - val_acc: 0.6318\n",
      "Epoch 37/500\n",
      "195/195 [==============================] - 181s 930ms/step - loss: 0.6931 - acc: 0.7072 - val_loss: 0.8664 - val_acc: 0.6354\n",
      "Epoch 38/500\n",
      "195/195 [==============================] - 177s 910ms/step - loss: 0.7159 - acc: 0.7013 - val_loss: 0.9476 - val_acc: 0.6436\n",
      "Epoch 39/500\n",
      "195/195 [==============================] - 177s 909ms/step - loss: 0.7041 - acc: 0.7067 - val_loss: 0.9723 - val_acc: 0.6429\n",
      "Epoch 40/500\n",
      "195/195 [==============================] - 178s 914ms/step - loss: 0.7224 - acc: 0.6995 - val_loss: 0.8041 - val_acc: 0.6445\n",
      "Epoch 41/500\n",
      "195/195 [==============================] - 150s 769ms/step - loss: 0.6179 - acc: 0.7442 - val_loss: 0.8385 - val_acc: 0.6455\n",
      "Epoch 42/500\n",
      "195/195 [==============================] - 165s 844ms/step - loss: 0.6424 - acc: 0.7319 - val_loss: 0.8513 - val_acc: 0.6484\n",
      "Epoch 43/500\n",
      "195/195 [==============================] - 178s 911ms/step - loss: 0.6487 - acc: 0.7290 - val_loss: 0.9309 - val_acc: 0.6243\n"
     ]
    },
    {
     "data": {
      "image/png": "[encoded data removed]",
      "text/plain": [
       "<Figure size 432x288 with 1 Axes>"
      ]
     },
     "metadata": {
      "needs_background": "light"
     },
     "output_type": "display_data"
    }
   ],
   "source": [
    "norm_rnn_model = model.build_DL_model(train.PhraseNorm, train.Sentiment, \"norm\", \"rnn\")"
   ]
  },
  {
   "cell_type": "code",
   "execution_count": 7,
   "metadata": {
    "scrolled": false
   },
   "outputs": [
    {
     "name": "stdout",
     "output_type": "stream",
     "text": [
      "Model: \"sequential_2\"\n",
      "_________________________________________________________________\n",
      "Layer (type)                 Output Shape              Param #   \n",
      "=================================================================\n",
      "lstm_2 (LSTM)                (None, 32)                1953152   \n",
      "_________________________________________________________________\n",
      "dense_4 (Dense)              (None, 5)                 165       \n",
      "=================================================================\n",
      "Total params: 1,953,317\n",
      "Trainable params: 1,953,317\n",
      "Non-trainable params: 0\n",
      "_________________________________________________________________\n",
      "Epoch 1/500\n",
      "195/195 [==============================] - 156s 802ms/step - loss: 1.4382 - acc: 0.5012 - val_loss: 1.3640 - val_acc: 0.4893\n",
      "Epoch 2/500\n",
      "195/195 [==============================] - 167s 854ms/step - loss: 1.2689 - acc: 0.5080 - val_loss: 1.1866 - val_acc: 0.5260\n",
      "Epoch 3/500\n",
      "195/195 [==============================] - 177s 907ms/step - loss: 1.2002 - acc: 0.5127 - val_loss: 1.1306 - val_acc: 0.5186\n",
      "Epoch 4/500\n",
      "195/195 [==============================] - 180s 921ms/step - loss: 1.1296 - acc: 0.5450 - val_loss: 1.1281 - val_acc: 0.5658\n",
      "Epoch 5/500\n",
      "195/195 [==============================] - 176s 902ms/step - loss: 1.0878 - acc: 0.5629 - val_loss: 1.0395 - val_acc: 0.5700\n",
      "Epoch 6/500\n",
      "195/195 [==============================] - 177s 909ms/step - loss: 1.0371 - acc: 0.5816 - val_loss: 0.9235 - val_acc: 0.5938\n",
      "Epoch 7/500\n",
      "195/195 [==============================] - 177s 909ms/step - loss: 0.9954 - acc: 0.5984 - val_loss: 0.8577 - val_acc: 0.6178\n",
      "Epoch 8/500\n",
      "195/195 [==============================] - 178s 911ms/step - loss: 0.9586 - acc: 0.6113 - val_loss: 0.8335 - val_acc: 0.6081\n",
      "Epoch 9/500\n",
      "195/195 [==============================] - 155s 794ms/step - loss: 0.8565 - acc: 0.6523 - val_loss: 0.8636 - val_acc: 0.6165\n",
      "Epoch 10/500\n",
      "195/195 [==============================] - 167s 859ms/step - loss: 0.8547 - acc: 0.6554 - val_loss: 0.8191 - val_acc: 0.6357\n",
      "Epoch 11/500\n",
      "195/195 [==============================] - 176s 903ms/step - loss: 0.8396 - acc: 0.6565 - val_loss: 1.0784 - val_acc: 0.6266\n",
      "Epoch 12/500\n",
      "195/195 [==============================] - 179s 919ms/step - loss: 0.8391 - acc: 0.6615 - val_loss: 1.0563 - val_acc: 0.6400\n",
      "Epoch 13/500\n",
      "195/195 [==============================] - 178s 913ms/step - loss: 0.8375 - acc: 0.6600 - val_loss: 0.6995 - val_acc: 0.6426\n",
      "Epoch 14/500\n",
      "195/195 [==============================] - 179s 918ms/step - loss: 0.8391 - acc: 0.6562 - val_loss: 0.7796 - val_acc: 0.6322\n",
      "Epoch 15/500\n",
      "195/195 [==============================] - 178s 914ms/step - loss: 0.8161 - acc: 0.6687 - val_loss: 0.9532 - val_acc: 0.6468\n",
      "Epoch 16/500\n",
      "195/195 [==============================] - 178s 913ms/step - loss: 0.8347 - acc: 0.6627 - val_loss: 0.7828 - val_acc: 0.6471\n",
      "Epoch 17/500\n",
      "195/195 [==============================] - 151s 775ms/step - loss: 0.7216 - acc: 0.7104 - val_loss: 0.8555 - val_acc: 0.6471\n",
      "Epoch 18/500\n",
      "195/195 [==============================] - 168s 862ms/step - loss: 0.7381 - acc: 0.6998 - val_loss: 1.1538 - val_acc: 0.6354\n",
      "Epoch 19/500\n",
      "195/195 [==============================] - 176s 901ms/step - loss: 0.7404 - acc: 0.6974 - val_loss: 1.1335 - val_acc: 0.6406\n",
      "Epoch 20/500\n",
      "195/195 [==============================] - 179s 916ms/step - loss: 0.7458 - acc: 0.6906 - val_loss: 1.2532 - val_acc: 0.6465\n",
      "Epoch 21/500\n",
      "195/195 [==============================] - 178s 912ms/step - loss: 0.7633 - acc: 0.6831 - val_loss: 0.8325 - val_acc: 0.6504\n",
      "Epoch 22/500\n",
      "195/195 [==============================] - 178s 912ms/step - loss: 0.7626 - acc: 0.6892 - val_loss: 0.8884 - val_acc: 0.6380\n",
      "Epoch 23/500\n",
      "195/195 [==============================] - 179s 920ms/step - loss: 0.7542 - acc: 0.6931 - val_loss: 0.8811 - val_acc: 0.6465\n",
      "Epoch 24/500\n",
      "195/195 [==============================] - 178s 911ms/step - loss: 0.7777 - acc: 0.6794 - val_loss: 0.8721 - val_acc: 0.6517\n",
      "Epoch 25/500\n",
      "195/195 [==============================] - 152s 780ms/step - loss: 0.6682 - acc: 0.7297 - val_loss: 0.5793 - val_acc: 0.6452\n",
      "Epoch 26/500\n",
      "195/195 [==============================] - 171s 877ms/step - loss: 0.6978 - acc: 0.7153 - val_loss: 1.1517 - val_acc: 0.6331\n",
      "Epoch 27/500\n",
      "195/195 [==============================] - 176s 900ms/step - loss: 0.6992 - acc: 0.7122 - val_loss: 0.9107 - val_acc: 0.6462\n",
      "Epoch 28/500\n",
      "195/195 [==============================] - 178s 911ms/step - loss: 0.7085 - acc: 0.7070 - val_loss: 1.0853 - val_acc: 0.6361\n",
      "Epoch 29/500\n",
      "195/195 [==============================] - 177s 909ms/step - loss: 0.7087 - acc: 0.7071 - val_loss: 0.8907 - val_acc: 0.6455\n",
      "Epoch 30/500\n",
      "195/195 [==============================] - 179s 917ms/step - loss: 0.7121 - acc: 0.7061 - val_loss: 0.9667 - val_acc: 0.6585\n",
      "Epoch 31/500\n",
      "195/195 [==============================] - 178s 911ms/step - loss: 0.7239 - acc: 0.6978 - val_loss: 0.7380 - val_acc: 0.6540\n",
      "Epoch 32/500\n",
      "195/195 [==============================] - 180s 923ms/step - loss: 0.7298 - acc: 0.6990 - val_loss: 0.8637 - val_acc: 0.6449\n",
      "Epoch 33/500\n",
      "195/195 [==============================] - 153s 787ms/step - loss: 0.6310 - acc: 0.7431 - val_loss: 1.1421 - val_acc: 0.6458\n",
      "Epoch 34/500\n",
      "195/195 [==============================] - 167s 857ms/step - loss: 0.6631 - acc: 0.7233 - val_loss: 0.8931 - val_acc: 0.6309\n",
      "Epoch 35/500\n",
      "195/195 [==============================] - 177s 909ms/step - loss: 0.6556 - acc: 0.7274 - val_loss: 0.8372 - val_acc: 0.6374\n",
      "Epoch 36/500\n",
      "195/195 [==============================] - 178s 911ms/step - loss: 0.6840 - acc: 0.7143 - val_loss: 1.0474 - val_acc: 0.6491\n",
      "Epoch 37/500\n",
      "195/195 [==============================] - 177s 909ms/step - loss: 0.6939 - acc: 0.7052 - val_loss: 1.1366 - val_acc: 0.6357\n",
      "Epoch 38/500\n",
      "195/195 [==============================] - 178s 912ms/step - loss: 0.6966 - acc: 0.7111 - val_loss: 1.2219 - val_acc: 0.6501\n",
      "Epoch 39/500\n",
      "195/195 [==============================] - 178s 914ms/step - loss: 0.6908 - acc: 0.7112 - val_loss: 1.2229 - val_acc: 0.6383\n",
      "Epoch 40/500\n",
      "195/195 [==============================] - 176s 903ms/step - loss: 0.7066 - acc: 0.7039 - val_loss: 0.8324 - val_acc: 0.6429\n",
      "Epoch 41/500\n",
      "195/195 [==============================] - 153s 783ms/step - loss: 0.6163 - acc: 0.7467 - val_loss: 1.0337 - val_acc: 0.6507\n",
      "Epoch 42/500\n",
      "195/195 [==============================] - 175s 899ms/step - loss: 0.6365 - acc: 0.7342 - val_loss: 1.0557 - val_acc: 0.6507\n",
      "Epoch 43/500\n",
      "195/195 [==============================] - 179s 919ms/step - loss: 0.6436 - acc: 0.7308 - val_loss: 1.0977 - val_acc: 0.6442\n",
      "Epoch 44/500\n",
      "195/195 [==============================] - 180s 922ms/step - loss: 0.6553 - acc: 0.7256 - val_loss: 0.9565 - val_acc: 0.6488\n",
      "Epoch 45/500\n",
      "195/195 [==============================] - 176s 904ms/step - loss: 0.6620 - acc: 0.7240 - val_loss: 0.8533 - val_acc: 0.6449\n",
      "Epoch 46/500\n",
      "195/195 [==============================] - 178s 911ms/step - loss: 0.6764 - acc: 0.7123 - val_loss: 0.7671 - val_acc: 0.6504\n",
      "Epoch 47/500\n",
      "195/195 [==============================] - 176s 902ms/step - loss: 0.6704 - acc: 0.7179 - val_loss: 0.9761 - val_acc: 0.6243\n",
      "Epoch 48/500\n",
      "195/195 [==============================] - 178s 913ms/step - loss: 0.6880 - acc: 0.7122 - val_loss: 0.8508 - val_acc: 0.6429\n",
      "Epoch 49/500\n",
      "195/195 [==============================] - 149s 767ms/step - loss: 0.5906 - acc: 0.7601 - val_loss: 0.8781 - val_acc: 0.6426\n",
      "Epoch 50/500\n",
      "195/195 [==============================] - 158s 812ms/step - loss: 0.6121 - acc: 0.7440 - val_loss: 1.1900 - val_acc: 0.6536\n"
     ]
    },
    {
     "data": {
      "image/png": "[encoded data removed]",
      "text/plain": [
       "<Figure size 432x288 with 1 Axes>"
      ]
     },
     "metadata": {
      "needs_background": "light"
     },
     "output_type": "display_data"
    }
   ],
   "source": [
    "norm_lstm_model = model.build_DL_model(train.PhraseNorm, train.Sentiment, \"norm\", \"lstm\")"
   ]
  },
  {
   "cell_type": "code",
   "execution_count": 8,
   "metadata": {
    "scrolled": false
   },
   "outputs": [
    {
     "name": "stdout",
     "output_type": "stream",
     "text": [
      "Model: \"sequential_3\"\n",
      "_________________________________________________________________\n",
      "Layer (type)                 Output Shape              Param #   \n",
      "=================================================================\n",
      "gru_3 (GRU)                  (None, 32)                1464864   \n",
      "_________________________________________________________________\n",
      "dense_6 (Dense)              (None, 5)                 165       \n",
      "=================================================================\n",
      "Total params: 1,465,029\n",
      "Trainable params: 1,465,029\n",
      "Non-trainable params: 0\n",
      "_________________________________________________________________\n",
      "Epoch 1/500\n",
      "195/195 [==============================] - 152s 778ms/step - loss: 1.4110 - acc: 0.5052 - val_loss: 1.4477 - val_acc: 0.5072\n",
      "Epoch 2/500\n",
      "195/195 [==============================] - 162s 833ms/step - loss: 1.2453 - acc: 0.5097 - val_loss: 1.3252 - val_acc: 0.5068\n",
      "Epoch 3/500\n",
      "195/195 [==============================] - 175s 898ms/step - loss: 1.1896 - acc: 0.5156 - val_loss: 1.2628 - val_acc: 0.5420\n",
      "Epoch 4/500\n",
      "195/195 [==============================] - 177s 909ms/step - loss: 1.1012 - acc: 0.5557 - val_loss: 1.0122 - val_acc: 0.5719\n",
      "Epoch 5/500\n",
      "195/195 [==============================] - 176s 901ms/step - loss: 1.0538 - acc: 0.5780 - val_loss: 0.9652 - val_acc: 0.5771\n",
      "Epoch 6/500\n",
      "195/195 [==============================] - 177s 906ms/step - loss: 1.0274 - acc: 0.5836 - val_loss: 1.0230 - val_acc: 0.5947\n",
      "Epoch 7/500\n",
      "195/195 [==============================] - 178s 911ms/step - loss: 0.9785 - acc: 0.6072 - val_loss: 0.9759 - val_acc: 0.6077\n",
      "Epoch 8/500\n",
      "195/195 [==============================] - 177s 909ms/step - loss: 0.9451 - acc: 0.6179 - val_loss: 1.0255 - val_acc: 0.6152\n",
      "Epoch 9/500\n",
      "195/195 [==============================] - 146s 747ms/step - loss: 0.8385 - acc: 0.6613 - val_loss: 0.8858 - val_acc: 0.6283\n",
      "Epoch 10/500\n",
      "195/195 [==============================] - 161s 826ms/step - loss: 0.8294 - acc: 0.6647 - val_loss: 1.0259 - val_acc: 0.6419\n",
      "Epoch 11/500\n",
      "195/195 [==============================] - 175s 896ms/step - loss: 0.8358 - acc: 0.6621 - val_loss: 0.8113 - val_acc: 0.6270\n",
      "Epoch 12/500\n",
      "195/195 [==============================] - 177s 908ms/step - loss: 0.8129 - acc: 0.6722 - val_loss: 0.6942 - val_acc: 0.6247\n",
      "Epoch 13/500\n",
      "195/195 [==============================] - 177s 909ms/step - loss: 0.8324 - acc: 0.6634 - val_loss: 0.7911 - val_acc: 0.6364\n",
      "Epoch 14/500\n",
      "195/195 [==============================] - 176s 903ms/step - loss: 0.8322 - acc: 0.6623 - val_loss: 0.8044 - val_acc: 0.6396\n",
      "Epoch 15/500\n",
      "195/195 [==============================] - 179s 919ms/step - loss: 0.8364 - acc: 0.6619 - val_loss: 0.8903 - val_acc: 0.6419\n",
      "Epoch 16/500\n",
      "195/195 [==============================] - 177s 908ms/step - loss: 0.8214 - acc: 0.6644 - val_loss: 0.9287 - val_acc: 0.6390\n",
      "Epoch 17/500\n",
      "195/195 [==============================] - 143s 732ms/step - loss: 0.7271 - acc: 0.7099 - val_loss: 0.8327 - val_acc: 0.6335\n",
      "Epoch 18/500\n",
      "195/195 [==============================] - 165s 844ms/step - loss: 0.7341 - acc: 0.7022 - val_loss: 0.9375 - val_acc: 0.6328\n",
      "Epoch 19/500\n",
      "195/195 [==============================] - 176s 902ms/step - loss: 0.7472 - acc: 0.6971 - val_loss: 0.7105 - val_acc: 0.6445\n",
      "Epoch 20/500\n",
      "195/195 [==============================] - 175s 899ms/step - loss: 0.7357 - acc: 0.6978 - val_loss: 0.9442 - val_acc: 0.6374\n",
      "Epoch 21/500\n",
      "195/195 [==============================] - 177s 910ms/step - loss: 0.7494 - acc: 0.6957 - val_loss: 0.8991 - val_acc: 0.6374\n",
      "Epoch 22/500\n",
      "195/195 [==============================] - 176s 904ms/step - loss: 0.7586 - acc: 0.6856 - val_loss: 0.8112 - val_acc: 0.6523\n",
      "Epoch 23/500\n",
      "195/195 [==============================] - 177s 908ms/step - loss: 0.7559 - acc: 0.6865 - val_loss: 0.8022 - val_acc: 0.6504\n",
      "Epoch 24/500\n",
      "195/195 [==============================] - 179s 918ms/step - loss: 0.7743 - acc: 0.6849 - val_loss: 0.7306 - val_acc: 0.6569\n",
      "Epoch 25/500\n",
      "195/195 [==============================] - 143s 734ms/step - loss: 0.6600 - acc: 0.7353 - val_loss: 0.8361 - val_acc: 0.6442\n",
      "Epoch 26/500\n",
      "195/195 [==============================] - 160s 823ms/step - loss: 0.6822 - acc: 0.7188 - val_loss: 1.1087 - val_acc: 0.6406\n",
      "Epoch 27/500\n",
      "195/195 [==============================] - 177s 906ms/step - loss: 0.7024 - acc: 0.7101 - val_loss: 0.9286 - val_acc: 0.6403\n",
      "Epoch 28/500\n",
      "195/195 [==============================] - 177s 907ms/step - loss: 0.7095 - acc: 0.7042 - val_loss: 1.0393 - val_acc: 0.6364\n",
      "Epoch 29/500\n",
      "195/195 [==============================] - 177s 907ms/step - loss: 0.7200 - acc: 0.7021 - val_loss: 1.0063 - val_acc: 0.6396\n",
      "Epoch 30/500\n",
      "195/195 [==============================] - 175s 899ms/step - loss: 0.7188 - acc: 0.6970 - val_loss: 0.7224 - val_acc: 0.6361\n",
      "Epoch 31/500\n",
      "195/195 [==============================] - 180s 922ms/step - loss: 0.7261 - acc: 0.7000 - val_loss: 1.0958 - val_acc: 0.6439\n",
      "Epoch 32/500\n",
      "195/195 [==============================] - 176s 905ms/step - loss: 0.7341 - acc: 0.7006 - val_loss: 0.6765 - val_acc: 0.6484\n",
      "Epoch 33/500\n",
      "195/195 [==============================] - 145s 743ms/step - loss: 0.6283 - acc: 0.7388 - val_loss: 0.9966 - val_acc: 0.6520\n",
      "Epoch 34/500\n",
      "195/195 [==============================] - 160s 823ms/step - loss: 0.6571 - acc: 0.7293 - val_loss: 0.8305 - val_acc: 0.6455\n",
      "Epoch 35/500\n",
      "195/195 [==============================] - 176s 904ms/step - loss: 0.6699 - acc: 0.7205 - val_loss: 0.7184 - val_acc: 0.6361\n",
      "Epoch 36/500\n",
      "195/195 [==============================] - 176s 900ms/step - loss: 0.6848 - acc: 0.7095 - val_loss: 0.8261 - val_acc: 0.6302\n",
      "Epoch 37/500\n",
      "195/195 [==============================] - 177s 908ms/step - loss: 0.6894 - acc: 0.7156 - val_loss: 0.7821 - val_acc: 0.6400\n",
      "Epoch 38/500\n",
      "195/195 [==============================] - 178s 910ms/step - loss: 0.7053 - acc: 0.7055 - val_loss: 0.8793 - val_acc: 0.6374\n",
      "Epoch 39/500\n",
      "195/195 [==============================] - 175s 899ms/step - loss: 0.6990 - acc: 0.7101 - val_loss: 0.8532 - val_acc: 0.6618\n",
      "Epoch 40/500\n",
      "195/195 [==============================] - 179s 916ms/step - loss: 0.7107 - acc: 0.7084 - val_loss: 0.9998 - val_acc: 0.6370\n",
      "Epoch 41/500\n",
      "195/195 [==============================] - 145s 744ms/step - loss: 0.6178 - acc: 0.7442 - val_loss: 0.9959 - val_acc: 0.6400\n",
      "Epoch 42/500\n",
      "195/195 [==============================] - 158s 812ms/step - loss: 0.6403 - acc: 0.7306 - val_loss: 0.8421 - val_acc: 0.6540\n",
      "Epoch 43/500\n",
      "195/195 [==============================] - 176s 904ms/step - loss: 0.6419 - acc: 0.7284 - val_loss: 1.1532 - val_acc: 0.6344\n",
      "Epoch 44/500\n",
      "195/195 [==============================] - 178s 912ms/step - loss: 0.6620 - acc: 0.7200 - val_loss: 0.7429 - val_acc: 0.6260\n",
      "Epoch 45/500\n",
      "195/195 [==============================] - 178s 915ms/step - loss: 0.6829 - acc: 0.7095 - val_loss: 0.9305 - val_acc: 0.6410\n",
      "Epoch 46/500\n",
      "195/195 [==============================] - 176s 904ms/step - loss: 0.6818 - acc: 0.7163 - val_loss: 0.9674 - val_acc: 0.6423\n",
      "Epoch 47/500\n",
      "195/195 [==============================] - 179s 916ms/step - loss: 0.6737 - acc: 0.7135 - val_loss: 1.0319 - val_acc: 0.6631\n",
      "Epoch 48/500\n",
      "195/195 [==============================] - 176s 902ms/step - loss: 0.6886 - acc: 0.7089 - val_loss: 1.0097 - val_acc: 0.6328\n",
      "Epoch 49/500\n",
      "195/195 [==============================] - 151s 773ms/step - loss: 0.5943 - acc: 0.7549 - val_loss: 1.2459 - val_acc: 0.6331\n",
      "Epoch 50/500\n",
      "195/195 [==============================] - 161s 827ms/step - loss: 0.6309 - acc: 0.7379 - val_loss: 1.1650 - val_acc: 0.6393\n",
      "Epoch 51/500\n",
      "195/195 [==============================] - 177s 907ms/step - loss: 0.6250 - acc: 0.7329 - val_loss: 0.9871 - val_acc: 0.6507\n",
      "Epoch 52/500\n",
      "195/195 [==============================] - 176s 903ms/step - loss: 0.6404 - acc: 0.7298 - val_loss: 1.1120 - val_acc: 0.6445\n",
      "Epoch 53/500\n",
      "195/195 [==============================] - 179s 916ms/step - loss: 0.6617 - acc: 0.7215 - val_loss: 0.9948 - val_acc: 0.6328\n",
      "Epoch 54/500\n",
      "195/195 [==============================] - 176s 904ms/step - loss: 0.6662 - acc: 0.7124 - val_loss: 0.8786 - val_acc: 0.6383\n",
      "Epoch 55/500\n",
      "195/195 [==============================] - 177s 905ms/step - loss: 0.6718 - acc: 0.7194 - val_loss: 1.1997 - val_acc: 0.6471\n"
     ]
    },
    {
     "name": "stdout",
     "output_type": "stream",
     "text": [
      "Epoch 56/500\n",
      "195/195 [==============================] - 176s 901ms/step - loss: 0.6747 - acc: 0.7130 - val_loss: 1.0515 - val_acc: 0.6296\n",
      "Epoch 57/500\n",
      "195/195 [==============================] - 148s 761ms/step - loss: 0.5908 - acc: 0.7541 - val_loss: 1.0573 - val_acc: 0.6403\n",
      "Epoch 58/500\n",
      "195/195 [==============================] - 159s 814ms/step - loss: 0.6040 - acc: 0.7446 - val_loss: 1.0958 - val_acc: 0.6393\n",
      "Epoch 59/500\n",
      "195/195 [==============================] - 176s 903ms/step - loss: 0.6149 - acc: 0.7432 - val_loss: 0.8371 - val_acc: 0.6436\n",
      "Epoch 60/500\n",
      "195/195 [==============================] - 175s 897ms/step - loss: 0.6319 - acc: 0.7332 - val_loss: 1.4645 - val_acc: 0.6299\n",
      "Epoch 61/500\n",
      "195/195 [==============================] - 179s 917ms/step - loss: 0.6435 - acc: 0.7236 - val_loss: 0.9572 - val_acc: 0.6416\n",
      "Epoch 62/500\n",
      "195/195 [==============================] - 177s 908ms/step - loss: 0.6403 - acc: 0.7282 - val_loss: 0.9748 - val_acc: 0.6462\n",
      "Epoch 63/500\n",
      "195/195 [==============================] - 177s 910ms/step - loss: 0.6532 - acc: 0.7208 - val_loss: 0.7630 - val_acc: 0.6380\n",
      "Epoch 64/500\n",
      "195/195 [==============================] - 177s 908ms/step - loss: 0.6788 - acc: 0.7093 - val_loss: 1.2126 - val_acc: 0.6344\n",
      "Epoch 65/500\n",
      "195/195 [==============================] - 149s 765ms/step - loss: 0.5698 - acc: 0.7643 - val_loss: 0.9915 - val_acc: 0.6423\n",
      "Epoch 66/500\n",
      "195/195 [==============================] - 159s 814ms/step - loss: 0.5868 - acc: 0.7522 - val_loss: 1.0918 - val_acc: 0.6429\n",
      "Epoch 67/500\n",
      "195/195 [==============================] - 174s 893ms/step - loss: 0.5957 - acc: 0.7450 - val_loss: 0.7130 - val_acc: 0.6361\n"
     ]
    },
    {
     "data": {
      "image/png": "[encoded data removed]",
      "text/plain": [
       "<Figure size 432x288 with 1 Axes>"
      ]
     },
     "metadata": {
      "needs_background": "light"
     },
     "output_type": "display_data"
    }
   ],
   "source": [
    "norm_gru_model = model.build_DL_model(train.PhraseNorm, train.Sentiment, \"norm\", \"gru\")"
   ]
  }
 ],
 "metadata": {
  "kernelspec": {
   "display_name": "Python 3",
   "language": "python",
   "name": "python3"
  },
  "language_info": {
   "codemirror_mode": {
    "name": "ipython",
    "version": 3
   },
   "file_extension": ".py",
   "mimetype": "text/x-python",
   "name": "python",
   "nbconvert_exporter": "python",
   "pygments_lexer": "ipython3",
   "version": "3.7.4"
  }
 },
 "nbformat": 4,
 "nbformat_minor": 2
}
