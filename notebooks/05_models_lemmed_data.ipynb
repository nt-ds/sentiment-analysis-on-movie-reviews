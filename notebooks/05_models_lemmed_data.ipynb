{
 "cells": [
  {
   "cell_type": "markdown",
   "metadata": {},
   "source": [
    "### Import libraries"
   ]
  },
  {
   "cell_type": "code",
   "execution_count": 1,
   "metadata": {},
   "outputs": [],
   "source": [
    "import warnings\n",
    "\n",
    "import pandas as pd\n",
    "\n",
    "# Ignore warnings\n",
    "warnings.filterwarnings(\"ignore\")"
   ]
  },
  {
   "cell_type": "markdown",
   "metadata": {},
   "source": [
    "Change directories to get src code"
   ]
  },
  {
   "cell_type": "code",
   "execution_count": 2,
   "metadata": {},
   "outputs": [
    {
     "name": "stdout",
     "output_type": "stream",
     "text": [
      "C:\\Users\\15713\\Desktop\\DS Projects\\Sentiment Analysis on Movie Reviews\\sentiment-analysis-on-movie-reviews\\src\n"
     ]
    }
   ],
   "source": [
    "%cd C:\\Users\\15713\\Desktop\\DS Projects\\Sentiment Analysis on Movie Reviews\\sentiment-analysis-on-movie-reviews\\src"
   ]
  },
  {
   "cell_type": "code",
   "execution_count": 3,
   "metadata": {},
   "outputs": [
    {
     "name": "stderr",
     "output_type": "stream",
     "text": [
      "Using TensorFlow backend.\n"
     ]
    }
   ],
   "source": [
    "import model"
   ]
  },
  {
   "cell_type": "markdown",
   "metadata": {},
   "source": [
    "### Get data"
   ]
  },
  {
   "cell_type": "markdown",
   "metadata": {},
   "source": [
    "Load processed data"
   ]
  },
  {
   "cell_type": "code",
   "execution_count": 4,
   "metadata": {},
   "outputs": [],
   "source": [
    "df = pd.read_csv(\"C:\\\\Users\\\\15713\\\\Desktop\\\\DS Projects\\\\Sentiment Analysis on Movie Reviews\\\\sentiment-analysis-on-movie-reviews\\\\data\\\\processed_movie_reviews.csv\")"
   ]
  },
  {
   "cell_type": "markdown",
   "metadata": {},
   "source": [
    "Train test split the data"
   ]
  },
  {
   "cell_type": "code",
   "execution_count": 5,
   "metadata": {},
   "outputs": [],
   "source": [
    "train, test = model.get_train_test(df)"
   ]
  },
  {
   "cell_type": "markdown",
   "metadata": {},
   "source": [
    "### Build models using training data and cross-validation"
   ]
  },
  {
   "cell_type": "markdown",
   "metadata": {},
   "source": [
    "_Build ML models_"
   ]
  },
  {
   "cell_type": "code",
   "execution_count": 6,
   "metadata": {},
   "outputs": [
    {
     "name": "stdout",
     "output_type": "stream",
     "text": [
      "Best estimator:\n",
      "OneVsRestClassifier(estimator=LogisticRegression(C=10.0, class_weight=None,\n",
      "                                                 dual=False, fit_intercept=True,\n",
      "                                                 intercept_scaling=1,\n",
      "                                                 l1_ratio=None, max_iter=100,\n",
      "                                                 multi_class='auto', n_jobs=-1,\n",
      "                                                 penalty='l2',\n",
      "                                                 random_state=2374,\n",
      "                                                 solver='sag', tol=0.0001,\n",
      "                                                 verbose=0, warm_start=True),\n",
      "                    n_jobs=-1)\n",
      "\n",
      "Best parameters:\n",
      "{'estimator__C': 10.0, 'estimator__solver': 'sag', 'estimator__warm_start': True}\n",
      "\n",
      "Best score:\n",
      "0.8541359465008306\n",
      "\n",
      "Grid scores on training set:\n",
      "0.746 (+/-0.006) for {'estimator__C': 0.01, 'estimator__solver': 'saga', 'estimator__warm_start': True}\n",
      "0.746 (+/-0.006) for {'estimator__C': 0.01, 'estimator__solver': 'saga', 'estimator__warm_start': False}\n",
      "0.746 (+/-0.006) for {'estimator__C': 0.01, 'estimator__solver': 'sag', 'estimator__warm_start': True}\n",
      "0.746 (+/-0.006) for {'estimator__C': 0.01, 'estimator__solver': 'sag', 'estimator__warm_start': False}\n",
      "0.746 (+/-0.006) for {'estimator__C': 0.01, 'estimator__solver': 'lbfgs', 'estimator__warm_start': True}\n",
      "0.746 (+/-0.006) for {'estimator__C': 0.01, 'estimator__solver': 'lbfgs', 'estimator__warm_start': False}\n",
      "0.807 (+/-0.004) for {'estimator__C': 0.1, 'estimator__solver': 'saga', 'estimator__warm_start': True}\n",
      "0.807 (+/-0.004) for {'estimator__C': 0.1, 'estimator__solver': 'saga', 'estimator__warm_start': False}\n",
      "0.807 (+/-0.004) for {'estimator__C': 0.1, 'estimator__solver': 'sag', 'estimator__warm_start': True}\n",
      "0.807 (+/-0.004) for {'estimator__C': 0.1, 'estimator__solver': 'sag', 'estimator__warm_start': False}\n",
      "0.807 (+/-0.004) for {'estimator__C': 0.1, 'estimator__solver': 'lbfgs', 'estimator__warm_start': True}\n",
      "0.807 (+/-0.004) for {'estimator__C': 0.1, 'estimator__solver': 'lbfgs', 'estimator__warm_start': False}\n",
      "0.850 (+/-0.003) for {'estimator__C': 1.0, 'estimator__solver': 'saga', 'estimator__warm_start': True}\n",
      "0.850 (+/-0.003) for {'estimator__C': 1.0, 'estimator__solver': 'saga', 'estimator__warm_start': False}\n",
      "0.850 (+/-0.003) for {'estimator__C': 1.0, 'estimator__solver': 'sag', 'estimator__warm_start': True}\n",
      "0.850 (+/-0.003) for {'estimator__C': 1.0, 'estimator__solver': 'sag', 'estimator__warm_start': False}\n",
      "0.850 (+/-0.003) for {'estimator__C': 1.0, 'estimator__solver': 'lbfgs', 'estimator__warm_start': True}\n",
      "0.850 (+/-0.003) for {'estimator__C': 1.0, 'estimator__solver': 'lbfgs', 'estimator__warm_start': False}\n",
      "0.854 (+/-0.004) for {'estimator__C': 10.0, 'estimator__solver': 'saga', 'estimator__warm_start': True}\n",
      "0.854 (+/-0.004) for {'estimator__C': 10.0, 'estimator__solver': 'saga', 'estimator__warm_start': False}\n",
      "0.854 (+/-0.004) for {'estimator__C': 10.0, 'estimator__solver': 'sag', 'estimator__warm_start': True}\n",
      "0.854 (+/-0.004) for {'estimator__C': 10.0, 'estimator__solver': 'sag', 'estimator__warm_start': False}\n",
      "0.854 (+/-0.004) for {'estimator__C': 10.0, 'estimator__solver': 'lbfgs', 'estimator__warm_start': True}\n",
      "0.854 (+/-0.004) for {'estimator__C': 10.0, 'estimator__solver': 'lbfgs', 'estimator__warm_start': False}\n",
      "0.852 (+/-0.004) for {'estimator__C': 15.0, 'estimator__solver': 'saga', 'estimator__warm_start': True}\n",
      "0.852 (+/-0.004) for {'estimator__C': 15.0, 'estimator__solver': 'saga', 'estimator__warm_start': False}\n",
      "0.852 (+/-0.004) for {'estimator__C': 15.0, 'estimator__solver': 'sag', 'estimator__warm_start': True}\n",
      "0.852 (+/-0.004) for {'estimator__C': 15.0, 'estimator__solver': 'sag', 'estimator__warm_start': False}\n",
      "0.853 (+/-0.004) for {'estimator__C': 15.0, 'estimator__solver': 'lbfgs', 'estimator__warm_start': True}\n",
      "0.853 (+/-0.004) for {'estimator__C': 15.0, 'estimator__solver': 'lbfgs', 'estimator__warm_start': False}\n",
      "0.851 (+/-0.004) for {'estimator__C': 20.0, 'estimator__solver': 'saga', 'estimator__warm_start': True}\n",
      "0.851 (+/-0.004) for {'estimator__C': 20.0, 'estimator__solver': 'saga', 'estimator__warm_start': False}\n",
      "0.851 (+/-0.004) for {'estimator__C': 20.0, 'estimator__solver': 'sag', 'estimator__warm_start': True}\n",
      "0.851 (+/-0.004) for {'estimator__C': 20.0, 'estimator__solver': 'sag', 'estimator__warm_start': False}\n",
      "0.852 (+/-0.004) for {'estimator__C': 20.0, 'estimator__solver': 'lbfgs', 'estimator__warm_start': True}\n",
      "0.852 (+/-0.004) for {'estimator__C': 20.0, 'estimator__solver': 'lbfgs', 'estimator__warm_start': False}\n",
      "0.850 (+/-0.004) for {'estimator__C': 25.0, 'estimator__solver': 'saga', 'estimator__warm_start': True}\n",
      "0.850 (+/-0.004) for {'estimator__C': 25.0, 'estimator__solver': 'saga', 'estimator__warm_start': False}\n",
      "0.850 (+/-0.004) for {'estimator__C': 25.0, 'estimator__solver': 'sag', 'estimator__warm_start': True}\n",
      "0.850 (+/-0.004) for {'estimator__C': 25.0, 'estimator__solver': 'sag', 'estimator__warm_start': False}\n",
      "0.851 (+/-0.004) for {'estimator__C': 25.0, 'estimator__solver': 'lbfgs', 'estimator__warm_start': True}\n",
      "0.851 (+/-0.004) for {'estimator__C': 25.0, 'estimator__solver': 'lbfgs', 'estimator__warm_start': False}\n",
      "0.849 (+/-0.004) for {'estimator__C': 30.0, 'estimator__solver': 'saga', 'estimator__warm_start': True}\n",
      "0.849 (+/-0.004) for {'estimator__C': 30.0, 'estimator__solver': 'saga', 'estimator__warm_start': False}\n",
      "0.849 (+/-0.004) for {'estimator__C': 30.0, 'estimator__solver': 'sag', 'estimator__warm_start': True}\n",
      "0.849 (+/-0.004) for {'estimator__C': 30.0, 'estimator__solver': 'sag', 'estimator__warm_start': False}\n",
      "0.851 (+/-0.004) for {'estimator__C': 30.0, 'estimator__solver': 'lbfgs', 'estimator__warm_start': True}\n",
      "0.851 (+/-0.004) for {'estimator__C': 30.0, 'estimator__solver': 'lbfgs', 'estimator__warm_start': False}\n",
      "0.846 (+/-0.004) for {'estimator__C': 50.0, 'estimator__solver': 'saga', 'estimator__warm_start': True}\n",
      "0.846 (+/-0.004) for {'estimator__C': 50.0, 'estimator__solver': 'saga', 'estimator__warm_start': False}\n",
      "0.846 (+/-0.004) for {'estimator__C': 50.0, 'estimator__solver': 'sag', 'estimator__warm_start': True}\n",
      "0.846 (+/-0.004) for {'estimator__C': 50.0, 'estimator__solver': 'sag', 'estimator__warm_start': False}\n",
      "0.849 (+/-0.005) for {'estimator__C': 50.0, 'estimator__solver': 'lbfgs', 'estimator__warm_start': True}\n",
      "0.849 (+/-0.005) for {'estimator__C': 50.0, 'estimator__solver': 'lbfgs', 'estimator__warm_start': False}\n",
      "0.843 (+/-0.005) for {'estimator__C': 100.0, 'estimator__solver': 'saga', 'estimator__warm_start': True}\n",
      "0.843 (+/-0.005) for {'estimator__C': 100.0, 'estimator__solver': 'saga', 'estimator__warm_start': False}\n",
      "0.843 (+/-0.005) for {'estimator__C': 100.0, 'estimator__solver': 'sag', 'estimator__warm_start': True}\n",
      "0.843 (+/-0.005) for {'estimator__C': 100.0, 'estimator__solver': 'sag', 'estimator__warm_start': False}\n",
      "0.848 (+/-0.004) for {'estimator__C': 100.0, 'estimator__solver': 'lbfgs', 'estimator__warm_start': True}\n",
      "0.848 (+/-0.004) for {'estimator__C': 100.0, 'estimator__solver': 'lbfgs', 'estimator__warm_start': False}\n",
      "\n"
     ]
    }
   ],
   "source": [
    "lemmed_logistic_model = model.build_ML_model(train.PhraseLemmed, train.Sentiment, \"lemmed\", \"logistic\")"
   ]
  },
  {
   "cell_type": "code",
   "execution_count": 7,
   "metadata": {
    "scrolled": false
   },
   "outputs": [
    {
     "name": "stdout",
     "output_type": "stream",
     "text": [
      "Best estimator:\n",
      "OneVsRestClassifier(estimator=DecisionTreeClassifier(ccp_alpha=0.0,\n",
      "                                                     class_weight=None,\n",
      "                                                     criterion='gini',\n",
      "                                                     max_depth=None,\n",
      "                                                     max_features='sqrt',\n",
      "                                                     max_leaf_nodes=None,\n",
      "                                                     min_impurity_decrease=0.0,\n",
      "                                                     min_impurity_split=None,\n",
      "                                                     min_samples_leaf=5,\n",
      "                                                     min_samples_split=25,\n",
      "                                                     min_weight_fraction_leaf=0.0,\n",
      "                                                     presort='deprecated',\n",
      "                                                     random_state=8743,\n",
      "                                                     splitter='best'),\n",
      "                    n_jobs=-1)\n",
      "\n",
      "Best parameters:\n",
      "{'estimator__class_weight': None, 'estimator__criterion': 'gini', 'estimator__max_features': 'sqrt', 'estimator__min_samples_split': 25}\n",
      "\n",
      "Best score:\n",
      "0.7554245210126334\n",
      "\n",
      "Grid scores on training set:\n",
      "0.701 (+/-0.006) for {'estimator__class_weight': 'balanced', 'estimator__criterion': 'gini', 'estimator__max_features': None, 'estimator__min_samples_split': 10}\n",
      "0.714 (+/-0.004) for {'estimator__class_weight': 'balanced', 'estimator__criterion': 'gini', 'estimator__max_features': None, 'estimator__min_samples_split': 25}\n",
      "0.746 (+/-0.007) for {'estimator__class_weight': 'balanced', 'estimator__criterion': 'gini', 'estimator__max_features': 'sqrt', 'estimator__min_samples_split': 10}\n",
      "0.748 (+/-0.005) for {'estimator__class_weight': 'balanced', 'estimator__criterion': 'gini', 'estimator__max_features': 'sqrt', 'estimator__min_samples_split': 25}\n",
      "0.696 (+/-0.006) for {'estimator__class_weight': 'balanced', 'estimator__criterion': 'entropy', 'estimator__max_features': None, 'estimator__min_samples_split': 10}\n",
      "0.709 (+/-0.006) for {'estimator__class_weight': 'balanced', 'estimator__criterion': 'entropy', 'estimator__max_features': None, 'estimator__min_samples_split': 25}\n",
      "0.748 (+/-0.008) for {'estimator__class_weight': 'balanced', 'estimator__criterion': 'entropy', 'estimator__max_features': 'sqrt', 'estimator__min_samples_split': 10}\n",
      "0.749 (+/-0.009) for {'estimator__class_weight': 'balanced', 'estimator__criterion': 'entropy', 'estimator__max_features': 'sqrt', 'estimator__min_samples_split': 25}\n",
      "0.724 (+/-0.006) for {'estimator__class_weight': None, 'estimator__criterion': 'gini', 'estimator__max_features': None, 'estimator__min_samples_split': 10}\n",
      "0.737 (+/-0.005) for {'estimator__class_weight': None, 'estimator__criterion': 'gini', 'estimator__max_features': None, 'estimator__min_samples_split': 25}\n",
      "0.755 (+/-0.008) for {'estimator__class_weight': None, 'estimator__criterion': 'gini', 'estimator__max_features': 'sqrt', 'estimator__min_samples_split': 10}\n",
      "0.755 (+/-0.006) for {'estimator__class_weight': None, 'estimator__criterion': 'gini', 'estimator__max_features': 'sqrt', 'estimator__min_samples_split': 25}\n",
      "0.705 (+/-0.010) for {'estimator__class_weight': None, 'estimator__criterion': 'entropy', 'estimator__max_features': None, 'estimator__min_samples_split': 10}\n",
      "0.718 (+/-0.009) for {'estimator__class_weight': None, 'estimator__criterion': 'entropy', 'estimator__max_features': None, 'estimator__min_samples_split': 25}\n",
      "0.752 (+/-0.005) for {'estimator__class_weight': None, 'estimator__criterion': 'entropy', 'estimator__max_features': 'sqrt', 'estimator__min_samples_split': 10}\n",
      "0.751 (+/-0.004) for {'estimator__class_weight': None, 'estimator__criterion': 'entropy', 'estimator__max_features': 'sqrt', 'estimator__min_samples_split': 25}\n",
      "\n"
     ]
    }
   ],
   "source": [
    "lemmed_decision_tree_model = model.build_ML_model(train.PhraseLemmed, train.Sentiment, \"lemmed\", \"decision_tree\")"
   ]
  },
  {
   "cell_type": "code",
   "execution_count": 8,
   "metadata": {},
   "outputs": [
    {
     "name": "stdout",
     "output_type": "stream",
     "text": [
      "Best estimator:\n",
      "OneVsRestClassifier(estimator=RandomForestClassifier(bootstrap=True,\n",
      "                                                     ccp_alpha=0.0,\n",
      "                                                     class_weight=None,\n",
      "                                                     criterion='entropy',\n",
      "                                                     max_depth=None,\n",
      "                                                     max_features='sqrt',\n",
      "                                                     max_leaf_nodes=None,\n",
      "                                                     max_samples=None,\n",
      "                                                     min_impurity_decrease=0.0,\n",
      "                                                     min_impurity_split=None,\n",
      "                                                     min_samples_leaf=5,\n",
      "                                                     min_samples_split=10,\n",
      "                                                     min_weight_fraction_leaf=0.0,\n",
      "                                                     n_estimators=100,\n",
      "                                                     n_jobs=-1, oob_score=False,\n",
      "                                                     random_state=2947,\n",
      "                                                     verbose=0,\n",
      "                                                     warm_start=False),\n",
      "                    n_jobs=-1)\n",
      "\n",
      "Best parameters:\n",
      "{'estimator__class_weight': None, 'estimator__criterion': 'entropy', 'estimator__min_samples_split': 10}\n",
      "\n",
      "Best score:\n",
      "0.8289437207816357\n",
      "\n",
      "Grid scores on training set:\n",
      "0.818 (+/-0.001) for {'estimator__class_weight': 'balanced', 'estimator__criterion': 'gini', 'estimator__min_samples_split': 10}\n",
      "0.818 (+/-0.001) for {'estimator__class_weight': 'balanced', 'estimator__criterion': 'gini', 'estimator__min_samples_split': 25}\n",
      "0.820 (+/-0.002) for {'estimator__class_weight': 'balanced', 'estimator__criterion': 'entropy', 'estimator__min_samples_split': 10}\n",
      "0.820 (+/-0.002) for {'estimator__class_weight': 'balanced', 'estimator__criterion': 'entropy', 'estimator__min_samples_split': 25}\n",
      "0.829 (+/-0.001) for {'estimator__class_weight': None, 'estimator__criterion': 'gini', 'estimator__min_samples_split': 10}\n",
      "0.828 (+/-0.001) for {'estimator__class_weight': None, 'estimator__criterion': 'gini', 'estimator__min_samples_split': 25}\n",
      "0.829 (+/-0.002) for {'estimator__class_weight': None, 'estimator__criterion': 'entropy', 'estimator__min_samples_split': 10}\n",
      "0.829 (+/-0.002) for {'estimator__class_weight': None, 'estimator__criterion': 'entropy', 'estimator__min_samples_split': 25}\n",
      "\n"
     ]
    }
   ],
   "source": [
    "lemmed_random_forest_model = model.build_ML_model(train.PhraseLemmed, train.Sentiment, \"lemmed\", \"random_forest\", 5)"
   ]
  },
  {
   "cell_type": "markdown",
   "metadata": {},
   "source": [
    "_Build DL models_"
   ]
  },
  {
   "cell_type": "code",
   "execution_count": null,
   "metadata": {},
   "outputs": [],
   "source": [
    "lemmed_ann_model = model.build_DL_model(train.PhraseLemmed, train.Sentiment, \"lemmed\", \"ann\")"
   ]
  },
  {
   "cell_type": "code",
   "execution_count": 6,
   "metadata": {
    "scrolled": false
   },
   "outputs": [
    {
     "name": "stdout",
     "output_type": "stream",
     "text": [
      "Model: \"sequential_1\"\n",
      "_________________________________________________________________\n",
      "Layer (type)                 Output Shape              Param #   \n",
      "=================================================================\n",
      "simple_rnn_1 (SimpleRNN)     (None, 32)                446368    \n",
      "_________________________________________________________________\n",
      "dense_2 (Dense)              (None, 5)                 165       \n",
      "=================================================================\n",
      "Total params: 446,533\n",
      "Trainable params: 446,533\n",
      "Non-trainable params: 0\n",
      "_________________________________________________________________\n",
      "Epoch 1/500\n",
      "195/195 [==============================] - 169s 868ms/step - loss: 1.3597 - acc: 0.5022 - val_loss: 1.2272 - val_acc: 0.5013\n",
      "Epoch 2/500\n",
      "195/195 [==============================] - 169s 868ms/step - loss: 1.2028 - acc: 0.5182 - val_loss: 1.0789 - val_acc: 0.5384\n",
      "Epoch 3/500\n",
      "195/195 [==============================] - 175s 896ms/step - loss: 1.1309 - acc: 0.5433 - val_loss: 0.9828 - val_acc: 0.5651\n",
      "Epoch 4/500\n",
      "195/195 [==============================] - 183s 936ms/step - loss: 1.0548 - acc: 0.5680 - val_loss: 0.9573 - val_acc: 0.5785\n",
      "Epoch 5/500\n",
      "195/195 [==============================] - 186s 953ms/step - loss: 0.9949 - acc: 0.6026 - val_loss: 0.8942 - val_acc: 0.6104\n",
      "Epoch 6/500\n",
      "195/195 [==============================] - 183s 937ms/step - loss: 0.9683 - acc: 0.6101 - val_loss: 0.9002 - val_acc: 0.6019\n",
      "Epoch 7/500\n",
      "195/195 [==============================] - 181s 927ms/step - loss: 0.9472 - acc: 0.6188 - val_loss: 0.8701 - val_acc: 0.6143\n",
      "Epoch 8/500\n",
      "195/195 [==============================] - 180s 923ms/step - loss: 0.9451 - acc: 0.6165 - val_loss: 0.9097 - val_acc: 0.6364\n",
      "Epoch 9/500\n",
      "195/195 [==============================] - 144s 740ms/step - loss: 0.8336 - acc: 0.6628 - val_loss: 0.8388 - val_acc: 0.6250\n",
      "Epoch 10/500\n",
      "195/195 [==============================] - 157s 803ms/step - loss: 0.8320 - acc: 0.6612 - val_loss: 0.7844 - val_acc: 0.6344\n",
      "Epoch 11/500\n",
      "195/195 [==============================] - 175s 895ms/step - loss: 0.8333 - acc: 0.6586 - val_loss: 1.0493 - val_acc: 0.6354\n",
      "Epoch 12/500\n",
      "195/195 [==============================] - 182s 935ms/step - loss: 0.8167 - acc: 0.6665 - val_loss: 0.8824 - val_acc: 0.6504\n",
      "Epoch 13/500\n",
      "195/195 [==============================] - 185s 948ms/step - loss: 0.8213 - acc: 0.6658 - val_loss: 0.8956 - val_acc: 0.6312\n",
      "Epoch 14/500\n",
      "195/195 [==============================] - 185s 947ms/step - loss: 0.8243 - acc: 0.6677 - val_loss: 0.8776 - val_acc: 0.6419\n",
      "Epoch 15/500\n",
      "195/195 [==============================] - 191s 980ms/step - loss: 0.8304 - acc: 0.6587 - val_loss: 1.1376 - val_acc: 0.6429\n",
      "Epoch 16/500\n",
      "195/195 [==============================] - 190s 975ms/step - loss: 0.8242 - acc: 0.6685 - val_loss: 1.0932 - val_acc: 0.6611\n",
      "Epoch 17/500\n",
      "195/195 [==============================] - 138s 706ms/step - loss: 0.7166 - acc: 0.7077 - val_loss: 0.9690 - val_acc: 0.6416\n",
      "Epoch 18/500\n",
      "195/195 [==============================] - 163s 838ms/step - loss: 0.7407 - acc: 0.6947 - val_loss: 0.8031 - val_acc: 0.6468\n",
      "Epoch 19/500\n",
      "195/195 [==============================] - 173s 887ms/step - loss: 0.7440 - acc: 0.6954 - val_loss: 0.9758 - val_acc: 0.6299\n",
      "Epoch 20/500\n",
      "195/195 [==============================] - 185s 951ms/step - loss: 0.7449 - acc: 0.7007 - val_loss: 1.0237 - val_acc: 0.6364\n",
      "Epoch 21/500\n",
      "195/195 [==============================] - 184s 944ms/step - loss: 0.7679 - acc: 0.6840 - val_loss: 0.9744 - val_acc: 0.6387\n",
      "Epoch 22/500\n",
      "195/195 [==============================] - 184s 946ms/step - loss: 0.7787 - acc: 0.6823 - val_loss: 0.7766 - val_acc: 0.6637\n",
      "Epoch 23/500\n",
      "195/195 [==============================] - 183s 940ms/step - loss: 0.7888 - acc: 0.6712 - val_loss: 0.9158 - val_acc: 0.6328\n",
      "Epoch 24/500\n",
      "195/195 [==============================] - 187s 961ms/step - loss: 0.7756 - acc: 0.6864 - val_loss: 0.9953 - val_acc: 0.6449\n",
      "Epoch 25/500\n",
      "195/195 [==============================] - 141s 721ms/step - loss: 0.6895 - acc: 0.7172 - val_loss: 0.9447 - val_acc: 0.6488\n",
      "Epoch 26/500\n",
      "195/195 [==============================] - 160s 818ms/step - loss: 0.6960 - acc: 0.7106 - val_loss: 0.9323 - val_acc: 0.6377\n",
      "Epoch 27/500\n",
      "195/195 [==============================] - 179s 918ms/step - loss: 0.7122 - acc: 0.7090 - val_loss: 0.9533 - val_acc: 0.6322\n",
      "Epoch 28/500\n",
      "195/195 [==============================] - 185s 950ms/step - loss: 0.7232 - acc: 0.7024 - val_loss: 0.7927 - val_acc: 0.6507\n",
      "Epoch 29/500\n",
      "195/195 [==============================] - 181s 928ms/step - loss: 0.7340 - acc: 0.6969 - val_loss: 1.0007 - val_acc: 0.6559\n",
      "Epoch 30/500\n",
      "195/195 [==============================] - 183s 939ms/step - loss: 0.7273 - acc: 0.6970 - val_loss: 1.1380 - val_acc: 0.6455\n",
      "Epoch 31/500\n",
      "195/195 [==============================] - 182s 936ms/step - loss: 0.7428 - acc: 0.6925 - val_loss: 0.8688 - val_acc: 0.6374\n",
      "Epoch 32/500\n",
      "195/195 [==============================] - 184s 946ms/step - loss: 0.7453 - acc: 0.6931 - val_loss: 0.8349 - val_acc: 0.6283\n",
      "Epoch 33/500\n",
      "195/195 [==============================] - 146s 746ms/step - loss: 0.6498 - acc: 0.7329 - val_loss: 1.0110 - val_acc: 0.6335\n",
      "Epoch 34/500\n",
      "195/195 [==============================] - 161s 825ms/step - loss: 0.6630 - acc: 0.7240 - val_loss: 0.9418 - val_acc: 0.6403\n",
      "Epoch 35/500\n",
      "195/195 [==============================] - 177s 908ms/step - loss: 0.6855 - acc: 0.7151 - val_loss: 0.8250 - val_acc: 0.6426\n",
      "Epoch 36/500\n",
      "195/195 [==============================] - 179s 917ms/step - loss: 0.7098 - acc: 0.7075 - val_loss: 0.8735 - val_acc: 0.6387\n",
      "Epoch 37/500\n",
      "195/195 [==============================] - 182s 933ms/step - loss: 0.7177 - acc: 0.7057 - val_loss: 1.1189 - val_acc: 0.6416\n",
      "Epoch 38/500\n",
      "195/195 [==============================] - 180s 923ms/step - loss: 0.7196 - acc: 0.6976 - val_loss: 0.6973 - val_acc: 0.6289\n",
      "Epoch 39/500\n",
      "195/195 [==============================] - 186s 953ms/step - loss: 0.7180 - acc: 0.6994 - val_loss: 0.9488 - val_acc: 0.6403\n",
      "Epoch 40/500\n",
      "195/195 [==============================] - 180s 923ms/step - loss: 0.7347 - acc: 0.6919 - val_loss: 1.0206 - val_acc: 0.6312\n",
      "Epoch 41/500\n",
      "195/195 [==============================] - 140s 719ms/step - loss: 0.6301 - acc: 0.7401 - val_loss: 0.9029 - val_acc: 0.6530\n",
      "Epoch 42/500\n",
      "195/195 [==============================] - 154s 787ms/step - loss: 0.6610 - acc: 0.7264 - val_loss: 0.8067 - val_acc: 0.6390\n"
     ]
    },
    {
     "data": {
      "image/png": "[encoded data removed]",
      "text/plain": [
       "<Figure size 432x288 with 1 Axes>"
      ]
     },
     "metadata": {
      "needs_background": "light"
     },
     "output_type": "display_data"
    }
   ],
   "source": [
    "lemmed_rnn_model = model.build_DL_model(train.PhraseLemmed, train.Sentiment, \"lemmed\", \"rnn\")"
   ]
  },
  {
   "cell_type": "code",
   "execution_count": null,
   "metadata": {},
   "outputs": [],
   "source": [
    "lemmed_lstm_model = model.build_DL_model(train.PhraseLemmed, train.Sentiment, \"lemmed\", \"lstm\")"
   ]
  },
  {
   "cell_type": "code",
   "execution_count": null,
   "metadata": {},
   "outputs": [],
   "source": [
    "lemmed_gru_model = model.build_DL_model(train.PhraseLemmed, train.Sentiment, \"lemmed\", \"gru\")"
   ]
  }
 ],
 "metadata": {
  "kernelspec": {
   "display_name": "Python 3",
   "language": "python",
   "name": "python3"
  },
  "language_info": {
   "codemirror_mode": {
    "name": "ipython",
    "version": 3
   },
   "file_extension": ".py",
   "mimetype": "text/x-python",
   "name": "python",
   "nbconvert_exporter": "python",
   "pygments_lexer": "ipython3",
   "version": "3.7.4"
  }
 },
 "nbformat": 4,
 "nbformat_minor": 2
}
