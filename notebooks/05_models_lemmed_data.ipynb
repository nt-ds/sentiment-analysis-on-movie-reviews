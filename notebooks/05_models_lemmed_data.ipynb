{
 "cells": [
  {
   "cell_type": "markdown",
   "metadata": {},
   "source": [
    "### Import libraries"
   ]
  },
  {
   "cell_type": "code",
   "execution_count": 1,
   "metadata": {},
   "outputs": [],
   "source": [
    "import warnings\n",
    "\n",
    "import pandas as pd\n",
    "\n",
    "# Ignore warnings\n",
    "warnings.filterwarnings(\"ignore\")"
   ]
  },
  {
   "cell_type": "markdown",
   "metadata": {},
   "source": [
    "Change directories to get src code"
   ]
  },
  {
   "cell_type": "code",
   "execution_count": 2,
   "metadata": {},
   "outputs": [
    {
     "name": "stdout",
     "output_type": "stream",
     "text": [
      "C:\\Users\\15713\\Desktop\\DS Projects\\Sentiment Analysis on Movie Reviews\\sentiment-analysis-on-movie-reviews\\src\n"
     ]
    }
   ],
   "source": [
    "%cd C:\\Users\\15713\\Desktop\\DS Projects\\Sentiment Analysis on Movie Reviews\\sentiment-analysis-on-movie-reviews\\src"
   ]
  },
  {
   "cell_type": "code",
   "execution_count": 3,
   "metadata": {},
   "outputs": [],
   "source": [
    "import model"
   ]
  },
  {
   "cell_type": "markdown",
   "metadata": {},
   "source": [
    "### Get data"
   ]
  },
  {
   "cell_type": "markdown",
   "metadata": {},
   "source": [
    "Load processed data"
   ]
  },
  {
   "cell_type": "code",
   "execution_count": 4,
   "metadata": {},
   "outputs": [],
   "source": [
    "df = pd.read_csv(\"C:\\\\Users\\\\15713\\\\Desktop\\\\DS Projects\\\\Sentiment Analysis on Movie Reviews\\\\sentiment-analysis-on-movie-reviews\\\\data\\\\processed_movie_reviews.csv\")"
   ]
  },
  {
   "cell_type": "markdown",
   "metadata": {},
   "source": [
    "Train test split the data"
   ]
  },
  {
   "cell_type": "code",
   "execution_count": 5,
   "metadata": {},
   "outputs": [],
   "source": [
    "train, test = model.get_train_test(df)"
   ]
  },
  {
   "cell_type": "markdown",
   "metadata": {},
   "source": [
    "### Build models using training data and cross-validation"
   ]
  },
  {
   "cell_type": "markdown",
   "metadata": {},
   "source": [
    "_Build ML models_"
   ]
  },
  {
   "cell_type": "code",
   "execution_count": 6,
   "metadata": {},
   "outputs": [
    {
     "name": "stdout",
     "output_type": "stream",
     "text": [
      "Best estimator:\n",
      "OneVsRestClassifier(estimator=LogisticRegression(C=10.0, class_weight=None,\n",
      "                                                 dual=False, fit_intercept=True,\n",
      "                                                 intercept_scaling=1,\n",
      "                                                 l1_ratio=None, max_iter=100,\n",
      "                                                 multi_class='auto', n_jobs=-1,\n",
      "                                                 penalty='l2',\n",
      "                                                 random_state=2374,\n",
      "                                                 solver='sag', tol=0.0001,\n",
      "                                                 verbose=0, warm_start=True),\n",
      "                    n_jobs=-1)\n",
      "\n",
      "Best parameters:\n",
      "{'estimator__C': 10.0, 'estimator__solver': 'sag', 'estimator__warm_start': True}\n",
      "\n",
      "Best score:\n",
      "0.8541359465008306\n",
      "\n",
      "Grid scores on training set:\n",
      "0.746 (+/-0.006) for {'estimator__C': 0.01, 'estimator__solver': 'saga', 'estimator__warm_start': True}\n",
      "0.746 (+/-0.006) for {'estimator__C': 0.01, 'estimator__solver': 'saga', 'estimator__warm_start': False}\n",
      "0.746 (+/-0.006) for {'estimator__C': 0.01, 'estimator__solver': 'sag', 'estimator__warm_start': True}\n",
      "0.746 (+/-0.006) for {'estimator__C': 0.01, 'estimator__solver': 'sag', 'estimator__warm_start': False}\n",
      "0.746 (+/-0.006) for {'estimator__C': 0.01, 'estimator__solver': 'lbfgs', 'estimator__warm_start': True}\n",
      "0.746 (+/-0.006) for {'estimator__C': 0.01, 'estimator__solver': 'lbfgs', 'estimator__warm_start': False}\n",
      "0.807 (+/-0.004) for {'estimator__C': 0.1, 'estimator__solver': 'saga', 'estimator__warm_start': True}\n",
      "0.807 (+/-0.004) for {'estimator__C': 0.1, 'estimator__solver': 'saga', 'estimator__warm_start': False}\n",
      "0.807 (+/-0.004) for {'estimator__C': 0.1, 'estimator__solver': 'sag', 'estimator__warm_start': True}\n",
      "0.807 (+/-0.004) for {'estimator__C': 0.1, 'estimator__solver': 'sag', 'estimator__warm_start': False}\n",
      "0.807 (+/-0.004) for {'estimator__C': 0.1, 'estimator__solver': 'lbfgs', 'estimator__warm_start': True}\n",
      "0.807 (+/-0.004) for {'estimator__C': 0.1, 'estimator__solver': 'lbfgs', 'estimator__warm_start': False}\n",
      "0.850 (+/-0.003) for {'estimator__C': 1.0, 'estimator__solver': 'saga', 'estimator__warm_start': True}\n",
      "0.850 (+/-0.003) for {'estimator__C': 1.0, 'estimator__solver': 'saga', 'estimator__warm_start': False}\n",
      "0.850 (+/-0.003) for {'estimator__C': 1.0, 'estimator__solver': 'sag', 'estimator__warm_start': True}\n",
      "0.850 (+/-0.003) for {'estimator__C': 1.0, 'estimator__solver': 'sag', 'estimator__warm_start': False}\n",
      "0.850 (+/-0.003) for {'estimator__C': 1.0, 'estimator__solver': 'lbfgs', 'estimator__warm_start': True}\n",
      "0.850 (+/-0.003) for {'estimator__C': 1.0, 'estimator__solver': 'lbfgs', 'estimator__warm_start': False}\n",
      "0.854 (+/-0.004) for {'estimator__C': 10.0, 'estimator__solver': 'saga', 'estimator__warm_start': True}\n",
      "0.854 (+/-0.004) for {'estimator__C': 10.0, 'estimator__solver': 'saga', 'estimator__warm_start': False}\n",
      "0.854 (+/-0.004) for {'estimator__C': 10.0, 'estimator__solver': 'sag', 'estimator__warm_start': True}\n",
      "0.854 (+/-0.004) for {'estimator__C': 10.0, 'estimator__solver': 'sag', 'estimator__warm_start': False}\n",
      "0.854 (+/-0.004) for {'estimator__C': 10.0, 'estimator__solver': 'lbfgs', 'estimator__warm_start': True}\n",
      "0.854 (+/-0.004) for {'estimator__C': 10.0, 'estimator__solver': 'lbfgs', 'estimator__warm_start': False}\n",
      "0.852 (+/-0.004) for {'estimator__C': 15.0, 'estimator__solver': 'saga', 'estimator__warm_start': True}\n",
      "0.852 (+/-0.004) for {'estimator__C': 15.0, 'estimator__solver': 'saga', 'estimator__warm_start': False}\n",
      "0.852 (+/-0.004) for {'estimator__C': 15.0, 'estimator__solver': 'sag', 'estimator__warm_start': True}\n",
      "0.852 (+/-0.004) for {'estimator__C': 15.0, 'estimator__solver': 'sag', 'estimator__warm_start': False}\n",
      "0.853 (+/-0.004) for {'estimator__C': 15.0, 'estimator__solver': 'lbfgs', 'estimator__warm_start': True}\n",
      "0.853 (+/-0.004) for {'estimator__C': 15.0, 'estimator__solver': 'lbfgs', 'estimator__warm_start': False}\n",
      "0.851 (+/-0.004) for {'estimator__C': 20.0, 'estimator__solver': 'saga', 'estimator__warm_start': True}\n",
      "0.851 (+/-0.004) for {'estimator__C': 20.0, 'estimator__solver': 'saga', 'estimator__warm_start': False}\n",
      "0.851 (+/-0.004) for {'estimator__C': 20.0, 'estimator__solver': 'sag', 'estimator__warm_start': True}\n",
      "0.851 (+/-0.004) for {'estimator__C': 20.0, 'estimator__solver': 'sag', 'estimator__warm_start': False}\n",
      "0.852 (+/-0.004) for {'estimator__C': 20.0, 'estimator__solver': 'lbfgs', 'estimator__warm_start': True}\n",
      "0.852 (+/-0.004) for {'estimator__C': 20.0, 'estimator__solver': 'lbfgs', 'estimator__warm_start': False}\n",
      "0.850 (+/-0.004) for {'estimator__C': 25.0, 'estimator__solver': 'saga', 'estimator__warm_start': True}\n",
      "0.850 (+/-0.004) for {'estimator__C': 25.0, 'estimator__solver': 'saga', 'estimator__warm_start': False}\n",
      "0.850 (+/-0.004) for {'estimator__C': 25.0, 'estimator__solver': 'sag', 'estimator__warm_start': True}\n",
      "0.850 (+/-0.004) for {'estimator__C': 25.0, 'estimator__solver': 'sag', 'estimator__warm_start': False}\n",
      "0.851 (+/-0.004) for {'estimator__C': 25.0, 'estimator__solver': 'lbfgs', 'estimator__warm_start': True}\n",
      "0.851 (+/-0.004) for {'estimator__C': 25.0, 'estimator__solver': 'lbfgs', 'estimator__warm_start': False}\n",
      "0.849 (+/-0.004) for {'estimator__C': 30.0, 'estimator__solver': 'saga', 'estimator__warm_start': True}\n",
      "0.849 (+/-0.004) for {'estimator__C': 30.0, 'estimator__solver': 'saga', 'estimator__warm_start': False}\n",
      "0.849 (+/-0.004) for {'estimator__C': 30.0, 'estimator__solver': 'sag', 'estimator__warm_start': True}\n",
      "0.849 (+/-0.004) for {'estimator__C': 30.0, 'estimator__solver': 'sag', 'estimator__warm_start': False}\n",
      "0.851 (+/-0.004) for {'estimator__C': 30.0, 'estimator__solver': 'lbfgs', 'estimator__warm_start': True}\n",
      "0.851 (+/-0.004) for {'estimator__C': 30.0, 'estimator__solver': 'lbfgs', 'estimator__warm_start': False}\n",
      "0.846 (+/-0.004) for {'estimator__C': 50.0, 'estimator__solver': 'saga', 'estimator__warm_start': True}\n",
      "0.846 (+/-0.004) for {'estimator__C': 50.0, 'estimator__solver': 'saga', 'estimator__warm_start': False}\n",
      "0.846 (+/-0.004) for {'estimator__C': 50.0, 'estimator__solver': 'sag', 'estimator__warm_start': True}\n",
      "0.846 (+/-0.004) for {'estimator__C': 50.0, 'estimator__solver': 'sag', 'estimator__warm_start': False}\n",
      "0.849 (+/-0.005) for {'estimator__C': 50.0, 'estimator__solver': 'lbfgs', 'estimator__warm_start': True}\n",
      "0.849 (+/-0.005) for {'estimator__C': 50.0, 'estimator__solver': 'lbfgs', 'estimator__warm_start': False}\n",
      "0.843 (+/-0.005) for {'estimator__C': 100.0, 'estimator__solver': 'saga', 'estimator__warm_start': True}\n",
      "0.843 (+/-0.005) for {'estimator__C': 100.0, 'estimator__solver': 'saga', 'estimator__warm_start': False}\n",
      "0.843 (+/-0.005) for {'estimator__C': 100.0, 'estimator__solver': 'sag', 'estimator__warm_start': True}\n",
      "0.843 (+/-0.005) for {'estimator__C': 100.0, 'estimator__solver': 'sag', 'estimator__warm_start': False}\n",
      "0.848 (+/-0.004) for {'estimator__C': 100.0, 'estimator__solver': 'lbfgs', 'estimator__warm_start': True}\n",
      "0.848 (+/-0.004) for {'estimator__C': 100.0, 'estimator__solver': 'lbfgs', 'estimator__warm_start': False}\n",
      "\n"
     ]
    }
   ],
   "source": [
    "lemmed_logistic_model = model.build_ML_model(train.PhraseLemmed, train.Sentiment, \"lemmed\", \"logistic\")"
   ]
  },
  {
   "cell_type": "code",
   "execution_count": 7,
   "metadata": {
    "scrolled": false
   },
   "outputs": [
    {
     "name": "stdout",
     "output_type": "stream",
     "text": [
      "Best estimator:\n",
      "OneVsRestClassifier(estimator=DecisionTreeClassifier(ccp_alpha=0.0,\n",
      "                                                     class_weight=None,\n",
      "                                                     criterion='gini',\n",
      "                                                     max_depth=None,\n",
      "                                                     max_features='sqrt',\n",
      "                                                     max_leaf_nodes=None,\n",
      "                                                     min_impurity_decrease=0.0,\n",
      "                                                     min_impurity_split=None,\n",
      "                                                     min_samples_leaf=5,\n",
      "                                                     min_samples_split=25,\n",
      "                                                     min_weight_fraction_leaf=0.0,\n",
      "                                                     presort='deprecated',\n",
      "                                                     random_state=8743,\n",
      "                                                     splitter='best'),\n",
      "                    n_jobs=-1)\n",
      "\n",
      "Best parameters:\n",
      "{'estimator__class_weight': None, 'estimator__criterion': 'gini', 'estimator__max_features': 'sqrt', 'estimator__min_samples_split': 25}\n",
      "\n",
      "Best score:\n",
      "0.7554245210126334\n",
      "\n",
      "Grid scores on training set:\n",
      "0.701 (+/-0.006) for {'estimator__class_weight': 'balanced', 'estimator__criterion': 'gini', 'estimator__max_features': None, 'estimator__min_samples_split': 10}\n",
      "0.714 (+/-0.004) for {'estimator__class_weight': 'balanced', 'estimator__criterion': 'gini', 'estimator__max_features': None, 'estimator__min_samples_split': 25}\n",
      "0.746 (+/-0.007) for {'estimator__class_weight': 'balanced', 'estimator__criterion': 'gini', 'estimator__max_features': 'sqrt', 'estimator__min_samples_split': 10}\n",
      "0.748 (+/-0.005) for {'estimator__class_weight': 'balanced', 'estimator__criterion': 'gini', 'estimator__max_features': 'sqrt', 'estimator__min_samples_split': 25}\n",
      "0.696 (+/-0.006) for {'estimator__class_weight': 'balanced', 'estimator__criterion': 'entropy', 'estimator__max_features': None, 'estimator__min_samples_split': 10}\n",
      "0.709 (+/-0.006) for {'estimator__class_weight': 'balanced', 'estimator__criterion': 'entropy', 'estimator__max_features': None, 'estimator__min_samples_split': 25}\n",
      "0.748 (+/-0.008) for {'estimator__class_weight': 'balanced', 'estimator__criterion': 'entropy', 'estimator__max_features': 'sqrt', 'estimator__min_samples_split': 10}\n",
      "0.749 (+/-0.009) for {'estimator__class_weight': 'balanced', 'estimator__criterion': 'entropy', 'estimator__max_features': 'sqrt', 'estimator__min_samples_split': 25}\n",
      "0.724 (+/-0.006) for {'estimator__class_weight': None, 'estimator__criterion': 'gini', 'estimator__max_features': None, 'estimator__min_samples_split': 10}\n",
      "0.737 (+/-0.005) for {'estimator__class_weight': None, 'estimator__criterion': 'gini', 'estimator__max_features': None, 'estimator__min_samples_split': 25}\n",
      "0.755 (+/-0.008) for {'estimator__class_weight': None, 'estimator__criterion': 'gini', 'estimator__max_features': 'sqrt', 'estimator__min_samples_split': 10}\n",
      "0.755 (+/-0.006) for {'estimator__class_weight': None, 'estimator__criterion': 'gini', 'estimator__max_features': 'sqrt', 'estimator__min_samples_split': 25}\n",
      "0.705 (+/-0.010) for {'estimator__class_weight': None, 'estimator__criterion': 'entropy', 'estimator__max_features': None, 'estimator__min_samples_split': 10}\n",
      "0.718 (+/-0.009) for {'estimator__class_weight': None, 'estimator__criterion': 'entropy', 'estimator__max_features': None, 'estimator__min_samples_split': 25}\n",
      "0.752 (+/-0.005) for {'estimator__class_weight': None, 'estimator__criterion': 'entropy', 'estimator__max_features': 'sqrt', 'estimator__min_samples_split': 10}\n",
      "0.751 (+/-0.004) for {'estimator__class_weight': None, 'estimator__criterion': 'entropy', 'estimator__max_features': 'sqrt', 'estimator__min_samples_split': 25}\n",
      "\n"
     ]
    }
   ],
   "source": [
    "lemmed_decision_tree_model = model.build_ML_model(train.PhraseLemmed, train.Sentiment, \"lemmed\", \"decision_tree\")"
   ]
  },
  {
   "cell_type": "code",
   "execution_count": 8,
   "metadata": {},
   "outputs": [
    {
     "name": "stdout",
     "output_type": "stream",
     "text": [
      "Best estimator:\n",
      "OneVsRestClassifier(estimator=RandomForestClassifier(bootstrap=True,\n",
      "                                                     ccp_alpha=0.0,\n",
      "                                                     class_weight=None,\n",
      "                                                     criterion='entropy',\n",
      "                                                     max_depth=None,\n",
      "                                                     max_features='sqrt',\n",
      "                                                     max_leaf_nodes=None,\n",
      "                                                     max_samples=None,\n",
      "                                                     min_impurity_decrease=0.0,\n",
      "                                                     min_impurity_split=None,\n",
      "                                                     min_samples_leaf=5,\n",
      "                                                     min_samples_split=10,\n",
      "                                                     min_weight_fraction_leaf=0.0,\n",
      "                                                     n_estimators=100,\n",
      "                                                     n_jobs=-1, oob_score=False,\n",
      "                                                     random_state=2947,\n",
      "                                                     verbose=0,\n",
      "                                                     warm_start=False),\n",
      "                    n_jobs=-1)\n",
      "\n",
      "Best parameters:\n",
      "{'estimator__class_weight': None, 'estimator__criterion': 'entropy', 'estimator__min_samples_split': 10}\n",
      "\n",
      "Best score:\n",
      "0.8289437207816357\n",
      "\n",
      "Grid scores on training set:\n",
      "0.818 (+/-0.001) for {'estimator__class_weight': 'balanced', 'estimator__criterion': 'gini', 'estimator__min_samples_split': 10}\n",
      "0.818 (+/-0.001) for {'estimator__class_weight': 'balanced', 'estimator__criterion': 'gini', 'estimator__min_samples_split': 25}\n",
      "0.820 (+/-0.002) for {'estimator__class_weight': 'balanced', 'estimator__criterion': 'entropy', 'estimator__min_samples_split': 10}\n",
      "0.820 (+/-0.002) for {'estimator__class_weight': 'balanced', 'estimator__criterion': 'entropy', 'estimator__min_samples_split': 25}\n",
      "0.829 (+/-0.001) for {'estimator__class_weight': None, 'estimator__criterion': 'gini', 'estimator__min_samples_split': 10}\n",
      "0.828 (+/-0.001) for {'estimator__class_weight': None, 'estimator__criterion': 'gini', 'estimator__min_samples_split': 25}\n",
      "0.829 (+/-0.002) for {'estimator__class_weight': None, 'estimator__criterion': 'entropy', 'estimator__min_samples_split': 10}\n",
      "0.829 (+/-0.002) for {'estimator__class_weight': None, 'estimator__criterion': 'entropy', 'estimator__min_samples_split': 25}\n",
      "\n"
     ]
    }
   ],
   "source": [
    "lemmed_random_forest_model = model.build_ML_model(train.PhraseLemmed, train.Sentiment, \"lemmed\", \"random_forest\", 5)"
   ]
  },
  {
   "cell_type": "markdown",
   "metadata": {},
   "source": [
    "_Build DL model_"
   ]
  },
  {
   "cell_type": "code",
   "execution_count": null,
   "metadata": {},
   "outputs": [],
   "source": []
  },
  {
   "cell_type": "markdown",
   "metadata": {},
   "source": [
    "_Build RNN model_"
   ]
  },
  {
   "cell_type": "code",
   "execution_count": null,
   "metadata": {},
   "outputs": [],
   "source": []
  },
  {
   "cell_type": "markdown",
   "metadata": {},
   "source": [
    "_Build LSTM model_"
   ]
  },
  {
   "cell_type": "code",
   "execution_count": null,
   "metadata": {},
   "outputs": [],
   "source": []
  }
 ],
 "metadata": {
  "kernelspec": {
   "display_name": "Python 3",
   "language": "python",
   "name": "python3"
  },
  "language_info": {
   "codemirror_mode": {
    "name": "ipython",
    "version": 3
   },
   "file_extension": ".py",
   "mimetype": "text/x-python",
   "name": "python",
   "nbconvert_exporter": "python",
   "pygments_lexer": "ipython3",
   "version": "3.7.4"
  }
 },
 "nbformat": 4,
 "nbformat_minor": 2
}
