{
 "cells": [
  {
   "cell_type": "markdown",
   "metadata": {},
   "source": [
    "### Import libraries"
   ]
  },
  {
   "cell_type": "code",
   "execution_count": 1,
   "metadata": {},
   "outputs": [],
   "source": [
    "import warnings\n",
    "\n",
    "import pandas as pd\n",
    "\n",
    "# Ignore warnings\n",
    "warnings.filterwarnings(\"ignore\")"
   ]
  },
  {
   "cell_type": "markdown",
   "metadata": {},
   "source": [
    "Change directories to get src code"
   ]
  },
  {
   "cell_type": "code",
   "execution_count": 2,
   "metadata": {},
   "outputs": [
    {
     "name": "stdout",
     "output_type": "stream",
     "text": [
      "C:\\Users\\15713\\Desktop\\DS Projects\\Sentiment Analysis on Movie Reviews\\sentiment-analysis-on-movie-reviews\\src\n"
     ]
    }
   ],
   "source": [
    "%cd C:\\Users\\15713\\Desktop\\DS Projects\\Sentiment Analysis on Movie Reviews\\sentiment-analysis-on-movie-reviews\\src"
   ]
  },
  {
   "cell_type": "code",
   "execution_count": 3,
   "metadata": {},
   "outputs": [
    {
     "name": "stderr",
     "output_type": "stream",
     "text": [
      "Using TensorFlow backend.\n"
     ]
    }
   ],
   "source": [
    "import model"
   ]
  },
  {
   "cell_type": "markdown",
   "metadata": {},
   "source": [
    "### Get data"
   ]
  },
  {
   "cell_type": "markdown",
   "metadata": {},
   "source": [
    "Load processed data"
   ]
  },
  {
   "cell_type": "code",
   "execution_count": 4,
   "metadata": {},
   "outputs": [],
   "source": [
    "df = pd.read_csv(\"C:\\\\Users\\\\15713\\\\Desktop\\\\DS Projects\\\\Sentiment Analysis on Movie Reviews\\\\sentiment-analysis-on-movie-reviews\\\\data\\\\processed_movie_reviews.csv\")"
   ]
  },
  {
   "cell_type": "markdown",
   "metadata": {},
   "source": [
    "Train test split the data"
   ]
  },
  {
   "cell_type": "code",
   "execution_count": 5,
   "metadata": {},
   "outputs": [],
   "source": [
    "train, test = model.get_train_test(df)"
   ]
  },
  {
   "cell_type": "markdown",
   "metadata": {},
   "source": [
    "### Build models using training data and cross-validation"
   ]
  },
  {
   "cell_type": "markdown",
   "metadata": {},
   "source": [
    "_Build ML models_"
   ]
  },
  {
   "cell_type": "code",
   "execution_count": 6,
   "metadata": {},
   "outputs": [
    {
     "name": "stdout",
     "output_type": "stream",
     "text": [
      "Best estimator:\n",
      "OneVsRestClassifier(estimator=LogisticRegression(C=10.0, class_weight=None,\n",
      "                                                 dual=False, fit_intercept=True,\n",
      "                                                 intercept_scaling=1,\n",
      "                                                 l1_ratio=None, max_iter=100,\n",
      "                                                 multi_class='auto', n_jobs=-1,\n",
      "                                                 penalty='l2',\n",
      "                                                 random_state=2374,\n",
      "                                                 solver='sag', tol=0.0001,\n",
      "                                                 verbose=0, warm_start=True),\n",
      "                    n_jobs=-1)\n",
      "\n",
      "Best parameters:\n",
      "{'estimator__C': 10.0, 'estimator__solver': 'sag', 'estimator__warm_start': True}\n",
      "\n",
      "Best score:\n",
      "0.8541359465008306\n",
      "\n",
      "Grid scores on training set:\n",
      "0.746 (+/-0.006) for {'estimator__C': 0.01, 'estimator__solver': 'saga', 'estimator__warm_start': True}\n",
      "0.746 (+/-0.006) for {'estimator__C': 0.01, 'estimator__solver': 'saga', 'estimator__warm_start': False}\n",
      "0.746 (+/-0.006) for {'estimator__C': 0.01, 'estimator__solver': 'sag', 'estimator__warm_start': True}\n",
      "0.746 (+/-0.006) for {'estimator__C': 0.01, 'estimator__solver': 'sag', 'estimator__warm_start': False}\n",
      "0.746 (+/-0.006) for {'estimator__C': 0.01, 'estimator__solver': 'lbfgs', 'estimator__warm_start': True}\n",
      "0.746 (+/-0.006) for {'estimator__C': 0.01, 'estimator__solver': 'lbfgs', 'estimator__warm_start': False}\n",
      "0.807 (+/-0.004) for {'estimator__C': 0.1, 'estimator__solver': 'saga', 'estimator__warm_start': True}\n",
      "0.807 (+/-0.004) for {'estimator__C': 0.1, 'estimator__solver': 'saga', 'estimator__warm_start': False}\n",
      "0.807 (+/-0.004) for {'estimator__C': 0.1, 'estimator__solver': 'sag', 'estimator__warm_start': True}\n",
      "0.807 (+/-0.004) for {'estimator__C': 0.1, 'estimator__solver': 'sag', 'estimator__warm_start': False}\n",
      "0.807 (+/-0.004) for {'estimator__C': 0.1, 'estimator__solver': 'lbfgs', 'estimator__warm_start': True}\n",
      "0.807 (+/-0.004) for {'estimator__C': 0.1, 'estimator__solver': 'lbfgs', 'estimator__warm_start': False}\n",
      "0.850 (+/-0.003) for {'estimator__C': 1.0, 'estimator__solver': 'saga', 'estimator__warm_start': True}\n",
      "0.850 (+/-0.003) for {'estimator__C': 1.0, 'estimator__solver': 'saga', 'estimator__warm_start': False}\n",
      "0.850 (+/-0.003) for {'estimator__C': 1.0, 'estimator__solver': 'sag', 'estimator__warm_start': True}\n",
      "0.850 (+/-0.003) for {'estimator__C': 1.0, 'estimator__solver': 'sag', 'estimator__warm_start': False}\n",
      "0.850 (+/-0.003) for {'estimator__C': 1.0, 'estimator__solver': 'lbfgs', 'estimator__warm_start': True}\n",
      "0.850 (+/-0.003) for {'estimator__C': 1.0, 'estimator__solver': 'lbfgs', 'estimator__warm_start': False}\n",
      "0.854 (+/-0.004) for {'estimator__C': 10.0, 'estimator__solver': 'saga', 'estimator__warm_start': True}\n",
      "0.854 (+/-0.004) for {'estimator__C': 10.0, 'estimator__solver': 'saga', 'estimator__warm_start': False}\n",
      "0.854 (+/-0.004) for {'estimator__C': 10.0, 'estimator__solver': 'sag', 'estimator__warm_start': True}\n",
      "0.854 (+/-0.004) for {'estimator__C': 10.0, 'estimator__solver': 'sag', 'estimator__warm_start': False}\n",
      "0.854 (+/-0.004) for {'estimator__C': 10.0, 'estimator__solver': 'lbfgs', 'estimator__warm_start': True}\n",
      "0.854 (+/-0.004) for {'estimator__C': 10.0, 'estimator__solver': 'lbfgs', 'estimator__warm_start': False}\n",
      "0.852 (+/-0.004) for {'estimator__C': 15.0, 'estimator__solver': 'saga', 'estimator__warm_start': True}\n",
      "0.852 (+/-0.004) for {'estimator__C': 15.0, 'estimator__solver': 'saga', 'estimator__warm_start': False}\n",
      "0.852 (+/-0.004) for {'estimator__C': 15.0, 'estimator__solver': 'sag', 'estimator__warm_start': True}\n",
      "0.852 (+/-0.004) for {'estimator__C': 15.0, 'estimator__solver': 'sag', 'estimator__warm_start': False}\n",
      "0.853 (+/-0.004) for {'estimator__C': 15.0, 'estimator__solver': 'lbfgs', 'estimator__warm_start': True}\n",
      "0.853 (+/-0.004) for {'estimator__C': 15.0, 'estimator__solver': 'lbfgs', 'estimator__warm_start': False}\n",
      "0.851 (+/-0.004) for {'estimator__C': 20.0, 'estimator__solver': 'saga', 'estimator__warm_start': True}\n",
      "0.851 (+/-0.004) for {'estimator__C': 20.0, 'estimator__solver': 'saga', 'estimator__warm_start': False}\n",
      "0.851 (+/-0.004) for {'estimator__C': 20.0, 'estimator__solver': 'sag', 'estimator__warm_start': True}\n",
      "0.851 (+/-0.004) for {'estimator__C': 20.0, 'estimator__solver': 'sag', 'estimator__warm_start': False}\n",
      "0.852 (+/-0.004) for {'estimator__C': 20.0, 'estimator__solver': 'lbfgs', 'estimator__warm_start': True}\n",
      "0.852 (+/-0.004) for {'estimator__C': 20.0, 'estimator__solver': 'lbfgs', 'estimator__warm_start': False}\n",
      "0.850 (+/-0.004) for {'estimator__C': 25.0, 'estimator__solver': 'saga', 'estimator__warm_start': True}\n",
      "0.850 (+/-0.004) for {'estimator__C': 25.0, 'estimator__solver': 'saga', 'estimator__warm_start': False}\n",
      "0.850 (+/-0.004) for {'estimator__C': 25.0, 'estimator__solver': 'sag', 'estimator__warm_start': True}\n",
      "0.850 (+/-0.004) for {'estimator__C': 25.0, 'estimator__solver': 'sag', 'estimator__warm_start': False}\n",
      "0.851 (+/-0.004) for {'estimator__C': 25.0, 'estimator__solver': 'lbfgs', 'estimator__warm_start': True}\n",
      "0.851 (+/-0.004) for {'estimator__C': 25.0, 'estimator__solver': 'lbfgs', 'estimator__warm_start': False}\n",
      "0.849 (+/-0.004) for {'estimator__C': 30.0, 'estimator__solver': 'saga', 'estimator__warm_start': True}\n",
      "0.849 (+/-0.004) for {'estimator__C': 30.0, 'estimator__solver': 'saga', 'estimator__warm_start': False}\n",
      "0.849 (+/-0.004) for {'estimator__C': 30.0, 'estimator__solver': 'sag', 'estimator__warm_start': True}\n",
      "0.849 (+/-0.004) for {'estimator__C': 30.0, 'estimator__solver': 'sag', 'estimator__warm_start': False}\n",
      "0.851 (+/-0.004) for {'estimator__C': 30.0, 'estimator__solver': 'lbfgs', 'estimator__warm_start': True}\n",
      "0.851 (+/-0.004) for {'estimator__C': 30.0, 'estimator__solver': 'lbfgs', 'estimator__warm_start': False}\n",
      "0.846 (+/-0.004) for {'estimator__C': 50.0, 'estimator__solver': 'saga', 'estimator__warm_start': True}\n",
      "0.846 (+/-0.004) for {'estimator__C': 50.0, 'estimator__solver': 'saga', 'estimator__warm_start': False}\n",
      "0.846 (+/-0.004) for {'estimator__C': 50.0, 'estimator__solver': 'sag', 'estimator__warm_start': True}\n",
      "0.846 (+/-0.004) for {'estimator__C': 50.0, 'estimator__solver': 'sag', 'estimator__warm_start': False}\n",
      "0.849 (+/-0.005) for {'estimator__C': 50.0, 'estimator__solver': 'lbfgs', 'estimator__warm_start': True}\n",
      "0.849 (+/-0.005) for {'estimator__C': 50.0, 'estimator__solver': 'lbfgs', 'estimator__warm_start': False}\n",
      "0.843 (+/-0.005) for {'estimator__C': 100.0, 'estimator__solver': 'saga', 'estimator__warm_start': True}\n",
      "0.843 (+/-0.005) for {'estimator__C': 100.0, 'estimator__solver': 'saga', 'estimator__warm_start': False}\n",
      "0.843 (+/-0.005) for {'estimator__C': 100.0, 'estimator__solver': 'sag', 'estimator__warm_start': True}\n",
      "0.843 (+/-0.005) for {'estimator__C': 100.0, 'estimator__solver': 'sag', 'estimator__warm_start': False}\n",
      "0.848 (+/-0.004) for {'estimator__C': 100.0, 'estimator__solver': 'lbfgs', 'estimator__warm_start': True}\n",
      "0.848 (+/-0.004) for {'estimator__C': 100.0, 'estimator__solver': 'lbfgs', 'estimator__warm_start': False}\n",
      "\n"
     ]
    }
   ],
   "source": [
    "lemmed_logistic_model = model.build_ML_model(train.PhraseLemmed, train.Sentiment, \"lemmed\", \"logistic\")"
   ]
  },
  {
   "cell_type": "code",
   "execution_count": 7,
   "metadata": {
    "scrolled": false
   },
   "outputs": [
    {
     "name": "stdout",
     "output_type": "stream",
     "text": [
      "Best estimator:\n",
      "OneVsRestClassifier(estimator=DecisionTreeClassifier(ccp_alpha=0.0,\n",
      "                                                     class_weight=None,\n",
      "                                                     criterion='gini',\n",
      "                                                     max_depth=None,\n",
      "                                                     max_features='sqrt',\n",
      "                                                     max_leaf_nodes=None,\n",
      "                                                     min_impurity_decrease=0.0,\n",
      "                                                     min_impurity_split=None,\n",
      "                                                     min_samples_leaf=5,\n",
      "                                                     min_samples_split=25,\n",
      "                                                     min_weight_fraction_leaf=0.0,\n",
      "                                                     presort='deprecated',\n",
      "                                                     random_state=8743,\n",
      "                                                     splitter='best'),\n",
      "                    n_jobs=-1)\n",
      "\n",
      "Best parameters:\n",
      "{'estimator__class_weight': None, 'estimator__criterion': 'gini', 'estimator__max_features': 'sqrt', 'estimator__min_samples_split': 25}\n",
      "\n",
      "Best score:\n",
      "0.7554245210126334\n",
      "\n",
      "Grid scores on training set:\n",
      "0.701 (+/-0.006) for {'estimator__class_weight': 'balanced', 'estimator__criterion': 'gini', 'estimator__max_features': None, 'estimator__min_samples_split': 10}\n",
      "0.714 (+/-0.004) for {'estimator__class_weight': 'balanced', 'estimator__criterion': 'gini', 'estimator__max_features': None, 'estimator__min_samples_split': 25}\n",
      "0.746 (+/-0.007) for {'estimator__class_weight': 'balanced', 'estimator__criterion': 'gini', 'estimator__max_features': 'sqrt', 'estimator__min_samples_split': 10}\n",
      "0.748 (+/-0.005) for {'estimator__class_weight': 'balanced', 'estimator__criterion': 'gini', 'estimator__max_features': 'sqrt', 'estimator__min_samples_split': 25}\n",
      "0.696 (+/-0.006) for {'estimator__class_weight': 'balanced', 'estimator__criterion': 'entropy', 'estimator__max_features': None, 'estimator__min_samples_split': 10}\n",
      "0.709 (+/-0.006) for {'estimator__class_weight': 'balanced', 'estimator__criterion': 'entropy', 'estimator__max_features': None, 'estimator__min_samples_split': 25}\n",
      "0.748 (+/-0.008) for {'estimator__class_weight': 'balanced', 'estimator__criterion': 'entropy', 'estimator__max_features': 'sqrt', 'estimator__min_samples_split': 10}\n",
      "0.749 (+/-0.009) for {'estimator__class_weight': 'balanced', 'estimator__criterion': 'entropy', 'estimator__max_features': 'sqrt', 'estimator__min_samples_split': 25}\n",
      "0.724 (+/-0.006) for {'estimator__class_weight': None, 'estimator__criterion': 'gini', 'estimator__max_features': None, 'estimator__min_samples_split': 10}\n",
      "0.737 (+/-0.005) for {'estimator__class_weight': None, 'estimator__criterion': 'gini', 'estimator__max_features': None, 'estimator__min_samples_split': 25}\n",
      "0.755 (+/-0.008) for {'estimator__class_weight': None, 'estimator__criterion': 'gini', 'estimator__max_features': 'sqrt', 'estimator__min_samples_split': 10}\n",
      "0.755 (+/-0.006) for {'estimator__class_weight': None, 'estimator__criterion': 'gini', 'estimator__max_features': 'sqrt', 'estimator__min_samples_split': 25}\n",
      "0.705 (+/-0.010) for {'estimator__class_weight': None, 'estimator__criterion': 'entropy', 'estimator__max_features': None, 'estimator__min_samples_split': 10}\n",
      "0.718 (+/-0.009) for {'estimator__class_weight': None, 'estimator__criterion': 'entropy', 'estimator__max_features': None, 'estimator__min_samples_split': 25}\n",
      "0.752 (+/-0.005) for {'estimator__class_weight': None, 'estimator__criterion': 'entropy', 'estimator__max_features': 'sqrt', 'estimator__min_samples_split': 10}\n",
      "0.751 (+/-0.004) for {'estimator__class_weight': None, 'estimator__criterion': 'entropy', 'estimator__max_features': 'sqrt', 'estimator__min_samples_split': 25}\n",
      "\n"
     ]
    }
   ],
   "source": [
    "lemmed_decision_tree_model = model.build_ML_model(train.PhraseLemmed, train.Sentiment, \"lemmed\", \"decision_tree\")"
   ]
  },
  {
   "cell_type": "code",
   "execution_count": 8,
   "metadata": {},
   "outputs": [
    {
     "name": "stdout",
     "output_type": "stream",
     "text": [
      "Best estimator:\n",
      "OneVsRestClassifier(estimator=RandomForestClassifier(bootstrap=True,\n",
      "                                                     ccp_alpha=0.0,\n",
      "                                                     class_weight=None,\n",
      "                                                     criterion='entropy',\n",
      "                                                     max_depth=None,\n",
      "                                                     max_features='sqrt',\n",
      "                                                     max_leaf_nodes=None,\n",
      "                                                     max_samples=None,\n",
      "                                                     min_impurity_decrease=0.0,\n",
      "                                                     min_impurity_split=None,\n",
      "                                                     min_samples_leaf=5,\n",
      "                                                     min_samples_split=10,\n",
      "                                                     min_weight_fraction_leaf=0.0,\n",
      "                                                     n_estimators=100,\n",
      "                                                     n_jobs=-1, oob_score=False,\n",
      "                                                     random_state=2947,\n",
      "                                                     verbose=0,\n",
      "                                                     warm_start=False),\n",
      "                    n_jobs=-1)\n",
      "\n",
      "Best parameters:\n",
      "{'estimator__class_weight': None, 'estimator__criterion': 'entropy', 'estimator__min_samples_split': 10}\n",
      "\n",
      "Best score:\n",
      "0.8289437207816357\n",
      "\n",
      "Grid scores on training set:\n",
      "0.818 (+/-0.001) for {'estimator__class_weight': 'balanced', 'estimator__criterion': 'gini', 'estimator__min_samples_split': 10}\n",
      "0.818 (+/-0.001) for {'estimator__class_weight': 'balanced', 'estimator__criterion': 'gini', 'estimator__min_samples_split': 25}\n",
      "0.820 (+/-0.002) for {'estimator__class_weight': 'balanced', 'estimator__criterion': 'entropy', 'estimator__min_samples_split': 10}\n",
      "0.820 (+/-0.002) for {'estimator__class_weight': 'balanced', 'estimator__criterion': 'entropy', 'estimator__min_samples_split': 25}\n",
      "0.829 (+/-0.001) for {'estimator__class_weight': None, 'estimator__criterion': 'gini', 'estimator__min_samples_split': 10}\n",
      "0.828 (+/-0.001) for {'estimator__class_weight': None, 'estimator__criterion': 'gini', 'estimator__min_samples_split': 25}\n",
      "0.829 (+/-0.002) for {'estimator__class_weight': None, 'estimator__criterion': 'entropy', 'estimator__min_samples_split': 10}\n",
      "0.829 (+/-0.002) for {'estimator__class_weight': None, 'estimator__criterion': 'entropy', 'estimator__min_samples_split': 25}\n",
      "\n"
     ]
    }
   ],
   "source": [
    "lemmed_random_forest_model = model.build_ML_model(train.PhraseLemmed, train.Sentiment, \"lemmed\", \"random_forest\", 5)"
   ]
  },
  {
   "cell_type": "markdown",
   "metadata": {},
   "source": [
    "_Build DL models_"
   ]
  },
  {
   "cell_type": "code",
   "execution_count": 6,
   "metadata": {
    "scrolled": false
   },
   "outputs": [
    {
     "name": "stdout",
     "output_type": "stream",
     "text": [
      "Model: \"sequential_1\"\n",
      "_________________________________________________________________\n",
      "Layer (type)                 Output Shape              Param #   \n",
      "=================================================================\n",
      "dense_1 (Dense)              (None, 32)                445344    \n",
      "_________________________________________________________________\n",
      "dense_2 (Dense)              (None, 5)                 165       \n",
      "=================================================================\n",
      "Total params: 445,509\n",
      "Trainable params: 445,509\n",
      "Non-trainable params: 0\n",
      "_________________________________________________________________\n",
      "Epoch 1/500\n",
      "48/48 [==============================] - 308s 6s/step - loss: 1.5485 - acc: 0.4866 - val_loss: 1.4759 - val_acc: 0.5142\n",
      "Epoch 2/500\n",
      "48/48 [==============================] - 304s 6s/step - loss: 1.4017 - acc: 0.5100 - val_loss: 1.3058 - val_acc: 0.5203\n",
      "Epoch 3/500\n",
      "48/48 [==============================] - 304s 6s/step - loss: 1.2922 - acc: 0.5059 - val_loss: 1.2392 - val_acc: 0.4967\n",
      "Epoch 4/500\n",
      "48/48 [==============================] - 301s 6s/step - loss: 1.2139 - acc: 0.5234 - val_loss: 1.1849 - val_acc: 0.5378\n",
      "Epoch 5/500\n",
      "48/48 [==============================] - 254s 5s/step - loss: 1.1214 - acc: 0.5494 - val_loss: 1.1065 - val_acc: 0.5565\n",
      "Epoch 6/500\n",
      "48/48 [==============================] - 302s 6s/step - loss: 1.0683 - acc: 0.5747 - val_loss: 1.0296 - val_acc: 0.5776\n",
      "Epoch 7/500\n",
      "48/48 [==============================] - 309s 6s/step - loss: 1.0322 - acc: 0.5848 - val_loss: 1.0596 - val_acc: 0.5856\n",
      "Epoch 8/500\n",
      "48/48 [==============================] - 301s 6s/step - loss: 0.9957 - acc: 0.5967 - val_loss: 0.9863 - val_acc: 0.6024\n",
      "Epoch 9/500\n",
      "48/48 [==============================] - 262s 5s/step - loss: 0.9244 - acc: 0.6277 - val_loss: 1.0660 - val_acc: 0.6086\n",
      "Epoch 10/500\n",
      "48/48 [==============================] - 302s 6s/step - loss: 0.8996 - acc: 0.6355 - val_loss: 1.0093 - val_acc: 0.6120\n",
      "Epoch 11/500\n",
      "48/48 [==============================] - 307s 6s/step - loss: 0.8884 - acc: 0.6421 - val_loss: 0.9907 - val_acc: 0.6224\n",
      "Epoch 12/500\n",
      "48/48 [==============================] - 301s 6s/step - loss: 0.8813 - acc: 0.6437 - val_loss: 0.8980 - val_acc: 0.6294\n",
      "Epoch 13/500\n",
      "48/48 [==============================] - 256s 5s/step - loss: 0.8226 - acc: 0.6707 - val_loss: 0.9051 - val_acc: 0.6270\n",
      "Epoch 14/500\n",
      "48/48 [==============================] - 295s 6s/step - loss: 0.8169 - acc: 0.6676 - val_loss: 0.9511 - val_acc: 0.6353\n",
      "Epoch 15/500\n",
      "48/48 [==============================] - 301s 6s/step - loss: 0.8108 - acc: 0.6742 - val_loss: 0.9155 - val_acc: 0.6279\n",
      "Epoch 16/500\n",
      "48/48 [==============================] - 303s 6s/step - loss: 0.8118 - acc: 0.6688 - val_loss: 0.9396 - val_acc: 0.6427\n",
      "Epoch 17/500\n",
      "48/48 [==============================] - 256s 5s/step - loss: 0.7698 - acc: 0.6885 - val_loss: 0.8151 - val_acc: 0.6392\n",
      "Epoch 18/500\n",
      "48/48 [==============================] - 288s 6s/step - loss: 0.7593 - acc: 0.6959 - val_loss: 0.8788 - val_acc: 0.6411\n",
      "Epoch 19/500\n",
      "48/48 [==============================] - 303s 6s/step - loss: 0.7624 - acc: 0.6894 - val_loss: 0.8757 - val_acc: 0.6455\n",
      "Epoch 20/500\n",
      "48/48 [==============================] - 300s 6s/step - loss: 0.7722 - acc: 0.6851 - val_loss: 0.8804 - val_acc: 0.6408\n",
      "Epoch 21/500\n",
      "48/48 [==============================] - 255s 5s/step - loss: 0.7277 - acc: 0.7098 - val_loss: 0.8887 - val_acc: 0.6408\n",
      "Epoch 22/500\n",
      "48/48 [==============================] - 284s 6s/step - loss: 0.7224 - acc: 0.7062 - val_loss: 0.8858 - val_acc: 0.6305\n",
      "Epoch 23/500\n",
      "48/48 [==============================] - 301s 6s/step - loss: 0.7260 - acc: 0.7080 - val_loss: 0.8614 - val_acc: 0.6479\n",
      "Epoch 24/500\n",
      "48/48 [==============================] - 299s 6s/step - loss: 0.7358 - acc: 0.7005 - val_loss: 0.8485 - val_acc: 0.6536\n",
      "Epoch 25/500\n",
      "48/48 [==============================] - 262s 5s/step - loss: 0.7081 - acc: 0.7116 - val_loss: 0.9053 - val_acc: 0.6494\n",
      "Epoch 26/500\n",
      "48/48 [==============================] - 287s 6s/step - loss: 0.6966 - acc: 0.7179 - val_loss: 0.9301 - val_acc: 0.6483\n",
      "Epoch 27/500\n",
      "48/48 [==============================] - 301s 6s/step - loss: 0.7061 - acc: 0.7084 - val_loss: 0.9065 - val_acc: 0.6429\n",
      "Epoch 28/500\n",
      "48/48 [==============================] - 301s 6s/step - loss: 0.7104 - acc: 0.7100 - val_loss: 0.9461 - val_acc: 0.6395\n",
      "Epoch 29/500\n",
      "48/48 [==============================] - 262s 5s/step - loss: 0.6891 - acc: 0.7195 - val_loss: 0.8518 - val_acc: 0.6579\n",
      "Epoch 30/500\n",
      "48/48 [==============================] - 284s 6s/step - loss: 0.6714 - acc: 0.7267 - val_loss: 0.9630 - val_acc: 0.6421\n",
      "Epoch 31/500\n",
      "48/48 [==============================] - 300s 6s/step - loss: 0.6840 - acc: 0.7188 - val_loss: 0.8447 - val_acc: 0.6348\n",
      "Epoch 32/500\n",
      "48/48 [==============================] - 301s 6s/step - loss: 0.6844 - acc: 0.7175 - val_loss: 0.9143 - val_acc: 0.6439\n",
      "Epoch 33/500\n",
      "48/48 [==============================] - 268s 6s/step - loss: 0.6680 - acc: 0.7239 - val_loss: 0.8528 - val_acc: 0.6457\n",
      "Epoch 34/500\n",
      "48/48 [==============================] - 294s 6s/step - loss: 0.6570 - acc: 0.7288 - val_loss: 0.9894 - val_acc: 0.6359\n",
      "Epoch 35/500\n",
      "48/48 [==============================] - 301s 6s/step - loss: 0.6625 - acc: 0.7284 - val_loss: 0.8237 - val_acc: 0.6510\n",
      "Epoch 36/500\n",
      "48/48 [==============================] - 300s 6s/step - loss: 0.6740 - acc: 0.7216 - val_loss: 0.9464 - val_acc: 0.6450\n",
      "Epoch 37/500\n",
      "48/48 [==============================] - 268s 6s/step - loss: 0.6561 - acc: 0.7264 - val_loss: 0.8704 - val_acc: 0.6510\n",
      "Epoch 38/500\n",
      "48/48 [==============================] - 277s 6s/step - loss: 0.6381 - acc: 0.7362 - val_loss: 0.9383 - val_acc: 0.6405\n",
      "Epoch 39/500\n",
      "48/48 [==============================] - 302s 6s/step - loss: 0.6504 - acc: 0.7322 - val_loss: 0.9424 - val_acc: 0.6439\n",
      "Epoch 40/500\n",
      "48/48 [==============================] - 304s 6s/step - loss: 0.6608 - acc: 0.7242 - val_loss: 0.9925 - val_acc: 0.6444\n",
      "Epoch 41/500\n",
      "48/48 [==============================] - 277s 6s/step - loss: 0.6530 - acc: 0.7286 - val_loss: 0.9590 - val_acc: 0.6470\n",
      "Epoch 42/500\n",
      "48/48 [==============================] - 276s 6s/step - loss: 0.6230 - acc: 0.7406 - val_loss: 0.9589 - val_acc: 0.6408\n",
      "Epoch 43/500\n",
      "48/48 [==============================] - 302s 6s/step - loss: 0.6278 - acc: 0.7398 - val_loss: 0.8798 - val_acc: 0.6499\n",
      "Epoch 44/500\n",
      "48/48 [==============================] - 305s 6s/step - loss: 0.6490 - acc: 0.7257 - val_loss: 1.0061 - val_acc: 0.6424\n",
      "Epoch 45/500\n",
      "48/48 [==============================] - 279s 6s/step - loss: 0.6391 - acc: 0.7333 - val_loss: 0.9358 - val_acc: 0.6400\n",
      "Epoch 46/500\n",
      "48/48 [==============================] - 269s 6s/step - loss: 0.6137 - acc: 0.7453 - val_loss: 0.8990 - val_acc: 0.6437\n",
      "Epoch 47/500\n",
      "48/48 [==============================] - 300s 6s/step - loss: 0.6302 - acc: 0.7389 - val_loss: 0.9121 - val_acc: 0.6510\n",
      "Epoch 48/500\n",
      "48/48 [==============================] - 302s 6s/step - loss: 0.6332 - acc: 0.7337 - val_loss: 0.9822 - val_acc: 0.6385\n",
      "Epoch 49/500\n",
      "48/48 [==============================] - 285s 6s/step - loss: 0.6266 - acc: 0.7361 - val_loss: 0.9541 - val_acc: 0.6473\n"
     ]
    },
    {
     "data": {
      "image/png": "[encoded data removed]",
      "text/plain": [
       "<Figure size 432x288 with 1 Axes>"
      ]
     },
     "metadata": {
      "needs_background": "light"
     },
     "output_type": "display_data"
    }
   ],
   "source": [
    "lemmed_ann_model = model.build_DL_model(train.PhraseLemmed, train.Sentiment, \"lemmed\", \"ann\")"
   ]
  },
  {
   "cell_type": "code",
   "execution_count": 6,
   "metadata": {
    "scrolled": false
   },
   "outputs": [
    {
     "name": "stdout",
     "output_type": "stream",
     "text": [
      "Model: \"sequential_1\"\n",
      "_________________________________________________________________\n",
      "Layer (type)                 Output Shape              Param #   \n",
      "=================================================================\n",
      "simple_rnn_1 (SimpleRNN)     (None, 32)                446368    \n",
      "_________________________________________________________________\n",
      "dense_2 (Dense)              (None, 5)                 165       \n",
      "=================================================================\n",
      "Total params: 446,533\n",
      "Trainable params: 446,533\n",
      "Non-trainable params: 0\n",
      "_________________________________________________________________\n",
      "Epoch 1/500\n",
      "195/195 [==============================] - 169s 868ms/step - loss: 1.3597 - acc: 0.5022 - val_loss: 1.2272 - val_acc: 0.5013\n",
      "Epoch 2/500\n",
      "195/195 [==============================] - 169s 868ms/step - loss: 1.2028 - acc: 0.5182 - val_loss: 1.0789 - val_acc: 0.5384\n",
      "Epoch 3/500\n",
      "195/195 [==============================] - 175s 896ms/step - loss: 1.1309 - acc: 0.5433 - val_loss: 0.9828 - val_acc: 0.5651\n",
      "Epoch 4/500\n",
      "195/195 [==============================] - 183s 936ms/step - loss: 1.0548 - acc: 0.5680 - val_loss: 0.9573 - val_acc: 0.5785\n",
      "Epoch 5/500\n",
      "195/195 [==============================] - 186s 953ms/step - loss: 0.9949 - acc: 0.6026 - val_loss: 0.8942 - val_acc: 0.6104\n",
      "Epoch 6/500\n",
      "195/195 [==============================] - 183s 937ms/step - loss: 0.9683 - acc: 0.6101 - val_loss: 0.9002 - val_acc: 0.6019\n",
      "Epoch 7/500\n",
      "195/195 [==============================] - 181s 927ms/step - loss: 0.9472 - acc: 0.6188 - val_loss: 0.8701 - val_acc: 0.6143\n",
      "Epoch 8/500\n",
      "195/195 [==============================] - 180s 923ms/step - loss: 0.9451 - acc: 0.6165 - val_loss: 0.9097 - val_acc: 0.6364\n",
      "Epoch 9/500\n",
      "195/195 [==============================] - 144s 740ms/step - loss: 0.8336 - acc: 0.6628 - val_loss: 0.8388 - val_acc: 0.6250\n",
      "Epoch 10/500\n",
      "195/195 [==============================] - 157s 803ms/step - loss: 0.8320 - acc: 0.6612 - val_loss: 0.7844 - val_acc: 0.6344\n",
      "Epoch 11/500\n",
      "195/195 [==============================] - 175s 895ms/step - loss: 0.8333 - acc: 0.6586 - val_loss: 1.0493 - val_acc: 0.6354\n",
      "Epoch 12/500\n",
      "195/195 [==============================] - 182s 935ms/step - loss: 0.8167 - acc: 0.6665 - val_loss: 0.8824 - val_acc: 0.6504\n",
      "Epoch 13/500\n",
      "195/195 [==============================] - 185s 948ms/step - loss: 0.8213 - acc: 0.6658 - val_loss: 0.8956 - val_acc: 0.6312\n",
      "Epoch 14/500\n",
      "195/195 [==============================] - 185s 947ms/step - loss: 0.8243 - acc: 0.6677 - val_loss: 0.8776 - val_acc: 0.6419\n",
      "Epoch 15/500\n",
      "195/195 [==============================] - 191s 980ms/step - loss: 0.8304 - acc: 0.6587 - val_loss: 1.1376 - val_acc: 0.6429\n",
      "Epoch 16/500\n",
      "195/195 [==============================] - 190s 975ms/step - loss: 0.8242 - acc: 0.6685 - val_loss: 1.0932 - val_acc: 0.6611\n",
      "Epoch 17/500\n",
      "195/195 [==============================] - 138s 706ms/step - loss: 0.7166 - acc: 0.7077 - val_loss: 0.9690 - val_acc: 0.6416\n",
      "Epoch 18/500\n",
      "195/195 [==============================] - 163s 838ms/step - loss: 0.7407 - acc: 0.6947 - val_loss: 0.8031 - val_acc: 0.6468\n",
      "Epoch 19/500\n",
      "195/195 [==============================] - 173s 887ms/step - loss: 0.7440 - acc: 0.6954 - val_loss: 0.9758 - val_acc: 0.6299\n",
      "Epoch 20/500\n",
      "195/195 [==============================] - 185s 951ms/step - loss: 0.7449 - acc: 0.7007 - val_loss: 1.0237 - val_acc: 0.6364\n",
      "Epoch 21/500\n",
      "195/195 [==============================] - 184s 944ms/step - loss: 0.7679 - acc: 0.6840 - val_loss: 0.9744 - val_acc: 0.6387\n",
      "Epoch 22/500\n",
      "195/195 [==============================] - 184s 946ms/step - loss: 0.7787 - acc: 0.6823 - val_loss: 0.7766 - val_acc: 0.6637\n",
      "Epoch 23/500\n",
      "195/195 [==============================] - 183s 940ms/step - loss: 0.7888 - acc: 0.6712 - val_loss: 0.9158 - val_acc: 0.6328\n",
      "Epoch 24/500\n",
      "195/195 [==============================] - 187s 961ms/step - loss: 0.7756 - acc: 0.6864 - val_loss: 0.9953 - val_acc: 0.6449\n",
      "Epoch 25/500\n",
      "195/195 [==============================] - 141s 721ms/step - loss: 0.6895 - acc: 0.7172 - val_loss: 0.9447 - val_acc: 0.6488\n",
      "Epoch 26/500\n",
      "195/195 [==============================] - 160s 818ms/step - loss: 0.6960 - acc: 0.7106 - val_loss: 0.9323 - val_acc: 0.6377\n",
      "Epoch 27/500\n",
      "195/195 [==============================] - 179s 918ms/step - loss: 0.7122 - acc: 0.7090 - val_loss: 0.9533 - val_acc: 0.6322\n",
      "Epoch 28/500\n",
      "195/195 [==============================] - 185s 950ms/step - loss: 0.7232 - acc: 0.7024 - val_loss: 0.7927 - val_acc: 0.6507\n",
      "Epoch 29/500\n",
      "195/195 [==============================] - 181s 928ms/step - loss: 0.7340 - acc: 0.6969 - val_loss: 1.0007 - val_acc: 0.6559\n",
      "Epoch 30/500\n",
      "195/195 [==============================] - 183s 939ms/step - loss: 0.7273 - acc: 0.6970 - val_loss: 1.1380 - val_acc: 0.6455\n",
      "Epoch 31/500\n",
      "195/195 [==============================] - 182s 936ms/step - loss: 0.7428 - acc: 0.6925 - val_loss: 0.8688 - val_acc: 0.6374\n",
      "Epoch 32/500\n",
      "195/195 [==============================] - 184s 946ms/step - loss: 0.7453 - acc: 0.6931 - val_loss: 0.8349 - val_acc: 0.6283\n",
      "Epoch 33/500\n",
      "195/195 [==============================] - 146s 746ms/step - loss: 0.6498 - acc: 0.7329 - val_loss: 1.0110 - val_acc: 0.6335\n",
      "Epoch 34/500\n",
      "195/195 [==============================] - 161s 825ms/step - loss: 0.6630 - acc: 0.7240 - val_loss: 0.9418 - val_acc: 0.6403\n",
      "Epoch 35/500\n",
      "195/195 [==============================] - 177s 908ms/step - loss: 0.6855 - acc: 0.7151 - val_loss: 0.8250 - val_acc: 0.6426\n",
      "Epoch 36/500\n",
      "195/195 [==============================] - 179s 917ms/step - loss: 0.7098 - acc: 0.7075 - val_loss: 0.8735 - val_acc: 0.6387\n",
      "Epoch 37/500\n",
      "195/195 [==============================] - 182s 933ms/step - loss: 0.7177 - acc: 0.7057 - val_loss: 1.1189 - val_acc: 0.6416\n",
      "Epoch 38/500\n",
      "195/195 [==============================] - 180s 923ms/step - loss: 0.7196 - acc: 0.6976 - val_loss: 0.6973 - val_acc: 0.6289\n",
      "Epoch 39/500\n",
      "195/195 [==============================] - 186s 953ms/step - loss: 0.7180 - acc: 0.6994 - val_loss: 0.9488 - val_acc: 0.6403\n",
      "Epoch 40/500\n",
      "195/195 [==============================] - 180s 923ms/step - loss: 0.7347 - acc: 0.6919 - val_loss: 1.0206 - val_acc: 0.6312\n",
      "Epoch 41/500\n",
      "195/195 [==============================] - 140s 719ms/step - loss: 0.6301 - acc: 0.7401 - val_loss: 0.9029 - val_acc: 0.6530\n",
      "Epoch 42/500\n",
      "195/195 [==============================] - 154s 787ms/step - loss: 0.6610 - acc: 0.7264 - val_loss: 0.8067 - val_acc: 0.6390\n"
     ]
    },
    {
     "data": {
      "image/png": "[encoded data removed]",
      "text/plain": [
       "<Figure size 432x288 with 1 Axes>"
      ]
     },
     "metadata": {
      "needs_background": "light"
     },
     "output_type": "display_data"
    }
   ],
   "source": [
    "lemmed_rnn_model = model.build_DL_model(train.PhraseLemmed, train.Sentiment, \"lemmed\", \"rnn\")"
   ]
  },
  {
   "cell_type": "code",
   "execution_count": 6,
   "metadata": {
    "scrolled": false
   },
   "outputs": [
    {
     "name": "stdout",
     "output_type": "stream",
     "text": [
      "Model: \"sequential_1\"\n",
      "_________________________________________________________________\n",
      "Layer (type)                 Output Shape              Param #   \n",
      "=================================================================\n",
      "lstm_1 (LSTM)                (None, 32)                1785472   \n",
      "_________________________________________________________________\n",
      "dense_2 (Dense)              (None, 5)                 165       \n",
      "=================================================================\n",
      "Total params: 1,785,637\n",
      "Trainable params: 1,785,637\n",
      "Non-trainable params: 0\n",
      "_________________________________________________________________\n",
      "Epoch 1/500\n",
      "195/195 [==============================] - 159s 815ms/step - loss: 1.4382 - acc: 0.5059 - val_loss: 1.4008 - val_acc: 0.5156\n",
      "Epoch 2/500\n",
      "195/195 [==============================] - 167s 855ms/step - loss: 1.2754 - acc: 0.4993 - val_loss: 1.3093 - val_acc: 0.5127\n",
      "Epoch 3/500\n",
      "195/195 [==============================] - 182s 932ms/step - loss: 1.1899 - acc: 0.5187 - val_loss: 1.2236 - val_acc: 0.5199\n",
      "Epoch 4/500\n",
      "195/195 [==============================] - 181s 926ms/step - loss: 1.1420 - acc: 0.5364 - val_loss: 0.9107 - val_acc: 0.5638\n",
      "Epoch 5/500\n",
      "195/195 [==============================] - 181s 926ms/step - loss: 1.0805 - acc: 0.5644 - val_loss: 1.0708 - val_acc: 0.5765\n",
      "Epoch 6/500\n",
      "195/195 [==============================] - 181s 929ms/step - loss: 1.0380 - acc: 0.5808 - val_loss: 0.9375 - val_acc: 0.5856\n",
      "Epoch 7/500\n",
      "195/195 [==============================] - 182s 933ms/step - loss: 0.9925 - acc: 0.6020 - val_loss: 1.0346 - val_acc: 0.6097\n",
      "Epoch 8/500\n",
      "195/195 [==============================] - 184s 942ms/step - loss: 0.9575 - acc: 0.6139 - val_loss: 1.0293 - val_acc: 0.6012\n",
      "Epoch 9/500\n",
      "195/195 [==============================] - 146s 747ms/step - loss: 0.8491 - acc: 0.6586 - val_loss: 0.9400 - val_acc: 0.6257\n",
      "Epoch 10/500\n",
      "195/195 [==============================] - 156s 798ms/step - loss: 0.8559 - acc: 0.6490 - val_loss: 0.8578 - val_acc: 0.6370\n",
      "Epoch 11/500\n",
      "195/195 [==============================] - 175s 897ms/step - loss: 0.8565 - acc: 0.6547 - val_loss: 0.9224 - val_acc: 0.6429\n",
      "Epoch 12/500\n",
      "195/195 [==============================] - 186s 951ms/step - loss: 0.8376 - acc: 0.6623 - val_loss: 0.8523 - val_acc: 0.6348\n",
      "Epoch 13/500\n",
      "195/195 [==============================] - 185s 947ms/step - loss: 0.8308 - acc: 0.6595 - val_loss: 0.8589 - val_acc: 0.6309\n",
      "Epoch 14/500\n",
      "195/195 [==============================] - 184s 946ms/step - loss: 0.8511 - acc: 0.6583 - val_loss: 0.9047 - val_acc: 0.6354\n",
      "Epoch 15/500\n",
      "195/195 [==============================] - 182s 935ms/step - loss: 0.8297 - acc: 0.6643 - val_loss: 0.7896 - val_acc: 0.6380\n",
      "Epoch 16/500\n",
      "195/195 [==============================] - 180s 922ms/step - loss: 0.8409 - acc: 0.6557 - val_loss: 0.9549 - val_acc: 0.6387\n",
      "Epoch 17/500\n",
      "195/195 [==============================] - 136s 699ms/step - loss: 0.7379 - acc: 0.7018 - val_loss: 0.7628 - val_acc: 0.6403\n",
      "Epoch 18/500\n",
      "195/195 [==============================] - 159s 813ms/step - loss: 0.7545 - acc: 0.6975 - val_loss: 0.8419 - val_acc: 0.6364\n",
      "Epoch 19/500\n",
      "195/195 [==============================] - 176s 901ms/step - loss: 0.7475 - acc: 0.6983 - val_loss: 0.7913 - val_acc: 0.6517\n",
      "Epoch 20/500\n",
      "195/195 [==============================] - 182s 933ms/step - loss: 0.7453 - acc: 0.6938 - val_loss: 1.0531 - val_acc: 0.6436\n",
      "Epoch 21/500\n",
      "195/195 [==============================] - 185s 947ms/step - loss: 0.7797 - acc: 0.6801 - val_loss: 0.9358 - val_acc: 0.6426\n",
      "Epoch 22/500\n",
      "195/195 [==============================] - 183s 939ms/step - loss: 0.7658 - acc: 0.6826 - val_loss: 0.8133 - val_acc: 0.6585\n",
      "Epoch 23/500\n",
      "195/195 [==============================] - 184s 942ms/step - loss: 0.7681 - acc: 0.6847 - val_loss: 0.7903 - val_acc: 0.6536\n",
      "Epoch 24/500\n",
      "195/195 [==============================] - 185s 949ms/step - loss: 0.7741 - acc: 0.6807 - val_loss: 0.9003 - val_acc: 0.6484\n",
      "Epoch 25/500\n",
      "195/195 [==============================] - 144s 737ms/step - loss: 0.6879 - acc: 0.7255 - val_loss: 0.8496 - val_acc: 0.6468\n",
      "Epoch 26/500\n",
      "195/195 [==============================] - 164s 839ms/step - loss: 0.7015 - acc: 0.7117 - val_loss: 0.8322 - val_acc: 0.6406\n",
      "Epoch 27/500\n",
      "195/195 [==============================] - 182s 936ms/step - loss: 0.7166 - acc: 0.7050 - val_loss: 0.9834 - val_acc: 0.6504\n",
      "Epoch 28/500\n",
      "195/195 [==============================] - 189s 971ms/step - loss: 0.7194 - acc: 0.7079 - val_loss: 0.8243 - val_acc: 0.6344\n",
      "Epoch 29/500\n",
      "195/195 [==============================] - 193s 990ms/step - loss: 0.7143 - acc: 0.7017 - val_loss: 0.7447 - val_acc: 0.6484\n",
      "Epoch 30/500\n",
      "195/195 [==============================] - 195s 1s/step - loss: 0.7285 - acc: 0.7002 - val_loss: 0.7953 - val_acc: 0.6416\n",
      "Epoch 31/500\n",
      "195/195 [==============================] - 197s 1s/step - loss: 0.7345 - acc: 0.6962 - val_loss: 0.9576 - val_acc: 0.6462\n",
      "Epoch 32/500\n",
      "195/195 [==============================] - 208s 1s/step - loss: 0.7339 - acc: 0.6934 - val_loss: 1.0500 - val_acc: 0.6475\n",
      "Epoch 33/500\n",
      "195/195 [==============================] - 160s 822ms/step - loss: 0.6411 - acc: 0.7389 - val_loss: 0.7437 - val_acc: 0.6533\n",
      "Epoch 34/500\n",
      "195/195 [==============================] - 180s 922ms/step - loss: 0.6691 - acc: 0.7279 - val_loss: 0.8036 - val_acc: 0.6302\n",
      "Epoch 35/500\n",
      "195/195 [==============================] - 189s 971ms/step - loss: 0.6781 - acc: 0.7212 - val_loss: 1.1625 - val_acc: 0.6410\n",
      "Epoch 36/500\n",
      "195/195 [==============================] - 196s 1s/step - loss: 0.6863 - acc: 0.7141 - val_loss: 0.8105 - val_acc: 0.6445\n",
      "Epoch 37/500\n",
      "195/195 [==============================] - 196s 1s/step - loss: 0.7006 - acc: 0.7086 - val_loss: 0.9121 - val_acc: 0.6396\n",
      "Epoch 38/500\n",
      "195/195 [==============================] - 189s 968ms/step - loss: 0.7226 - acc: 0.7000 - val_loss: 1.1444 - val_acc: 0.6566\n",
      "Epoch 39/500\n",
      "195/195 [==============================] - 189s 971ms/step - loss: 0.7059 - acc: 0.7035 - val_loss: 1.0543 - val_acc: 0.6413\n",
      "Epoch 40/500\n",
      "195/195 [==============================] - 191s 979ms/step - loss: 0.7191 - acc: 0.6940 - val_loss: 1.0951 - val_acc: 0.6517\n",
      "Epoch 41/500\n",
      "195/195 [==============================] - 154s 790ms/step - loss: 0.6205 - acc: 0.7454 - val_loss: 0.7736 - val_acc: 0.6361\n",
      "Epoch 42/500\n",
      "195/195 [==============================] - 173s 889ms/step - loss: 0.6454 - acc: 0.7325 - val_loss: 1.1593 - val_acc: 0.6335\n"
     ]
    },
    {
     "data": {
      "image/png": "[encoded data removed]",
      "text/plain": [
       "<Figure size 432x288 with 1 Axes>"
      ]
     },
     "metadata": {
      "needs_background": "light"
     },
     "output_type": "display_data"
    }
   ],
   "source": [
    "lemmed_lstm_model = model.build_DL_model(train.PhraseLemmed, train.Sentiment, \"lemmed\", \"lstm\")"
   ]
  },
  {
   "cell_type": "code",
   "execution_count": 6,
   "metadata": {},
   "outputs": [
    {
     "name": "stdout",
     "output_type": "stream",
     "text": [
      "Model: \"sequential_1\"\n",
      "_________________________________________________________________\n",
      "Layer (type)                 Output Shape              Param #   \n",
      "=================================================================\n",
      "gru_1 (GRU)                  (None, 32)                1339104   \n",
      "_________________________________________________________________\n",
      "dense_2 (Dense)              (None, 5)                 165       \n",
      "=================================================================\n",
      "Total params: 1,339,269\n",
      "Trainable params: 1,339,269\n",
      "Non-trainable params: 0\n",
      "_________________________________________________________________\n",
      "Epoch 1/500\n",
      "195/195 [==============================] - 189s 967ms/step - loss: 1.3987 - acc: 0.4999 - val_loss: 1.3806 - val_acc: 0.5163\n",
      "Epoch 2/500\n",
      "195/195 [==============================] - 201s 1s/step - loss: 1.2377 - acc: 0.5107 - val_loss: 1.2251 - val_acc: 0.5117\n",
      "Epoch 3/500\n",
      "195/195 [==============================] - 204s 1s/step - loss: 1.1604 - acc: 0.5271 - val_loss: 1.1528 - val_acc: 0.5329\n",
      "Epoch 4/500\n",
      "195/195 [==============================] - 207s 1s/step - loss: 1.0955 - acc: 0.5550 - val_loss: 1.0201 - val_acc: 0.5762\n",
      "Epoch 5/500\n",
      "195/195 [==============================] - 218s 1s/step - loss: 1.0410 - acc: 0.5760 - val_loss: 0.9267 - val_acc: 0.5892\n",
      "Epoch 6/500\n",
      "195/195 [==============================] - 211s 1s/step - loss: 0.9897 - acc: 0.5976 - val_loss: 0.8647 - val_acc: 0.5996\n",
      "Epoch 7/500\n",
      "195/195 [==============================] - 212s 1s/step - loss: 0.9689 - acc: 0.6057 - val_loss: 1.0216 - val_acc: 0.6195\n",
      "Epoch 8/500\n",
      "195/195 [==============================] - 214s 1s/step - loss: 0.9362 - acc: 0.6211 - val_loss: 1.0580 - val_acc: 0.6191\n",
      "Epoch 9/500\n",
      "195/195 [==============================] - 167s 854ms/step - loss: 0.8396 - acc: 0.6574 - val_loss: 0.9690 - val_acc: 0.6318\n",
      "Epoch 10/500\n",
      "195/195 [==============================] - 190s 975ms/step - loss: 0.8321 - acc: 0.6652 - val_loss: 0.8762 - val_acc: 0.6390\n",
      "Epoch 11/500\n",
      "195/195 [==============================] - 206s 1s/step - loss: 0.8398 - acc: 0.6580 - val_loss: 0.8975 - val_acc: 0.6296\n",
      "Epoch 12/500\n",
      "195/195 [==============================] - 207s 1s/step - loss: 0.8294 - acc: 0.6643 - val_loss: 1.1362 - val_acc: 0.6325\n",
      "Epoch 13/500\n",
      "195/195 [==============================] - 217s 1s/step - loss: 0.8329 - acc: 0.6573 - val_loss: 0.8457 - val_acc: 0.6579\n",
      "Epoch 14/500\n",
      "195/195 [==============================] - 209s 1s/step - loss: 0.8221 - acc: 0.6631 - val_loss: 0.8258 - val_acc: 0.6458\n",
      "Epoch 15/500\n",
      "195/195 [==============================] - 221s 1s/step - loss: 0.8306 - acc: 0.6647 - val_loss: 0.9225 - val_acc: 0.6377\n",
      "Epoch 16/500\n",
      "195/195 [==============================] - 208s 1s/step - loss: 0.8316 - acc: 0.6627 - val_loss: 0.9889 - val_acc: 0.6387\n",
      "Epoch 17/500\n",
      "195/195 [==============================] - 176s 901ms/step - loss: 0.7344 - acc: 0.7062 - val_loss: 0.9837 - val_acc: 0.6432\n",
      "Epoch 18/500\n",
      "195/195 [==============================] - 187s 960ms/step - loss: 0.7367 - acc: 0.7035 - val_loss: 0.9238 - val_acc: 0.6426\n",
      "Epoch 19/500\n",
      "195/195 [==============================] - 216s 1s/step - loss: 0.7447 - acc: 0.6920 - val_loss: 0.9304 - val_acc: 0.6335\n",
      "Epoch 20/500\n",
      "195/195 [==============================] - 207s 1s/step - loss: 0.7554 - acc: 0.6911 - val_loss: 0.8489 - val_acc: 0.6510\n",
      "Epoch 21/500\n",
      "195/195 [==============================] - 210s 1s/step - loss: 0.7651 - acc: 0.6805 - val_loss: 0.7750 - val_acc: 0.6312\n",
      "Epoch 22/500\n",
      "195/195 [==============================] - 223s 1s/step - loss: 0.7670 - acc: 0.6888 - val_loss: 0.9451 - val_acc: 0.6449\n",
      "Epoch 23/500\n",
      "195/195 [==============================] - 214s 1s/step - loss: 0.7764 - acc: 0.6808 - val_loss: 0.9985 - val_acc: 0.6423\n",
      "Epoch 24/500\n",
      "195/195 [==============================] - 224s 1s/step - loss: 0.7714 - acc: 0.6822 - val_loss: 0.8476 - val_acc: 0.6533\n",
      "Epoch 25/500\n",
      "195/195 [==============================] - 166s 854ms/step - loss: 0.6839 - acc: 0.7221 - val_loss: 0.9607 - val_acc: 0.6491\n",
      "Epoch 26/500\n",
      "195/195 [==============================] - 192s 983ms/step - loss: 0.6942 - acc: 0.7169 - val_loss: 0.8436 - val_acc: 0.6458\n",
      "Epoch 27/500\n",
      "195/195 [==============================] - 217s 1s/step - loss: 0.7110 - acc: 0.7103 - val_loss: 1.0276 - val_acc: 0.6432\n",
      "Epoch 28/500\n",
      "195/195 [==============================] - 211s 1s/step - loss: 0.7013 - acc: 0.7119 - val_loss: 0.7862 - val_acc: 0.6455\n",
      "Epoch 29/500\n",
      "195/195 [==============================] - 210s 1s/step - loss: 0.7294 - acc: 0.6970 - val_loss: 1.0160 - val_acc: 0.6514\n",
      "Epoch 30/500\n",
      "195/195 [==============================] - 213s 1s/step - loss: 0.7274 - acc: 0.7015 - val_loss: 0.9022 - val_acc: 0.6468\n",
      "Epoch 31/500\n",
      "195/195 [==============================] - 213s 1s/step - loss: 0.7477 - acc: 0.6902 - val_loss: 0.9515 - val_acc: 0.6410\n",
      "Epoch 32/500\n",
      "195/195 [==============================] - 214s 1s/step - loss: 0.7500 - acc: 0.6885 - val_loss: 0.6443 - val_acc: 0.6364\n",
      "Epoch 33/500\n",
      "195/195 [==============================] - 171s 875ms/step - loss: 0.6548 - acc: 0.7309 - val_loss: 1.0822 - val_acc: 0.6423\n"
     ]
    },
    {
     "data": {
      "image/png": "[encoded data removed]",
      "text/plain": [
       "<Figure size 432x288 with 1 Axes>"
      ]
     },
     "metadata": {
      "needs_background": "light"
     },
     "output_type": "display_data"
    }
   ],
   "source": [
    "lemmed_gru_model = model.build_DL_model(train.PhraseLemmed, train.Sentiment, \"lemmed\", \"gru\")"
   ]
  }
 ],
 "metadata": {
  "kernelspec": {
   "display_name": "Python 3",
   "language": "python",
   "name": "python3"
  },
  "language_info": {
   "codemirror_mode": {
    "name": "ipython",
    "version": 3
   },
   "file_extension": ".py",
   "mimetype": "text/x-python",
   "name": "python",
   "nbconvert_exporter": "python",
   "pygments_lexer": "ipython3",
   "version": "3.7.4"
  }
 },
 "nbformat": 4,
 "nbformat_minor": 2
}
