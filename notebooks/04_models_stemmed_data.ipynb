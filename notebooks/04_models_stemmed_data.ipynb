{
 "cells": [
  {
   "cell_type": "markdown",
   "metadata": {},
   "source": [
    "### Import libraries"
   ]
  },
  {
   "cell_type": "code",
   "execution_count": 1,
   "metadata": {},
   "outputs": [],
   "source": [
    "import warnings\n",
    "\n",
    "import pandas as pd\n",
    "\n",
    "# Ignore warnings\n",
    "warnings.filterwarnings(\"ignore\")"
   ]
  },
  {
   "cell_type": "markdown",
   "metadata": {},
   "source": [
    "Change directories to get src code"
   ]
  },
  {
   "cell_type": "code",
   "execution_count": 2,
   "metadata": {},
   "outputs": [
    {
     "name": "stdout",
     "output_type": "stream",
     "text": [
      "C:\\Users\\15713\\Desktop\\DS Projects\\Sentiment Analysis on Movie Reviews\\sentiment-analysis-on-movie-reviews\\src\n"
     ]
    }
   ],
   "source": [
    "%cd C:\\Users\\15713\\Desktop\\DS Projects\\Sentiment Analysis on Movie Reviews\\sentiment-analysis-on-movie-reviews\\src"
   ]
  },
  {
   "cell_type": "code",
   "execution_count": 3,
   "metadata": {},
   "outputs": [
    {
     "name": "stderr",
     "output_type": "stream",
     "text": [
      "Using TensorFlow backend.\n"
     ]
    }
   ],
   "source": [
    "import model"
   ]
  },
  {
   "cell_type": "markdown",
   "metadata": {},
   "source": [
    "### Get data"
   ]
  },
  {
   "cell_type": "markdown",
   "metadata": {},
   "source": [
    "Load processed data"
   ]
  },
  {
   "cell_type": "code",
   "execution_count": 4,
   "metadata": {},
   "outputs": [],
   "source": [
    "df = pd.read_csv(\"C:\\\\Users\\\\15713\\\\Desktop\\\\DS Projects\\\\Sentiment Analysis on Movie Reviews\\\\sentiment-analysis-on-movie-reviews\\\\data\\\\processed_movie_reviews.csv\")"
   ]
  },
  {
   "cell_type": "markdown",
   "metadata": {},
   "source": [
    "Train test split the data"
   ]
  },
  {
   "cell_type": "code",
   "execution_count": 5,
   "metadata": {},
   "outputs": [],
   "source": [
    "train, test = model.get_train_test(df)"
   ]
  },
  {
   "cell_type": "markdown",
   "metadata": {},
   "source": [
    "### Build models using training data and cross-validation"
   ]
  },
  {
   "cell_type": "markdown",
   "metadata": {},
   "source": [
    "_Build ML models_"
   ]
  },
  {
   "cell_type": "code",
   "execution_count": 6,
   "metadata": {},
   "outputs": [
    {
     "name": "stdout",
     "output_type": "stream",
     "text": [
      "Best estimator:\n",
      "OneVsRestClassifier(estimator=LogisticRegression(C=10.0, class_weight=None,\n",
      "                                                 dual=False, fit_intercept=True,\n",
      "                                                 intercept_scaling=1,\n",
      "                                                 l1_ratio=None, max_iter=100,\n",
      "                                                 multi_class='auto', n_jobs=-1,\n",
      "                                                 penalty='l2',\n",
      "                                                 random_state=2374,\n",
      "                                                 solver='lbfgs', tol=0.0001,\n",
      "                                                 verbose=0, warm_start=True),\n",
      "                    n_jobs=-1)\n",
      "\n",
      "Best parameters:\n",
      "{'estimator__C': 10.0, 'estimator__solver': 'lbfgs', 'estimator__warm_start': True}\n",
      "\n",
      "Best score:\n",
      "0.8539273532194966\n",
      "\n",
      "Grid scores on training set:\n",
      "0.756 (+/-0.006) for {'estimator__C': 0.01, 'estimator__solver': 'saga', 'estimator__warm_start': True}\n",
      "0.756 (+/-0.006) for {'estimator__C': 0.01, 'estimator__solver': 'saga', 'estimator__warm_start': False}\n",
      "0.756 (+/-0.006) for {'estimator__C': 0.01, 'estimator__solver': 'sag', 'estimator__warm_start': True}\n",
      "0.756 (+/-0.006) for {'estimator__C': 0.01, 'estimator__solver': 'sag', 'estimator__warm_start': False}\n",
      "0.755 (+/-0.006) for {'estimator__C': 0.01, 'estimator__solver': 'lbfgs', 'estimator__warm_start': True}\n",
      "0.755 (+/-0.006) for {'estimator__C': 0.01, 'estimator__solver': 'lbfgs', 'estimator__warm_start': False}\n",
      "0.814 (+/-0.004) for {'estimator__C': 0.1, 'estimator__solver': 'saga', 'estimator__warm_start': True}\n",
      "0.814 (+/-0.004) for {'estimator__C': 0.1, 'estimator__solver': 'saga', 'estimator__warm_start': False}\n",
      "0.814 (+/-0.004) for {'estimator__C': 0.1, 'estimator__solver': 'sag', 'estimator__warm_start': True}\n",
      "0.814 (+/-0.004) for {'estimator__C': 0.1, 'estimator__solver': 'sag', 'estimator__warm_start': False}\n",
      "0.814 (+/-0.004) for {'estimator__C': 0.1, 'estimator__solver': 'lbfgs', 'estimator__warm_start': True}\n",
      "0.814 (+/-0.004) for {'estimator__C': 0.1, 'estimator__solver': 'lbfgs', 'estimator__warm_start': False}\n",
      "0.851 (+/-0.004) for {'estimator__C': 1.0, 'estimator__solver': 'saga', 'estimator__warm_start': True}\n",
      "0.851 (+/-0.004) for {'estimator__C': 1.0, 'estimator__solver': 'saga', 'estimator__warm_start': False}\n",
      "0.851 (+/-0.004) for {'estimator__C': 1.0, 'estimator__solver': 'sag', 'estimator__warm_start': True}\n",
      "0.851 (+/-0.004) for {'estimator__C': 1.0, 'estimator__solver': 'sag', 'estimator__warm_start': False}\n",
      "0.851 (+/-0.004) for {'estimator__C': 1.0, 'estimator__solver': 'lbfgs', 'estimator__warm_start': True}\n",
      "0.851 (+/-0.004) for {'estimator__C': 1.0, 'estimator__solver': 'lbfgs', 'estimator__warm_start': False}\n",
      "0.854 (+/-0.005) for {'estimator__C': 10.0, 'estimator__solver': 'saga', 'estimator__warm_start': True}\n",
      "0.854 (+/-0.005) for {'estimator__C': 10.0, 'estimator__solver': 'saga', 'estimator__warm_start': False}\n",
      "0.854 (+/-0.005) for {'estimator__C': 10.0, 'estimator__solver': 'sag', 'estimator__warm_start': True}\n",
      "0.854 (+/-0.005) for {'estimator__C': 10.0, 'estimator__solver': 'sag', 'estimator__warm_start': False}\n",
      "0.854 (+/-0.005) for {'estimator__C': 10.0, 'estimator__solver': 'lbfgs', 'estimator__warm_start': True}\n",
      "0.854 (+/-0.005) for {'estimator__C': 10.0, 'estimator__solver': 'lbfgs', 'estimator__warm_start': False}\n",
      "0.852 (+/-0.005) for {'estimator__C': 15.0, 'estimator__solver': 'saga', 'estimator__warm_start': True}\n",
      "0.852 (+/-0.005) for {'estimator__C': 15.0, 'estimator__solver': 'saga', 'estimator__warm_start': False}\n",
      "0.852 (+/-0.005) for {'estimator__C': 15.0, 'estimator__solver': 'sag', 'estimator__warm_start': True}\n",
      "0.852 (+/-0.005) for {'estimator__C': 15.0, 'estimator__solver': 'sag', 'estimator__warm_start': False}\n",
      "0.853 (+/-0.005) for {'estimator__C': 15.0, 'estimator__solver': 'lbfgs', 'estimator__warm_start': True}\n",
      "0.853 (+/-0.005) for {'estimator__C': 15.0, 'estimator__solver': 'lbfgs', 'estimator__warm_start': False}\n",
      "0.851 (+/-0.005) for {'estimator__C': 20.0, 'estimator__solver': 'saga', 'estimator__warm_start': True}\n",
      "0.851 (+/-0.005) for {'estimator__C': 20.0, 'estimator__solver': 'saga', 'estimator__warm_start': False}\n",
      "0.851 (+/-0.005) for {'estimator__C': 20.0, 'estimator__solver': 'sag', 'estimator__warm_start': True}\n",
      "0.851 (+/-0.005) for {'estimator__C': 20.0, 'estimator__solver': 'sag', 'estimator__warm_start': False}\n",
      "0.852 (+/-0.005) for {'estimator__C': 20.0, 'estimator__solver': 'lbfgs', 'estimator__warm_start': True}\n",
      "0.852 (+/-0.005) for {'estimator__C': 20.0, 'estimator__solver': 'lbfgs', 'estimator__warm_start': False}\n",
      "0.850 (+/-0.005) for {'estimator__C': 25.0, 'estimator__solver': 'saga', 'estimator__warm_start': True}\n",
      "0.850 (+/-0.005) for {'estimator__C': 25.0, 'estimator__solver': 'saga', 'estimator__warm_start': False}\n",
      "0.850 (+/-0.005) for {'estimator__C': 25.0, 'estimator__solver': 'sag', 'estimator__warm_start': True}\n",
      "0.850 (+/-0.005) for {'estimator__C': 25.0, 'estimator__solver': 'sag', 'estimator__warm_start': False}\n",
      "0.851 (+/-0.005) for {'estimator__C': 25.0, 'estimator__solver': 'lbfgs', 'estimator__warm_start': True}\n",
      "0.851 (+/-0.005) for {'estimator__C': 25.0, 'estimator__solver': 'lbfgs', 'estimator__warm_start': False}\n",
      "0.849 (+/-0.005) for {'estimator__C': 30.0, 'estimator__solver': 'saga', 'estimator__warm_start': True}\n",
      "0.849 (+/-0.005) for {'estimator__C': 30.0, 'estimator__solver': 'saga', 'estimator__warm_start': False}\n",
      "0.849 (+/-0.005) for {'estimator__C': 30.0, 'estimator__solver': 'sag', 'estimator__warm_start': True}\n",
      "0.849 (+/-0.005) for {'estimator__C': 30.0, 'estimator__solver': 'sag', 'estimator__warm_start': False}\n",
      "0.851 (+/-0.005) for {'estimator__C': 30.0, 'estimator__solver': 'lbfgs', 'estimator__warm_start': True}\n",
      "0.851 (+/-0.005) for {'estimator__C': 30.0, 'estimator__solver': 'lbfgs', 'estimator__warm_start': False}\n",
      "0.847 (+/-0.005) for {'estimator__C': 50.0, 'estimator__solver': 'saga', 'estimator__warm_start': True}\n",
      "0.847 (+/-0.005) for {'estimator__C': 50.0, 'estimator__solver': 'saga', 'estimator__warm_start': False}\n",
      "0.847 (+/-0.005) for {'estimator__C': 50.0, 'estimator__solver': 'sag', 'estimator__warm_start': True}\n",
      "0.847 (+/-0.005) for {'estimator__C': 50.0, 'estimator__solver': 'sag', 'estimator__warm_start': False}\n",
      "0.850 (+/-0.005) for {'estimator__C': 50.0, 'estimator__solver': 'lbfgs', 'estimator__warm_start': True}\n",
      "0.850 (+/-0.005) for {'estimator__C': 50.0, 'estimator__solver': 'lbfgs', 'estimator__warm_start': False}\n",
      "0.844 (+/-0.005) for {'estimator__C': 100.0, 'estimator__solver': 'saga', 'estimator__warm_start': True}\n",
      "0.844 (+/-0.005) for {'estimator__C': 100.0, 'estimator__solver': 'saga', 'estimator__warm_start': False}\n",
      "0.844 (+/-0.005) for {'estimator__C': 100.0, 'estimator__solver': 'sag', 'estimator__warm_start': True}\n",
      "0.844 (+/-0.005) for {'estimator__C': 100.0, 'estimator__solver': 'sag', 'estimator__warm_start': False}\n",
      "0.849 (+/-0.004) for {'estimator__C': 100.0, 'estimator__solver': 'lbfgs', 'estimator__warm_start': True}\n",
      "0.849 (+/-0.004) for {'estimator__C': 100.0, 'estimator__solver': 'lbfgs', 'estimator__warm_start': False}\n",
      "\n"
     ]
    }
   ],
   "source": [
    "stemmed_logistic_model = model.build_ML_model(train.PhraseStemmed, train.Sentiment, \"stemmed\", \"logistic\")"
   ]
  },
  {
   "cell_type": "code",
   "execution_count": 7,
   "metadata": {
    "scrolled": false
   },
   "outputs": [
    {
     "name": "stdout",
     "output_type": "stream",
     "text": [
      "Best estimator:\n",
      "OneVsRestClassifier(estimator=DecisionTreeClassifier(ccp_alpha=0.0,\n",
      "                                                     class_weight=None,\n",
      "                                                     criterion='gini',\n",
      "                                                     max_depth=None,\n",
      "                                                     max_features='sqrt',\n",
      "                                                     max_leaf_nodes=None,\n",
      "                                                     min_impurity_decrease=0.0,\n",
      "                                                     min_impurity_split=None,\n",
      "                                                     min_samples_leaf=5,\n",
      "                                                     min_samples_split=10,\n",
      "                                                     min_weight_fraction_leaf=0.0,\n",
      "                                                     presort='deprecated',\n",
      "                                                     random_state=8743,\n",
      "                                                     splitter='best'),\n",
      "                    n_jobs=-1)\n",
      "\n",
      "Best parameters:\n",
      "{'estimator__class_weight': None, 'estimator__criterion': 'gini', 'estimator__max_features': 'sqrt', 'estimator__min_samples_split': 10}\n",
      "\n",
      "Best score:\n",
      "0.7596899862363807\n",
      "\n",
      "Grid scores on training set:\n",
      "0.707 (+/-0.006) for {'estimator__class_weight': 'balanced', 'estimator__criterion': 'gini', 'estimator__max_features': None, 'estimator__min_samples_split': 10}\n",
      "0.722 (+/-0.007) for {'estimator__class_weight': 'balanced', 'estimator__criterion': 'gini', 'estimator__max_features': None, 'estimator__min_samples_split': 25}\n",
      "0.751 (+/-0.007) for {'estimator__class_weight': 'balanced', 'estimator__criterion': 'gini', 'estimator__max_features': 'sqrt', 'estimator__min_samples_split': 10}\n",
      "0.751 (+/-0.008) for {'estimator__class_weight': 'balanced', 'estimator__criterion': 'gini', 'estimator__max_features': 'sqrt', 'estimator__min_samples_split': 25}\n",
      "0.702 (+/-0.005) for {'estimator__class_weight': 'balanced', 'estimator__criterion': 'entropy', 'estimator__max_features': None, 'estimator__min_samples_split': 10}\n",
      "0.716 (+/-0.005) for {'estimator__class_weight': 'balanced', 'estimator__criterion': 'entropy', 'estimator__max_features': None, 'estimator__min_samples_split': 25}\n",
      "0.752 (+/-0.008) for {'estimator__class_weight': 'balanced', 'estimator__criterion': 'entropy', 'estimator__max_features': 'sqrt', 'estimator__min_samples_split': 10}\n",
      "0.752 (+/-0.006) for {'estimator__class_weight': 'balanced', 'estimator__criterion': 'entropy', 'estimator__max_features': 'sqrt', 'estimator__min_samples_split': 25}\n",
      "0.727 (+/-0.006) for {'estimator__class_weight': None, 'estimator__criterion': 'gini', 'estimator__max_features': None, 'estimator__min_samples_split': 10}\n",
      "0.741 (+/-0.006) for {'estimator__class_weight': None, 'estimator__criterion': 'gini', 'estimator__max_features': None, 'estimator__min_samples_split': 25}\n",
      "0.760 (+/-0.008) for {'estimator__class_weight': None, 'estimator__criterion': 'gini', 'estimator__max_features': 'sqrt', 'estimator__min_samples_split': 10}\n",
      "0.759 (+/-0.007) for {'estimator__class_weight': None, 'estimator__criterion': 'gini', 'estimator__max_features': 'sqrt', 'estimator__min_samples_split': 25}\n",
      "0.711 (+/-0.005) for {'estimator__class_weight': None, 'estimator__criterion': 'entropy', 'estimator__max_features': None, 'estimator__min_samples_split': 10}\n",
      "0.724 (+/-0.006) for {'estimator__class_weight': None, 'estimator__criterion': 'entropy', 'estimator__max_features': None, 'estimator__min_samples_split': 25}\n",
      "0.755 (+/-0.008) for {'estimator__class_weight': None, 'estimator__criterion': 'entropy', 'estimator__max_features': 'sqrt', 'estimator__min_samples_split': 10}\n",
      "0.754 (+/-0.006) for {'estimator__class_weight': None, 'estimator__criterion': 'entropy', 'estimator__max_features': 'sqrt', 'estimator__min_samples_split': 25}\n",
      "\n"
     ]
    }
   ],
   "source": [
    "stemmed_decision_tree_model = model.build_ML_model(train.PhraseStemmed, train.Sentiment, \"stemmed\", \"decision_tree\")"
   ]
  },
  {
   "cell_type": "code",
   "execution_count": 8,
   "metadata": {},
   "outputs": [
    {
     "name": "stdout",
     "output_type": "stream",
     "text": [
      "Best estimator:\n",
      "OneVsRestClassifier(estimator=RandomForestClassifier(bootstrap=True,\n",
      "                                                     ccp_alpha=0.0,\n",
      "                                                     class_weight=None,\n",
      "                                                     criterion='entropy',\n",
      "                                                     max_depth=None,\n",
      "                                                     max_features='sqrt',\n",
      "                                                     max_leaf_nodes=None,\n",
      "                                                     max_samples=None,\n",
      "                                                     min_impurity_decrease=0.0,\n",
      "                                                     min_impurity_split=None,\n",
      "                                                     min_samples_leaf=5,\n",
      "                                                     min_samples_split=10,\n",
      "                                                     min_weight_fraction_leaf=0.0,\n",
      "                                                     n_estimators=100,\n",
      "                                                     n_jobs=-1, oob_score=False,\n",
      "                                                     random_state=2947,\n",
      "                                                     verbose=0,\n",
      "                                                     warm_start=False),\n",
      "                    n_jobs=-1)\n",
      "\n",
      "Best parameters:\n",
      "{'estimator__class_weight': None, 'estimator__criterion': 'entropy', 'estimator__min_samples_split': 10}\n",
      "\n",
      "Best score:\n",
      "0.834237588911725\n",
      "\n",
      "Grid scores on training set:\n",
      "0.824 (+/-0.001) for {'estimator__class_weight': 'balanced', 'estimator__criterion': 'gini', 'estimator__min_samples_split': 10}\n",
      "0.824 (+/-0.001) for {'estimator__class_weight': 'balanced', 'estimator__criterion': 'gini', 'estimator__min_samples_split': 25}\n",
      "0.826 (+/-0.001) for {'estimator__class_weight': 'balanced', 'estimator__criterion': 'entropy', 'estimator__min_samples_split': 10}\n",
      "0.826 (+/-0.001) for {'estimator__class_weight': 'balanced', 'estimator__criterion': 'entropy', 'estimator__min_samples_split': 25}\n",
      "0.834 (+/-0.001) for {'estimator__class_weight': None, 'estimator__criterion': 'gini', 'estimator__min_samples_split': 10}\n",
      "0.834 (+/-0.001) for {'estimator__class_weight': None, 'estimator__criterion': 'gini', 'estimator__min_samples_split': 25}\n",
      "0.834 (+/-0.001) for {'estimator__class_weight': None, 'estimator__criterion': 'entropy', 'estimator__min_samples_split': 10}\n",
      "0.834 (+/-0.001) for {'estimator__class_weight': None, 'estimator__criterion': 'entropy', 'estimator__min_samples_split': 25}\n",
      "\n"
     ]
    }
   ],
   "source": [
    "stemmed_random_forest_model = model.build_ML_model(train.PhraseStemmed, train.Sentiment, \"stemmed\", \"random_forest\", 5)"
   ]
  },
  {
   "cell_type": "markdown",
   "metadata": {},
   "source": [
    "_Build DL models_"
   ]
  },
  {
   "cell_type": "code",
   "execution_count": null,
   "metadata": {},
   "outputs": [],
   "source": [
    "stemmed_ann_model = model.build_DL_model(train.PhraseStemmed, train.Sentiment, \"stemmed\", \"ann\")"
   ]
  },
  {
   "cell_type": "code",
   "execution_count": 6,
   "metadata": {},
   "outputs": [
    {
     "name": "stdout",
     "output_type": "stream",
     "text": [
      "Model: \"sequential_1\"\n",
      "_________________________________________________________________\n",
      "Layer (type)                 Output Shape              Param #   \n",
      "=================================================================\n",
      "simple_rnn_1 (SimpleRNN)     (None, 32)                352704    \n",
      "_________________________________________________________________\n",
      "dense_2 (Dense)              (None, 5)                 165       \n",
      "=================================================================\n",
      "Total params: 352,869\n",
      "Trainable params: 352,869\n",
      "Non-trainable params: 0\n",
      "_________________________________________________________________\n",
      "Epoch 1/500\n",
      "195/195 [==============================] - 188s 963ms/step - loss: 1.3520 - acc: 0.5059 - val_loss: 1.2475 - val_acc: 0.5176\n",
      "Epoch 2/500\n",
      "195/195 [==============================] - 177s 910ms/step - loss: 1.1998 - acc: 0.5094 - val_loss: 1.2467 - val_acc: 0.5397\n",
      "Epoch 3/500\n",
      "195/195 [==============================] - 176s 901ms/step - loss: 1.1080 - acc: 0.5531 - val_loss: 1.1768 - val_acc: 0.5719\n",
      "Epoch 4/500\n",
      "195/195 [==============================] - 175s 898ms/step - loss: 1.0493 - acc: 0.5770 - val_loss: 1.0922 - val_acc: 0.5765\n",
      "Epoch 5/500\n",
      "195/195 [==============================] - 176s 902ms/step - loss: 1.0135 - acc: 0.5873 - val_loss: 0.9674 - val_acc: 0.6156\n",
      "Epoch 6/500\n",
      "195/195 [==============================] - 176s 903ms/step - loss: 0.9726 - acc: 0.6004 - val_loss: 0.9553 - val_acc: 0.6035\n",
      "Epoch 7/500\n",
      "195/195 [==============================] - 175s 898ms/step - loss: 0.9368 - acc: 0.6211 - val_loss: 1.0847 - val_acc: 0.6237\n",
      "Epoch 8/500\n",
      "195/195 [==============================] - 162s 830ms/step - loss: 0.9267 - acc: 0.6205 - val_loss: 0.9282 - val_acc: 0.6068\n",
      "Epoch 9/500\n",
      "195/195 [==============================] - 122s 625ms/step - loss: 0.8325 - acc: 0.6578 - val_loss: 1.0172 - val_acc: 0.6302\n",
      "Epoch 10/500\n",
      "195/195 [==============================] - 130s 668ms/step - loss: 0.8292 - acc: 0.6599 - val_loss: 0.9895 - val_acc: 0.6211\n",
      "Epoch 11/500\n",
      "195/195 [==============================] - 138s 709ms/step - loss: 0.8427 - acc: 0.6569 - val_loss: 0.9654 - val_acc: 0.6315\n",
      "Epoch 12/500\n",
      "195/195 [==============================] - 133s 680ms/step - loss: 0.8375 - acc: 0.6601 - val_loss: 0.8046 - val_acc: 0.6364\n",
      "Epoch 13/500\n",
      "195/195 [==============================] - 133s 681ms/step - loss: 0.8478 - acc: 0.6526 - val_loss: 0.9834 - val_acc: 0.6335\n",
      "Epoch 14/500\n",
      "195/195 [==============================] - 128s 657ms/step - loss: 0.8420 - acc: 0.6570 - val_loss: 0.7421 - val_acc: 0.6367\n",
      "Epoch 15/500\n",
      "195/195 [==============================] - 128s 654ms/step - loss: 0.8431 - acc: 0.6575 - val_loss: 0.7434 - val_acc: 0.6390\n",
      "Epoch 16/500\n",
      "195/195 [==============================] - 221s 1s/step - loss: 0.8544 - acc: 0.6466 - val_loss: 0.8058 - val_acc: 0.6475\n",
      "Epoch 17/500\n",
      "195/195 [==============================] - 172s 882ms/step - loss: 0.7521 - acc: 0.6922 - val_loss: 0.8635 - val_acc: 0.6403\n",
      "Epoch 18/500\n",
      "195/195 [==============================] - 177s 910ms/step - loss: 0.7729 - acc: 0.6825 - val_loss: 0.7871 - val_acc: 0.6387\n",
      "Epoch 19/500\n",
      "195/195 [==============================] - 179s 916ms/step - loss: 0.7760 - acc: 0.6825 - val_loss: 0.9340 - val_acc: 0.6423\n",
      "Epoch 20/500\n",
      "195/195 [==============================] - 180s 926ms/step - loss: 0.7846 - acc: 0.6780 - val_loss: 0.7547 - val_acc: 0.6341\n",
      "Epoch 21/500\n",
      "195/195 [==============================] - 180s 923ms/step - loss: 0.7872 - acc: 0.6753 - val_loss: 0.8344 - val_acc: 0.6370\n",
      "Epoch 22/500\n",
      "195/195 [==============================] - 181s 926ms/step - loss: 0.7970 - acc: 0.6696 - val_loss: 0.9418 - val_acc: 0.6325\n",
      "Epoch 23/500\n",
      "195/195 [==============================] - 180s 923ms/step - loss: 0.7997 - acc: 0.6724 - val_loss: 0.7100 - val_acc: 0.6445\n",
      "Epoch 24/500\n",
      "195/195 [==============================] - 179s 919ms/step - loss: 0.7887 - acc: 0.6719 - val_loss: 0.7698 - val_acc: 0.6400\n",
      "Epoch 25/500\n",
      "195/195 [==============================] - 148s 760ms/step - loss: 0.7156 - acc: 0.7037 - val_loss: 0.9826 - val_acc: 0.6361\n",
      "Epoch 26/500\n",
      "195/195 [==============================] - 165s 846ms/step - loss: 0.7366 - acc: 0.6916 - val_loss: 0.8969 - val_acc: 0.6270\n",
      "Epoch 27/500\n",
      "195/195 [==============================] - 178s 913ms/step - loss: 0.7366 - acc: 0.6936 - val_loss: 0.7050 - val_acc: 0.6292\n",
      "Epoch 28/500\n",
      "195/195 [==============================] - 181s 930ms/step - loss: 0.7558 - acc: 0.6877 - val_loss: 0.8162 - val_acc: 0.6331\n",
      "Epoch 29/500\n",
      "195/195 [==============================] - 179s 918ms/step - loss: 0.7625 - acc: 0.6788 - val_loss: 0.7609 - val_acc: 0.6455\n",
      "Epoch 30/500\n",
      "195/195 [==============================] - 180s 922ms/step - loss: 0.7708 - acc: 0.6812 - val_loss: 0.9623 - val_acc: 0.6273\n",
      "Epoch 31/500\n",
      "195/195 [==============================] - 179s 919ms/step - loss: 0.7723 - acc: 0.6816 - val_loss: 0.9697 - val_acc: 0.6383\n",
      "Epoch 32/500\n",
      "195/195 [==============================] - 179s 917ms/step - loss: 0.7753 - acc: 0.6786 - val_loss: 0.9259 - val_acc: 0.6426\n",
      "Epoch 33/500\n",
      "195/195 [==============================] - 167s 857ms/step - loss: 0.6890 - acc: 0.7131 - val_loss: 0.9691 - val_acc: 0.6328\n",
      "Epoch 34/500\n",
      "195/195 [==============================] - 185s 948ms/step - loss: 0.7151 - acc: 0.7059 - val_loss: 0.9987 - val_acc: 0.6393\n",
      "Epoch 35/500\n",
      "195/195 [==============================] - 193s 992ms/step - loss: 0.7259 - acc: 0.6961 - val_loss: 0.9626 - val_acc: 0.6445\n",
      "Epoch 36/500\n",
      "195/195 [==============================] - 195s 999ms/step - loss: 0.7376 - acc: 0.6939 - val_loss: 0.6949 - val_acc: 0.6449\n"
     ]
    },
    {
     "data": {
      "image/png": "[encoded data removed]",
      "text/plain": [
       "<Figure size 432x288 with 1 Axes>"
      ]
     },
     "metadata": {
      "needs_background": "light"
     },
     "output_type": "display_data"
    }
   ],
   "source": [
    "stemmed_rnn_model = model.build_DL_model(train.PhraseStemmed, train.Sentiment, \"stemmed\", \"rnn\")"
   ]
  },
  {
   "cell_type": "code",
   "execution_count": null,
   "metadata": {},
   "outputs": [],
   "source": [
    "stemmed_lstm_model = model.build_DL_model(train.PhraseStemmed, train.Sentiment, \"stemmed\", \"lstm\")"
   ]
  },
  {
   "cell_type": "code",
   "execution_count": null,
   "metadata": {},
   "outputs": [],
   "source": [
    "stemmed_gru_model = model.build_DL_model(train.PhraseStemmed, train.Sentiment, \"stemmed\", \"gru\")"
   ]
  }
 ],
 "metadata": {
  "kernelspec": {
   "display_name": "Python 3",
   "language": "python",
   "name": "python3"
  },
  "language_info": {
   "codemirror_mode": {
    "name": "ipython",
    "version": 3
   },
   "file_extension": ".py",
   "mimetype": "text/x-python",
   "name": "python",
   "nbconvert_exporter": "python",
   "pygments_lexer": "ipython3",
   "version": "3.7.4"
  }
 },
 "nbformat": 4,
 "nbformat_minor": 2
}
